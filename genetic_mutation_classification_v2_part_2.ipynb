{
  "nbformat": 4,
  "nbformat_minor": 0,
  "metadata": {
    "colab": {
      "name": "genetic_mutation_classification_v2 part 2",
      "provenance": [],
      "authorship_tag": "ABX9TyNwY74uTWwuULRbHDWnEGay",
      "include_colab_link": true
    },
    "kernelspec": {
      "name": "python3",
      "display_name": "Python 3"
    },
    "accelerator": "TPU"
  },
  "cells": [
    {
      "cell_type": "markdown",
      "metadata": {
        "id": "view-in-github",
        "colab_type": "text"
      },
      "source": [
        "<a href=\"https://colab.research.google.com/github/piyush5566/ML_Projects/blob/master/genetic_mutation_classification_v2_part_2.ipynb\" target=\"_parent\"><img src=\"https://colab.research.google.com/assets/colab-badge.svg\" alt=\"Open In Colab\"/></a>"
      ]
    },
    {
      "cell_type": "code",
      "metadata": {
        "id": "ZTO41IGCnA-b",
        "colab_type": "code",
        "colab": {}
      },
      "source": [
        "\n",
        "import numpy as np\n",
        "import pandas as pd\n",
        "from sklearn.feature_extraction.text import TfidfVectorizer\n",
        "from sklearn.model_selection import train_test_split\n",
        "from nltk.corpus import stopwords\n",
        "import re"
      ],
      "execution_count": 0,
      "outputs": []
    },
    {
      "cell_type": "code",
      "metadata": {
        "id": "uqX9AasDnLxK",
        "colab_type": "code",
        "colab": {}
      },
      "source": [
        "# Loading training_variants. Its a comma seperated file\n",
        "data_variants = pd.read_csv('Variants_data')\n",
        "# Loading training_text dataset. This is seperated by ||\n",
        "data_text =pd.read_csv(\"Text_data\",sep=\"\\|\\|\",engine=\"python\",names=[\"ID\",\"TEXT\"],skiprows=1)"
      ],
      "execution_count": 0,
      "outputs": []
    },
    {
      "cell_type": "code",
      "metadata": {
        "id": "qWdA_FkMnd4X",
        "colab_type": "code",
        "outputId": "df9a15e9-b8ed-4bc4-c2bb-874ad425128f",
        "colab": {
          "base_uri": "https://localhost:8080/",
          "height": 52
        }
      },
      "source": [
        "# We would like to remove all stop words like a, is, an, the, ... \n",
        "# so we collecting all of them from nltk library\n",
        "import nltk\n",
        "nltk.download('stopwords')\n",
        "stop_words = set(stopwords.words('english'))"
      ],
      "execution_count": 0,
      "outputs": [
        {
          "output_type": "stream",
          "text": [
            "[nltk_data] Downloading package stopwords to /root/nltk_data...\n",
            "[nltk_data]   Package stopwords is already up-to-date!\n"
          ],
          "name": "stdout"
        }
      ]
    },
    {
      "cell_type": "code",
      "metadata": {
        "id": "qSGdX8DensxB",
        "colab_type": "code",
        "colab": {}
      },
      "source": [
        "\n",
        "def data_text_preprocess(total_text, ind, col):\n",
        "    # Remove int values from text data as that might not be imp\n",
        "    if type(total_text) is not int:\n",
        "        string = \"\"\n",
        "        # replacing all special char with space\n",
        "        total_text = re.sub('[^a-zA-Z0-9\\n]', ' ', str(total_text))\n",
        "        # replacing multiple spaces with single space\n",
        "        total_text = re.sub('\\s+',' ', str(total_text))\n",
        "        # bring whole text to same lower-case scale.\n",
        "        total_text = total_text.lower()\n",
        "        \n",
        "        for word in total_text.split():\n",
        "        # if the word is a not a stop word then retain that word from text\n",
        "            if not word in stop_words:\n",
        "                string += word + \" \"\n",
        "        \n",
        "        data_text[col][ind] = string"
      ],
      "execution_count": 0,
      "outputs": []
    },
    {
      "cell_type": "code",
      "metadata": {
        "id": "MnjPQ-c0nvkx",
        "colab_type": "code",
        "outputId": "fbf731e4-6ac0-4434-a7e2-f6f63370b789",
        "colab": {
          "base_uri": "https://localhost:8080/",
          "height": 107
        }
      },
      "source": [
        "# Below code will take some time because its huge text (took 4 minute on my 16 GB RAM system), so run it and have a cup of coffee :)\n",
        "for index, row in data_text.iterrows():\n",
        "    if type(row['TEXT']) is str:\n",
        "        data_text_preprocess(row['TEXT'], index, 'TEXT')"
      ],
      "execution_count": 0,
      "outputs": [
        {
          "output_type": "stream",
          "text": [
            "/usr/local/lib/python3.6/dist-packages/ipykernel_launcher.py:18: SettingWithCopyWarning: \n",
            "A value is trying to be set on a copy of a slice from a DataFrame\n",
            "\n",
            "See the caveats in the documentation: http://pandas.pydata.org/pandas-docs/stable/user_guide/indexing.html#returning-a-view-versus-a-copy\n"
          ],
          "name": "stderr"
        }
      ]
    },
    {
      "cell_type": "code",
      "metadata": {
        "id": "uQWjwV5InzXq",
        "colab_type": "code",
        "outputId": "a3e4408a-24e8-4e10-9a6f-64762f6645f3",
        "colab": {
          "base_uri": "https://localhost:8080/",
          "height": 202
        }
      },
      "source": [
        "#merging both gene_variations and text data based on ID\n",
        "result = pd.merge(data_variants, data_text,on='ID', how='left')\n",
        "result.head()"
      ],
      "execution_count": 0,
      "outputs": [
        {
          "output_type": "execute_result",
          "data": {
            "text/html": [
              "<div>\n",
              "<style scoped>\n",
              "    .dataframe tbody tr th:only-of-type {\n",
              "        vertical-align: middle;\n",
              "    }\n",
              "\n",
              "    .dataframe tbody tr th {\n",
              "        vertical-align: top;\n",
              "    }\n",
              "\n",
              "    .dataframe thead th {\n",
              "        text-align: right;\n",
              "    }\n",
              "</style>\n",
              "<table border=\"1\" class=\"dataframe\">\n",
              "  <thead>\n",
              "    <tr style=\"text-align: right;\">\n",
              "      <th></th>\n",
              "      <th>ID</th>\n",
              "      <th>Gene</th>\n",
              "      <th>Variation</th>\n",
              "      <th>Class</th>\n",
              "      <th>TEXT</th>\n",
              "    </tr>\n",
              "  </thead>\n",
              "  <tbody>\n",
              "    <tr>\n",
              "      <th>0</th>\n",
              "      <td>0</td>\n",
              "      <td>FAM58A</td>\n",
              "      <td>Truncating Mutations</td>\n",
              "      <td>1</td>\n",
              "      <td>cyclin dependent kinases cdks regulate variety...</td>\n",
              "    </tr>\n",
              "    <tr>\n",
              "      <th>1</th>\n",
              "      <td>1</td>\n",
              "      <td>CBL</td>\n",
              "      <td>W802*</td>\n",
              "      <td>2</td>\n",
              "      <td>abstract background non small cell lung cancer...</td>\n",
              "    </tr>\n",
              "    <tr>\n",
              "      <th>2</th>\n",
              "      <td>2</td>\n",
              "      <td>CBL</td>\n",
              "      <td>Q249E</td>\n",
              "      <td>2</td>\n",
              "      <td>abstract background non small cell lung cancer...</td>\n",
              "    </tr>\n",
              "    <tr>\n",
              "      <th>3</th>\n",
              "      <td>3</td>\n",
              "      <td>CBL</td>\n",
              "      <td>N454D</td>\n",
              "      <td>3</td>\n",
              "      <td>recent evidence demonstrated acquired uniparen...</td>\n",
              "    </tr>\n",
              "    <tr>\n",
              "      <th>4</th>\n",
              "      <td>4</td>\n",
              "      <td>CBL</td>\n",
              "      <td>L399V</td>\n",
              "      <td>4</td>\n",
              "      <td>oncogenic mutations monomeric casitas b lineag...</td>\n",
              "    </tr>\n",
              "  </tbody>\n",
              "</table>\n",
              "</div>"
            ],
            "text/plain": [
              "   ID    Gene  ... Class                                               TEXT\n",
              "0   0  FAM58A  ...     1  cyclin dependent kinases cdks regulate variety...\n",
              "1   1     CBL  ...     2  abstract background non small cell lung cancer...\n",
              "2   2     CBL  ...     2  abstract background non small cell lung cancer...\n",
              "3   3     CBL  ...     3  recent evidence demonstrated acquired uniparen...\n",
              "4   4     CBL  ...     4  oncogenic mutations monomeric casitas b lineag...\n",
              "\n",
              "[5 rows x 5 columns]"
            ]
          },
          "metadata": {
            "tags": []
          },
          "execution_count": 69
        }
      ]
    },
    {
      "cell_type": "code",
      "metadata": {
        "id": "zUAYeKhun395",
        "colab_type": "code",
        "colab": {}
      },
      "source": [
        "result.loc[result['TEXT'].isnull(),'TEXT'] = result['Gene'] +' '+result['Variation']"
      ],
      "execution_count": 0,
      "outputs": []
    },
    {
      "cell_type": "code",
      "metadata": {
        "id": "Okzq-HZhn7UT",
        "colab_type": "code",
        "colab": {}
      },
      "source": [
        "y_true = result['Class'].values\n",
        "result.Gene      = result.Gene.str.replace('\\s+', '_')\n",
        "result.Variation = result.Variation.str.replace('\\s+', '_')\n",
        "result=result.drop(columns=['Class','ID'])"
      ],
      "execution_count": 0,
      "outputs": []
    },
    {
      "cell_type": "code",
      "metadata": {
        "id": "9xf7XGLe5uq4",
        "colab_type": "code",
        "colab": {}
      },
      "source": [
        "# Splitting the data into train and test set \n",
        "X_train, test_df, y_train, y_test = train_test_split(result, y_true, stratify=y_true, test_size=0.2)\n",
        "# split the train data now into train validation and cross validation\n",
        "train_df, cv_df, y_train, y_cv = train_test_split(X_train, y_train, stratify=y_train, test_size=0.2)\n",
        "\n"
      ],
      "execution_count": 0,
      "outputs": []
    },
    {
      "cell_type": "code",
      "metadata": {
        "id": "uLeSaNN87N4t",
        "colab_type": "code",
        "outputId": "35a6bfd8-7638-4cd1-afb5-f70e84a8d3b2",
        "colab": {
          "base_uri": "https://localhost:8080/",
          "height": 35
        }
      },
      "source": [
        "print(train_df.shape,y_train.shape)"
      ],
      "execution_count": 0,
      "outputs": [
        {
          "output_type": "stream",
          "text": [
            "(2124, 3) (2124,)\n"
          ],
          "name": "stdout"
        }
      ]
    },
    {
      "cell_type": "code",
      "metadata": {
        "id": "WK5c1XXeoOUn",
        "colab_type": "code",
        "colab": {}
      },
      "source": [
        "from sklearn.feature_extraction.text import TfidfVectorizer\n",
        "# one-hot encoding of Gene feature.\n",
        "\n",
        "#gene_vectorizer = CountVectorizer()\n",
        "#gene_feature_onehotCoding = gene_vectorizer.fit_transform(result['Gene'])\n",
        "#gene_feature_onehotCoding.shape\n",
        "gene_vectorizer = TfidfVectorizer()\n",
        "train_gene_feature_TFIDF=gene_vectorizer.fit_transform(train_df['Gene'])\n",
        "\n",
        "cv_gene_feature_TFIDF=gene_vectorizer.transform(cv_df['Gene'])\n",
        "test_gene_feature_TFIDF=gene_vectorizer.transform(test_df['Gene'])"
      ],
      "execution_count": 0,
      "outputs": []
    },
    {
      "cell_type": "code",
      "metadata": {
        "id": "K0lsnokZoap9",
        "colab_type": "code",
        "colab": {}
      },
      "source": [
        "# one-hot encoding of variation feature.\n",
        "#variation_vectorizer = CountVectorizer()\n",
        "#variation_feature_onehotCoding = variation_vectorizer.fit_transform(result['Variation'])\n",
        "\n",
        "var_vectorizer = TfidfVectorizer()\n",
        "train_variation_feature_TFIDF=var_vectorizer.fit_transform(train_df['Variation'])\n",
        "cv_variation_feature_TFIDF=var_vectorizer.transform(cv_df['Variation'])\n",
        "test_variation_feature_TFIDF=var_vectorizer.transform(test_df['Variation'])"
      ],
      "execution_count": 0,
      "outputs": []
    },
    {
      "cell_type": "code",
      "metadata": {
        "id": "Vf6aQTjZoes3",
        "colab_type": "code",
        "colab": {}
      },
      "source": [
        "from sklearn.preprocessing import normalize\n",
        "text_vectorizer = TfidfVectorizer()\n",
        "train_text_feature_TFIDF=text_vectorizer.fit_transform(train_df['TEXT'])\n",
        "train_text_feature_TFIDF=normalize(train_text_feature_TFIDF,axis=0)\n",
        "\n",
        "cv_text_feature_TFIDF=text_vectorizer.transform(cv_df['TEXT'])\n",
        "cv_text_feature_TFIDF=normalize(cv_text_feature_TFIDF,axis=0)\n",
        "\n",
        "test_text_feature_TFIDF=text_vectorizer.transform(test_df['TEXT'])\n",
        "test_text_feature_TFIDF=normalize(test_text_feature_TFIDF,axis=0)\n"
      ],
      "execution_count": 0,
      "outputs": []
    },
    {
      "cell_type": "code",
      "metadata": {
        "id": "eWpHn8r0ohtR",
        "colab_type": "code",
        "colab": {}
      },
      "source": [
        "train_gene_var_TFIDF = np.hstack((train_gene_feature_TFIDF.toarray(),train_variation_feature_TFIDF.toarray()))\n",
        "\n",
        "train_x_TFIDF = np.hstack((train_gene_var_TFIDF, train_text_feature_TFIDF.toarray()))\n",
        "\n",
        "cv_gene_var_TFIDF = np.hstack((cv_gene_feature_TFIDF.toarray(),cv_variation_feature_TFIDF.toarray()))\n",
        "\n",
        "cv_x_TFIDF = np.hstack((cv_gene_var_TFIDF, cv_text_feature_TFIDF.toarray()))\n",
        "\n",
        "test_gene_var_TFIDF = np.hstack((test_gene_feature_TFIDF.toarray(),test_variation_feature_TFIDF.toarray()))\n",
        "\n",
        "test_x_TFIDF = np.hstack((test_gene_var_TFIDF, test_text_feature_TFIDF.toarray()))"
      ],
      "execution_count": 0,
      "outputs": []
    },
    {
      "cell_type": "code",
      "metadata": {
        "id": "2KpHcxhZ6uRy",
        "colab_type": "code",
        "outputId": "a786436b-2a9d-440b-d67e-b1442a9979e6",
        "colab": {
          "base_uri": "https://localhost:8080/",
          "height": 35
        }
      },
      "source": [
        "train_x_TFIDF.shape"
      ],
      "execution_count": 0,
      "outputs": [
        {
          "output_type": "execute_result",
          "data": {
            "text/plain": [
              "(2124, 26463)"
            ]
          },
          "metadata": {
            "tags": []
          },
          "execution_count": 78
        }
      ]
    },
    {
      "cell_type": "markdown",
      "metadata": {
        "id": "o0QAr8tQ_6Np",
        "colab_type": "text"
      },
      "source": [
        "TFIDF + RANDOM OVERSAMPLER + XGBOOST"
      ]
    },
    {
      "cell_type": "code",
      "metadata": {
        "id": "6dgsmwJc6AO4",
        "colab_type": "code",
        "outputId": "90c3de3c-0291-4c52-a2c7-74edcb307162",
        "colab": {
          "base_uri": "https://localhost:8080/",
          "height": 89
        }
      },
      "source": [
        "from imblearn.over_sampling import RandomOverSampler\n",
        "\n",
        "ros = RandomOverSampler()\n",
        "train_X_ros, train_y_ros = ros.fit_sample(train_x_TFIDF, y_train)\n",
        "\n",
        "train_X_ros.shape\n"
      ],
      "execution_count": 0,
      "outputs": [
        {
          "output_type": "stream",
          "text": [
            "/usr/local/lib/python3.6/dist-packages/sklearn/utils/deprecation.py:87: FutureWarning: Function safe_indexing is deprecated; safe_indexing is deprecated in version 0.22 and will be removed in version 0.24.\n",
            "  warnings.warn(msg, category=FutureWarning)\n"
          ],
          "name": "stderr"
        },
        {
          "output_type": "execute_result",
          "data": {
            "text/plain": [
              "(5481, 26463)"
            ]
          },
          "metadata": {
            "tags": []
          },
          "execution_count": 79
        }
      ]
    },
    {
      "cell_type": "code",
      "metadata": {
        "id": "eUiEh0vK6FlH",
        "colab_type": "code",
        "outputId": "57b1ff84-5d98-4aac-8606-76a36dfdae11",
        "colab": {
          "base_uri": "https://localhost:8080/",
          "height": 191
        }
      },
      "source": [
        "df_y=pd.Series(train_y_ros,name='Class')\n",
        "df_y.value_counts().sort_index()"
      ],
      "execution_count": 0,
      "outputs": [
        {
          "output_type": "execute_result",
          "data": {
            "text/plain": [
              "1    609\n",
              "2    609\n",
              "3    609\n",
              "4    609\n",
              "5    609\n",
              "6    609\n",
              "7    609\n",
              "8    609\n",
              "9    609\n",
              "Name: Class, dtype: int64"
            ]
          },
          "metadata": {
            "tags": []
          },
          "execution_count": 80
        }
      ]
    },
    {
      "cell_type": "code",
      "metadata": {
        "id": "rdCa-0ul8Ghf",
        "colab_type": "code",
        "colab": {}
      },
      "source": [
        "import xgboost as xgb\n",
        "#dtrain = xgb.DMatrix(X_train, label=y_train)\n",
        "#dcv=xgb.DMatrix(X_cv,label=y_cv)\n"
      ],
      "execution_count": 0,
      "outputs": []
    },
    {
      "cell_type": "code",
      "metadata": {
        "id": "r3OMBkIe8LIS",
        "colab_type": "code",
        "outputId": "fdd0541d-3300-4d9f-ad9c-401594953fd9",
        "colab": {
          "base_uri": "https://localhost:8080/",
          "height": 1000
        }
      },
      "source": [
        "\n",
        "from sklearn.metrics.classification import accuracy_score, log_loss\n",
        "\n",
        "model = xgb.XGBClassifier()\n",
        "\n",
        "eval_set = [(cv_x_TFIDF, y_cv)]\n",
        "model.fit(train_X_ros, train_y_ros, eval_metric=\"mlogloss\", eval_set=eval_set, verbose=True)\n",
        "# make predictions for test data\n"
      ],
      "execution_count": 0,
      "outputs": [
        {
          "output_type": "stream",
          "text": [
            "/usr/local/lib/python3.6/dist-packages/sklearn/utils/deprecation.py:144: FutureWarning: The sklearn.metrics.classification module is  deprecated in version 0.22 and will be removed in version 0.24. The corresponding classes / functions should instead be imported from sklearn.metrics. Anything that cannot be imported from sklearn.metrics is now part of the private API.\n",
            "  warnings.warn(message, FutureWarning)\n"
          ],
          "name": "stderr"
        },
        {
          "output_type": "stream",
          "text": [
            "[0]\tvalidation_0-mlogloss:2.13041\n",
            "[1]\tvalidation_0-mlogloss:2.07981\n",
            "[2]\tvalidation_0-mlogloss:2.03574\n",
            "[3]\tvalidation_0-mlogloss:1.99943\n",
            "[4]\tvalidation_0-mlogloss:1.9701\n",
            "[5]\tvalidation_0-mlogloss:1.94256\n",
            "[6]\tvalidation_0-mlogloss:1.91315\n",
            "[7]\tvalidation_0-mlogloss:1.89135\n",
            "[8]\tvalidation_0-mlogloss:1.87103\n",
            "[9]\tvalidation_0-mlogloss:1.85107\n",
            "[10]\tvalidation_0-mlogloss:1.8328\n",
            "[11]\tvalidation_0-mlogloss:1.81694\n",
            "[12]\tvalidation_0-mlogloss:1.80223\n",
            "[13]\tvalidation_0-mlogloss:1.78927\n",
            "[14]\tvalidation_0-mlogloss:1.77705\n",
            "[15]\tvalidation_0-mlogloss:1.76394\n",
            "[16]\tvalidation_0-mlogloss:1.75294\n",
            "[17]\tvalidation_0-mlogloss:1.7427\n",
            "[18]\tvalidation_0-mlogloss:1.73349\n",
            "[19]\tvalidation_0-mlogloss:1.72252\n",
            "[20]\tvalidation_0-mlogloss:1.71392\n",
            "[21]\tvalidation_0-mlogloss:1.70545\n",
            "[22]\tvalidation_0-mlogloss:1.69741\n",
            "[23]\tvalidation_0-mlogloss:1.69005\n",
            "[24]\tvalidation_0-mlogloss:1.68293\n",
            "[25]\tvalidation_0-mlogloss:1.67487\n",
            "[26]\tvalidation_0-mlogloss:1.66773\n",
            "[27]\tvalidation_0-mlogloss:1.66044\n",
            "[28]\tvalidation_0-mlogloss:1.6545\n",
            "[29]\tvalidation_0-mlogloss:1.64773\n",
            "[30]\tvalidation_0-mlogloss:1.64264\n",
            "[31]\tvalidation_0-mlogloss:1.63607\n",
            "[32]\tvalidation_0-mlogloss:1.63156\n",
            "[33]\tvalidation_0-mlogloss:1.62716\n",
            "[34]\tvalidation_0-mlogloss:1.62228\n",
            "[35]\tvalidation_0-mlogloss:1.61685\n",
            "[36]\tvalidation_0-mlogloss:1.61067\n",
            "[37]\tvalidation_0-mlogloss:1.60526\n",
            "[38]\tvalidation_0-mlogloss:1.60177\n",
            "[39]\tvalidation_0-mlogloss:1.5978\n",
            "[40]\tvalidation_0-mlogloss:1.59317\n",
            "[41]\tvalidation_0-mlogloss:1.58871\n",
            "[42]\tvalidation_0-mlogloss:1.58442\n",
            "[43]\tvalidation_0-mlogloss:1.57947\n",
            "[44]\tvalidation_0-mlogloss:1.57644\n",
            "[45]\tvalidation_0-mlogloss:1.57152\n",
            "[46]\tvalidation_0-mlogloss:1.56784\n",
            "[47]\tvalidation_0-mlogloss:1.56261\n",
            "[48]\tvalidation_0-mlogloss:1.55903\n",
            "[49]\tvalidation_0-mlogloss:1.55373\n",
            "[50]\tvalidation_0-mlogloss:1.55042\n",
            "[51]\tvalidation_0-mlogloss:1.548\n",
            "[52]\tvalidation_0-mlogloss:1.54444\n",
            "[53]\tvalidation_0-mlogloss:1.54105\n",
            "[54]\tvalidation_0-mlogloss:1.53645\n",
            "[55]\tvalidation_0-mlogloss:1.53334\n",
            "[56]\tvalidation_0-mlogloss:1.53011\n",
            "[57]\tvalidation_0-mlogloss:1.52546\n",
            "[58]\tvalidation_0-mlogloss:1.52284\n",
            "[59]\tvalidation_0-mlogloss:1.51945\n",
            "[60]\tvalidation_0-mlogloss:1.51639\n",
            "[61]\tvalidation_0-mlogloss:1.51343\n",
            "[62]\tvalidation_0-mlogloss:1.5101\n",
            "[63]\tvalidation_0-mlogloss:1.50729\n",
            "[64]\tvalidation_0-mlogloss:1.5042\n",
            "[65]\tvalidation_0-mlogloss:1.5\n",
            "[66]\tvalidation_0-mlogloss:1.49832\n",
            "[67]\tvalidation_0-mlogloss:1.49588\n",
            "[68]\tvalidation_0-mlogloss:1.49333\n",
            "[69]\tvalidation_0-mlogloss:1.49032\n",
            "[70]\tvalidation_0-mlogloss:1.48668\n",
            "[71]\tvalidation_0-mlogloss:1.48415\n",
            "[72]\tvalidation_0-mlogloss:1.48059\n",
            "[73]\tvalidation_0-mlogloss:1.47815\n",
            "[74]\tvalidation_0-mlogloss:1.47713\n",
            "[75]\tvalidation_0-mlogloss:1.47499\n",
            "[76]\tvalidation_0-mlogloss:1.47237\n",
            "[77]\tvalidation_0-mlogloss:1.47023\n",
            "[78]\tvalidation_0-mlogloss:1.46775\n",
            "[79]\tvalidation_0-mlogloss:1.46517\n",
            "[80]\tvalidation_0-mlogloss:1.46337\n",
            "[81]\tvalidation_0-mlogloss:1.46178\n",
            "[82]\tvalidation_0-mlogloss:1.45925\n",
            "[83]\tvalidation_0-mlogloss:1.45735\n",
            "[84]\tvalidation_0-mlogloss:1.4552\n",
            "[85]\tvalidation_0-mlogloss:1.45281\n",
            "[86]\tvalidation_0-mlogloss:1.45093\n",
            "[87]\tvalidation_0-mlogloss:1.449\n",
            "[88]\tvalidation_0-mlogloss:1.44701\n",
            "[89]\tvalidation_0-mlogloss:1.44508\n",
            "[90]\tvalidation_0-mlogloss:1.44326\n",
            "[91]\tvalidation_0-mlogloss:1.4411\n",
            "[92]\tvalidation_0-mlogloss:1.43903\n",
            "[93]\tvalidation_0-mlogloss:1.43743\n",
            "[94]\tvalidation_0-mlogloss:1.43549\n",
            "[95]\tvalidation_0-mlogloss:1.43408\n",
            "[96]\tvalidation_0-mlogloss:1.43209\n",
            "[97]\tvalidation_0-mlogloss:1.4303\n",
            "[98]\tvalidation_0-mlogloss:1.42884\n",
            "[99]\tvalidation_0-mlogloss:1.4269\n"
          ],
          "name": "stdout"
        },
        {
          "output_type": "execute_result",
          "data": {
            "text/plain": [
              "XGBClassifier(base_score=0.5, booster='gbtree', colsample_bylevel=1,\n",
              "              colsample_bynode=1, colsample_bytree=1, gamma=0,\n",
              "              learning_rate=0.1, max_delta_step=0, max_depth=3,\n",
              "              min_child_weight=1, missing=None, n_estimators=100, n_jobs=1,\n",
              "              nthread=None, objective='multi:softprob', random_state=0,\n",
              "              reg_alpha=0, reg_lambda=1, scale_pos_weight=1, seed=None,\n",
              "              silent=None, subsample=1, verbosity=1)"
            ]
          },
          "metadata": {
            "tags": []
          },
          "execution_count": 83
        }
      ]
    },
    {
      "cell_type": "code",
      "metadata": {
        "id": "x2tdmXvt8RFx",
        "colab_type": "code",
        "outputId": "d0052a44-5765-4283-9510-70b8a19b97df",
        "colab": {
          "base_uri": "https://localhost:8080/",
          "height": 69
        }
      },
      "source": [
        "predict_y = model.predict_proba(train_x_TFIDF)\n",
        "print(\"The train log loss is:\",log_loss(y_train, predict_y, labels=model.classes_, eps=1e-15))\n",
        "predict_y = model.predict_proba(cv_x_TFIDF)\n",
        "print(\"The cross validation log loss is:\",log_loss(y_cv, predict_y, labels=model.classes_, eps=1e-15))\n",
        "predict_y = model.predict_proba(test_x_TFIDF)\n",
        "print(\"The test log loss is:\",log_loss(y_test, predict_y, labels=model.classes_, eps=1e-15))\n",
        "y_pred=model.predict(test_x_TFIDF)"
      ],
      "execution_count": 0,
      "outputs": [
        {
          "output_type": "stream",
          "text": [
            "The train log loss is: 1.2689320914304365\n",
            "The cross validation log loss is: 1.426903634556198\n",
            "The test log loss is: 1.4202971918746492\n"
          ],
          "name": "stdout"
        }
      ]
    },
    {
      "cell_type": "code",
      "metadata": {
        "id": "jlbIkDUO-4pQ",
        "colab_type": "code",
        "outputId": "cc162472-396a-4435-f73b-e2d008ee4799",
        "colab": {
          "base_uri": "https://localhost:8080/",
          "height": 295
        }
      },
      "source": [
        "from sklearn.metrics import classification_report\n",
        "print(classification_report(y_test,y_pred))"
      ],
      "execution_count": 0,
      "outputs": [
        {
          "output_type": "stream",
          "text": [
            "              precision    recall  f1-score   support\n",
            "\n",
            "           1       0.67      0.59      0.63       114\n",
            "           2       0.40      0.56      0.47        91\n",
            "           3       0.18      0.33      0.24        18\n",
            "           4       0.69      0.48      0.57       137\n",
            "           5       0.30      0.44      0.36        48\n",
            "           6       0.56      0.36      0.44        55\n",
            "           7       0.52      0.52      0.52       191\n",
            "           8       1.00      0.25      0.40         4\n",
            "           9       0.50      0.71      0.59         7\n",
            "\n",
            "    accuracy                           0.51       665\n",
            "   macro avg       0.54      0.47      0.47       665\n",
            "weighted avg       0.55      0.51      0.52       665\n",
            "\n"
          ],
          "name": "stdout"
        }
      ]
    },
    {
      "cell_type": "markdown",
      "metadata": {
        "id": "7tAf8XHu_vLB",
        "colab_type": "text"
      },
      "source": [
        "TFIDF + SMOTE + XGBOOST"
      ]
    },
    {
      "cell_type": "code",
      "metadata": {
        "id": "7JkXjss-_AA-",
        "colab_type": "code",
        "outputId": "65165cab-cbce-4813-814f-3aa10c2f4fd9",
        "colab": {
          "base_uri": "https://localhost:8080/",
          "height": 89
        }
      },
      "source": [
        "from imblearn.over_sampling import SMOTE\n",
        "\n",
        "smote = SMOTE(ratio='minority')\n",
        "train_X_ros, train_y_ros = smote.fit_sample(train_x_TFIDF, y_train)\n",
        "train_X_ros.shape"
      ],
      "execution_count": 0,
      "outputs": [
        {
          "output_type": "stream",
          "text": [
            "/usr/local/lib/python3.6/dist-packages/sklearn/utils/deprecation.py:87: FutureWarning: Function safe_indexing is deprecated; safe_indexing is deprecated in version 0.22 and will be removed in version 0.24.\n",
            "  warnings.warn(msg, category=FutureWarning)\n"
          ],
          "name": "stderr"
        },
        {
          "output_type": "execute_result",
          "data": {
            "text/plain": [
              "(2721, 26463)"
            ]
          },
          "metadata": {
            "tags": []
          },
          "execution_count": 90
        }
      ]
    },
    {
      "cell_type": "code",
      "metadata": {
        "id": "2SLyKmKJAOjs",
        "colab_type": "code",
        "outputId": "fb08a011-4879-495c-f370-40b31088af0f",
        "colab": {
          "base_uri": "https://localhost:8080/",
          "height": 191
        }
      },
      "source": [
        "df_y=pd.Series(train_y_ros,name='Class')\n",
        "df_y.value_counts().sort_index()"
      ],
      "execution_count": 0,
      "outputs": [
        {
          "output_type": "execute_result",
          "data": {
            "text/plain": [
              "1    363\n",
              "2    289\n",
              "3     57\n",
              "4    439\n",
              "5    155\n",
              "6    176\n",
              "7    609\n",
              "8    609\n",
              "9     24\n",
              "Name: Class, dtype: int64"
            ]
          },
          "metadata": {
            "tags": []
          },
          "execution_count": 91
        }
      ]
    },
    {
      "cell_type": "code",
      "metadata": {
        "id": "Bt1OpBNrAQws",
        "colab_type": "code",
        "outputId": "e63473f7-3ebc-4347-d4df-b6758bf182c7",
        "colab": {
          "base_uri": "https://localhost:8080/",
          "height": 1000
        }
      },
      "source": [
        "#from sklearn.metrics.classification import accuracy_score, log_loss\n",
        "\n",
        "model = xgb.XGBClassifier()\n",
        "\n",
        "eval_set = [(cv_x_TFIDF, y_cv)]\n",
        "model.fit(train_X_ros, train_y_ros, eval_metric=\"mlogloss\", eval_set=eval_set, verbose=True)\n",
        "# make predictions for test data\n"
      ],
      "execution_count": 0,
      "outputs": [
        {
          "output_type": "stream",
          "text": [
            "[0]\tvalidation_0-mlogloss:2.10847\n",
            "[1]\tvalidation_0-mlogloss:2.03742\n",
            "[2]\tvalidation_0-mlogloss:1.97953\n",
            "[3]\tvalidation_0-mlogloss:1.92833\n",
            "[4]\tvalidation_0-mlogloss:1.88494\n",
            "[5]\tvalidation_0-mlogloss:1.847\n",
            "[6]\tvalidation_0-mlogloss:1.81364\n",
            "[7]\tvalidation_0-mlogloss:1.7852\n",
            "[8]\tvalidation_0-mlogloss:1.75658\n",
            "[9]\tvalidation_0-mlogloss:1.73104\n",
            "[10]\tvalidation_0-mlogloss:1.70931\n",
            "[11]\tvalidation_0-mlogloss:1.68885\n",
            "[12]\tvalidation_0-mlogloss:1.67061\n",
            "[13]\tvalidation_0-mlogloss:1.65366\n",
            "[14]\tvalidation_0-mlogloss:1.63724\n",
            "[15]\tvalidation_0-mlogloss:1.62171\n",
            "[16]\tvalidation_0-mlogloss:1.60788\n",
            "[17]\tvalidation_0-mlogloss:1.59339\n",
            "[18]\tvalidation_0-mlogloss:1.58242\n",
            "[19]\tvalidation_0-mlogloss:1.57027\n",
            "[20]\tvalidation_0-mlogloss:1.55836\n",
            "[21]\tvalidation_0-mlogloss:1.54735\n",
            "[22]\tvalidation_0-mlogloss:1.53682\n",
            "[23]\tvalidation_0-mlogloss:1.52738\n",
            "[24]\tvalidation_0-mlogloss:1.51774\n",
            "[25]\tvalidation_0-mlogloss:1.50857\n",
            "[26]\tvalidation_0-mlogloss:1.50084\n",
            "[27]\tvalidation_0-mlogloss:1.49238\n",
            "[28]\tvalidation_0-mlogloss:1.48543\n",
            "[29]\tvalidation_0-mlogloss:1.47794\n",
            "[30]\tvalidation_0-mlogloss:1.4694\n",
            "[31]\tvalidation_0-mlogloss:1.46438\n",
            "[32]\tvalidation_0-mlogloss:1.45794\n",
            "[33]\tvalidation_0-mlogloss:1.45144\n",
            "[34]\tvalidation_0-mlogloss:1.44581\n",
            "[35]\tvalidation_0-mlogloss:1.44064\n",
            "[36]\tvalidation_0-mlogloss:1.43549\n",
            "[37]\tvalidation_0-mlogloss:1.43043\n",
            "[38]\tvalidation_0-mlogloss:1.42549\n",
            "[39]\tvalidation_0-mlogloss:1.42092\n",
            "[40]\tvalidation_0-mlogloss:1.41547\n",
            "[41]\tvalidation_0-mlogloss:1.41023\n",
            "[42]\tvalidation_0-mlogloss:1.40496\n",
            "[43]\tvalidation_0-mlogloss:1.40179\n",
            "[44]\tvalidation_0-mlogloss:1.39769\n",
            "[45]\tvalidation_0-mlogloss:1.39329\n",
            "[46]\tvalidation_0-mlogloss:1.38937\n",
            "[47]\tvalidation_0-mlogloss:1.38514\n",
            "[48]\tvalidation_0-mlogloss:1.38113\n",
            "[49]\tvalidation_0-mlogloss:1.37755\n",
            "[50]\tvalidation_0-mlogloss:1.37453\n",
            "[51]\tvalidation_0-mlogloss:1.37132\n",
            "[52]\tvalidation_0-mlogloss:1.36811\n",
            "[53]\tvalidation_0-mlogloss:1.36415\n",
            "[54]\tvalidation_0-mlogloss:1.36066\n",
            "[55]\tvalidation_0-mlogloss:1.35813\n",
            "[56]\tvalidation_0-mlogloss:1.35525\n",
            "[57]\tvalidation_0-mlogloss:1.35227\n",
            "[58]\tvalidation_0-mlogloss:1.34984\n",
            "[59]\tvalidation_0-mlogloss:1.34737\n",
            "[60]\tvalidation_0-mlogloss:1.34485\n",
            "[61]\tvalidation_0-mlogloss:1.34105\n",
            "[62]\tvalidation_0-mlogloss:1.33871\n",
            "[63]\tvalidation_0-mlogloss:1.33671\n",
            "[64]\tvalidation_0-mlogloss:1.33471\n",
            "[65]\tvalidation_0-mlogloss:1.33337\n",
            "[66]\tvalidation_0-mlogloss:1.33102\n",
            "[67]\tvalidation_0-mlogloss:1.32885\n",
            "[68]\tvalidation_0-mlogloss:1.32627\n",
            "[69]\tvalidation_0-mlogloss:1.32418\n",
            "[70]\tvalidation_0-mlogloss:1.32229\n",
            "[71]\tvalidation_0-mlogloss:1.32041\n",
            "[72]\tvalidation_0-mlogloss:1.31878\n",
            "[73]\tvalidation_0-mlogloss:1.31734\n",
            "[74]\tvalidation_0-mlogloss:1.31552\n",
            "[75]\tvalidation_0-mlogloss:1.31352\n",
            "[76]\tvalidation_0-mlogloss:1.31139\n",
            "[77]\tvalidation_0-mlogloss:1.30978\n",
            "[78]\tvalidation_0-mlogloss:1.30828\n",
            "[79]\tvalidation_0-mlogloss:1.307\n",
            "[80]\tvalidation_0-mlogloss:1.3054\n",
            "[81]\tvalidation_0-mlogloss:1.30368\n",
            "[82]\tvalidation_0-mlogloss:1.30211\n",
            "[83]\tvalidation_0-mlogloss:1.30058\n",
            "[84]\tvalidation_0-mlogloss:1.29933\n",
            "[85]\tvalidation_0-mlogloss:1.29778\n",
            "[86]\tvalidation_0-mlogloss:1.29664\n",
            "[87]\tvalidation_0-mlogloss:1.29553\n",
            "[88]\tvalidation_0-mlogloss:1.29368\n",
            "[89]\tvalidation_0-mlogloss:1.2922\n",
            "[90]\tvalidation_0-mlogloss:1.29149\n",
            "[91]\tvalidation_0-mlogloss:1.2904\n",
            "[92]\tvalidation_0-mlogloss:1.28876\n",
            "[93]\tvalidation_0-mlogloss:1.28752\n",
            "[94]\tvalidation_0-mlogloss:1.28707\n",
            "[95]\tvalidation_0-mlogloss:1.28622\n",
            "[96]\tvalidation_0-mlogloss:1.28508\n",
            "[97]\tvalidation_0-mlogloss:1.28417\n",
            "[98]\tvalidation_0-mlogloss:1.28353\n",
            "[99]\tvalidation_0-mlogloss:1.28234\n"
          ],
          "name": "stdout"
        },
        {
          "output_type": "execute_result",
          "data": {
            "text/plain": [
              "XGBClassifier(base_score=0.5, booster='gbtree', colsample_bylevel=1,\n",
              "              colsample_bynode=1, colsample_bytree=1, gamma=0,\n",
              "              learning_rate=0.1, max_delta_step=0, max_depth=3,\n",
              "              min_child_weight=1, missing=None, n_estimators=100, n_jobs=1,\n",
              "              nthread=None, objective='multi:softprob', random_state=0,\n",
              "              reg_alpha=0, reg_lambda=1, scale_pos_weight=1, seed=None,\n",
              "              silent=None, subsample=1, verbosity=1)"
            ]
          },
          "metadata": {
            "tags": []
          },
          "execution_count": 92
        }
      ]
    },
    {
      "cell_type": "code",
      "metadata": {
        "id": "fIxT4VKxAfo8",
        "colab_type": "code",
        "outputId": "7b272fc5-f0bb-4fbb-c336-ac61157150ae",
        "colab": {
          "base_uri": "https://localhost:8080/",
          "height": 69
        }
      },
      "source": [
        "predict_y = model.predict_proba(train_x_TFIDF)\n",
        "print(\"The train log loss is:\",log_loss(y_train, predict_y, labels=model.classes_, eps=1e-15))\n",
        "predict_y = model.predict_proba(cv_x_TFIDF)\n",
        "print(\"The cross validation log loss is:\",log_loss(y_cv, predict_y, labels=model.classes_, eps=1e-15))\n",
        "predict_y = model.predict_proba(test_x_TFIDF)\n",
        "print(\"The test log loss is:\",log_loss(y_test, predict_y, labels=model.classes_, eps=1e-15))\n",
        "y_pred=model.predict(test_x_TFIDF)"
      ],
      "execution_count": 0,
      "outputs": [
        {
          "output_type": "stream",
          "text": [
            "The train log loss is: 1.1888824513246938\n",
            "The cross validation log loss is: 1.2823418193125635\n",
            "The test log loss is: 1.3124606512711012\n"
          ],
          "name": "stdout"
        }
      ]
    },
    {
      "cell_type": "code",
      "metadata": {
        "id": "VZVPIiy7Ar0U",
        "colab_type": "code",
        "outputId": "a3f37061-2f3d-4802-d184-117843bcb139",
        "colab": {
          "base_uri": "https://localhost:8080/",
          "height": 349
        }
      },
      "source": [
        "from sklearn.metrics import classification_report\n",
        "print(classification_report(y_test,y_pred))"
      ],
      "execution_count": 0,
      "outputs": [
        {
          "output_type": "stream",
          "text": [
            "              precision    recall  f1-score   support\n",
            "\n",
            "           1       0.69      0.51      0.59       114\n",
            "           2       0.68      0.21      0.32        91\n",
            "           3       0.00      0.00      0.00        18\n",
            "           4       0.65      0.50      0.56       137\n",
            "           5       0.33      0.33      0.33        48\n",
            "           6       0.58      0.25      0.35        55\n",
            "           7       0.48      0.94      0.64       191\n",
            "           8       1.00      0.25      0.40         4\n",
            "           9       0.50      0.29      0.36         7\n",
            "\n",
            "    accuracy                           0.54       665\n",
            "   macro avg       0.55      0.36      0.40       665\n",
            "weighted avg       0.57      0.54      0.50       665\n",
            "\n"
          ],
          "name": "stdout"
        },
        {
          "output_type": "stream",
          "text": [
            "/usr/local/lib/python3.6/dist-packages/sklearn/metrics/_classification.py:1272: UndefinedMetricWarning: Precision and F-score are ill-defined and being set to 0.0 in labels with no predicted samples. Use `zero_division` parameter to control this behavior.\n",
            "  _warn_prf(average, modifier, msg_start, len(result))\n"
          ],
          "name": "stderr"
        }
      ]
    },
    {
      "cell_type": "code",
      "metadata": {
        "id": "1BeYStowA0Pc",
        "colab_type": "code",
        "colab": {}
      },
      "source": [
        ""
      ],
      "execution_count": 0,
      "outputs": []
    }
  ]
}