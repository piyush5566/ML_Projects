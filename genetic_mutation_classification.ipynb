{
  "nbformat": 4,
  "nbformat_minor": 0,
  "metadata": {
    "colab": {
      "name": "genetic_mutation_classification",
      "provenance": [],
      "collapsed_sections": [
        "qnoc1sKKSy0k",
        "78PKnVkSS3Wx",
        "iAZ8H3B9Tdes"
      ],
      "toc_visible": true,
      "authorship_tag": "ABX9TyMm4xxbc2t/4Ed3fFdp/qOp",
      "include_colab_link": true
    },
    "kernelspec": {
      "name": "python3",
      "display_name": "Python 3"
    },
    "accelerator": "GPU"
  },
  "cells": [
    {
      "cell_type": "markdown",
      "metadata": {
        "id": "view-in-github",
        "colab_type": "text"
      },
      "source": [
        "<a href=\"https://colab.research.google.com/github/piyush5566/ML_Projects/blob/master/genetic_mutation_classification.ipynb\" target=\"_parent\"><img src=\"https://colab.research.google.com/assets/colab-badge.svg\" alt=\"Open In Colab\"/></a>"
      ]
    },
    {
      "cell_type": "code",
      "metadata": {
        "id": "Z20A3v_Q9QUk",
        "colab_type": "code",
        "outputId": "6d2a7d49-ba80-489b-fc46-cb63cc818d8c",
        "colab": {
          "base_uri": "https://localhost:8080/",
          "height": 141
        }
      },
      "source": [
        "import pandas as pd\n",
        "import matplotlib.pyplot as plt\n",
        "import re\n",
        "import time\n",
        "import warnings\n",
        "import numpy as np\n",
        "from nltk.corpus import stopwords\n",
        "\n",
        "from sklearn.preprocessing import normalize\n",
        "from sklearn.feature_extraction.text import CountVectorizer\n",
        "\n",
        "import seaborn as sns\n",
        "from sklearn.neighbors import KNeighborsClassifier\n",
        "from sklearn.metrics import confusion_matrix\n",
        "from sklearn.metrics.classification import accuracy_score, log_loss\n",
        "from sklearn.feature_extraction.text import TfidfVectorizer\n",
        "from sklearn.linear_model import SGDClassifier\n",
        "\n",
        "from collections import Counter\n",
        "from scipy.sparse import hstack\n",
        "\n",
        "from sklearn.svm import SVC\n",
        "from sklearn.model_selection import StratifiedKFold \n",
        "from collections import Counter, defaultdict\n",
        "from sklearn.calibration import CalibratedClassifierCV\n",
        "from sklearn.naive_bayes import MultinomialNB\n",
        "from sklearn.naive_bayes import GaussianNB\n",
        "from sklearn.model_selection import train_test_split\n",
        "from sklearn.model_selection import GridSearchCV\n",
        "import math\n",
        "from sklearn.metrics import normalized_mutual_info_score\n",
        "from sklearn.ensemble import RandomForestClassifier\n",
        "warnings.filterwarnings(\"ignore\")\n",
        "\n",
        "from sklearn import model_selection\n",
        "from sklearn.linear_model import LogisticRegression\n"
      ],
      "execution_count": 0,
      "outputs": [
        {
          "output_type": "stream",
          "text": [
            "/usr/local/lib/python3.6/dist-packages/sklearn/utils/deprecation.py:144: FutureWarning: The sklearn.metrics.classification module is  deprecated in version 0.22 and will be removed in version 0.24. The corresponding classes / functions should instead be imported from sklearn.metrics. Anything that cannot be imported from sklearn.metrics is now part of the private API.\n",
            "  warnings.warn(message, FutureWarning)\n",
            "/usr/local/lib/python3.6/dist-packages/sklearn/externals/six.py:31: FutureWarning: The module is deprecated in version 0.21 and will be removed in version 0.23 since we've dropped support for Python 2.7. Please rely on the official version of six (https://pypi.org/project/six/).\n",
            "  \"(https://pypi.org/project/six/).\", FutureWarning)\n",
            "/usr/local/lib/python3.6/dist-packages/sklearn/utils/deprecation.py:144: FutureWarning: The sklearn.neighbors.base module is  deprecated in version 0.22 and will be removed in version 0.24. The corresponding classes / functions should instead be imported from sklearn.neighbors. Anything that cannot be imported from sklearn.neighbors is now part of the private API.\n",
            "  warnings.warn(message, FutureWarning)\n"
          ],
          "name": "stderr"
        }
      ]
    },
    {
      "cell_type": "code",
      "metadata": {
        "id": "wYXHXc81Pk-T",
        "colab_type": "code",
        "colab": {}
      },
      "source": [
        "\n",
        "data_variants = pd.read_csv('training_variants')\n",
        "data_text =pd.read_csv(\"training_text\",sep=\"\\|\\|\",engine=\"python\",names=[\"ID\",\"TEXT\"],skiprows=1)"
      ],
      "execution_count": 0,
      "outputs": []
    },
    {
      "cell_type": "code",
      "metadata": {
        "id": "xE0WA7GUCTH-",
        "colab_type": "code",
        "outputId": "eb52216c-04a5-4662-e873-e935868507b6",
        "colab": {
          "base_uri": "https://localhost:8080/",
          "height": 141
        }
      },
      "source": [
        "data_variants.head(3)\n"
      ],
      "execution_count": 0,
      "outputs": [
        {
          "output_type": "execute_result",
          "data": {
            "text/html": [
              "<div>\n",
              "<style scoped>\n",
              "    .dataframe tbody tr th:only-of-type {\n",
              "        vertical-align: middle;\n",
              "    }\n",
              "\n",
              "    .dataframe tbody tr th {\n",
              "        vertical-align: top;\n",
              "    }\n",
              "\n",
              "    .dataframe thead th {\n",
              "        text-align: right;\n",
              "    }\n",
              "</style>\n",
              "<table border=\"1\" class=\"dataframe\">\n",
              "  <thead>\n",
              "    <tr style=\"text-align: right;\">\n",
              "      <th></th>\n",
              "      <th>ID</th>\n",
              "      <th>Gene</th>\n",
              "      <th>Variation</th>\n",
              "      <th>Class</th>\n",
              "    </tr>\n",
              "  </thead>\n",
              "  <tbody>\n",
              "    <tr>\n",
              "      <th>0</th>\n",
              "      <td>0</td>\n",
              "      <td>FAM58A</td>\n",
              "      <td>Truncating Mutations</td>\n",
              "      <td>1</td>\n",
              "    </tr>\n",
              "    <tr>\n",
              "      <th>1</th>\n",
              "      <td>1</td>\n",
              "      <td>CBL</td>\n",
              "      <td>W802*</td>\n",
              "      <td>2</td>\n",
              "    </tr>\n",
              "    <tr>\n",
              "      <th>2</th>\n",
              "      <td>2</td>\n",
              "      <td>CBL</td>\n",
              "      <td>Q249E</td>\n",
              "      <td>2</td>\n",
              "    </tr>\n",
              "  </tbody>\n",
              "</table>\n",
              "</div>"
            ],
            "text/plain": [
              "   ID    Gene             Variation  Class\n",
              "0   0  FAM58A  Truncating Mutations      1\n",
              "1   1     CBL                 W802*      2\n",
              "2   2     CBL                 Q249E      2"
            ]
          },
          "metadata": {
            "tags": []
          },
          "execution_count": 3
        }
      ]
    },
    {
      "cell_type": "code",
      "metadata": {
        "id": "vMvbs81_Cdc9",
        "colab_type": "code",
        "outputId": "f1ce3b83-8126-4705-9604-c7736ebd77c7",
        "colab": {
          "base_uri": "https://localhost:8080/",
          "height": 173
        }
      },
      "source": [
        "data_variants.info()"
      ],
      "execution_count": 0,
      "outputs": [
        {
          "output_type": "stream",
          "text": [
            "<class 'pandas.core.frame.DataFrame'>\n",
            "RangeIndex: 3321 entries, 0 to 3320\n",
            "Data columns (total 4 columns):\n",
            "ID           3321 non-null int64\n",
            "Gene         3321 non-null object\n",
            "Variation    3321 non-null object\n",
            "Class        3321 non-null int64\n",
            "dtypes: int64(2), object(2)\n",
            "memory usage: 103.9+ KB\n"
          ],
          "name": "stdout"
        }
      ]
    },
    {
      "cell_type": "code",
      "metadata": {
        "id": "dHRKCHk1CiZp",
        "colab_type": "code",
        "outputId": "7b20e589-49d0-4d7b-b954-381a7d5e049b",
        "colab": {
          "base_uri": "https://localhost:8080/",
          "height": 294
        }
      },
      "source": [
        "data_variants.describe()"
      ],
      "execution_count": 0,
      "outputs": [
        {
          "output_type": "execute_result",
          "data": {
            "text/html": [
              "<div>\n",
              "<style scoped>\n",
              "    .dataframe tbody tr th:only-of-type {\n",
              "        vertical-align: middle;\n",
              "    }\n",
              "\n",
              "    .dataframe tbody tr th {\n",
              "        vertical-align: top;\n",
              "    }\n",
              "\n",
              "    .dataframe thead th {\n",
              "        text-align: right;\n",
              "    }\n",
              "</style>\n",
              "<table border=\"1\" class=\"dataframe\">\n",
              "  <thead>\n",
              "    <tr style=\"text-align: right;\">\n",
              "      <th></th>\n",
              "      <th>ID</th>\n",
              "      <th>Class</th>\n",
              "    </tr>\n",
              "  </thead>\n",
              "  <tbody>\n",
              "    <tr>\n",
              "      <th>count</th>\n",
              "      <td>3321.000000</td>\n",
              "      <td>3321.000000</td>\n",
              "    </tr>\n",
              "    <tr>\n",
              "      <th>mean</th>\n",
              "      <td>1660.000000</td>\n",
              "      <td>4.365854</td>\n",
              "    </tr>\n",
              "    <tr>\n",
              "      <th>std</th>\n",
              "      <td>958.834449</td>\n",
              "      <td>2.309781</td>\n",
              "    </tr>\n",
              "    <tr>\n",
              "      <th>min</th>\n",
              "      <td>0.000000</td>\n",
              "      <td>1.000000</td>\n",
              "    </tr>\n",
              "    <tr>\n",
              "      <th>25%</th>\n",
              "      <td>830.000000</td>\n",
              "      <td>2.000000</td>\n",
              "    </tr>\n",
              "    <tr>\n",
              "      <th>50%</th>\n",
              "      <td>1660.000000</td>\n",
              "      <td>4.000000</td>\n",
              "    </tr>\n",
              "    <tr>\n",
              "      <th>75%</th>\n",
              "      <td>2490.000000</td>\n",
              "      <td>7.000000</td>\n",
              "    </tr>\n",
              "    <tr>\n",
              "      <th>max</th>\n",
              "      <td>3320.000000</td>\n",
              "      <td>9.000000</td>\n",
              "    </tr>\n",
              "  </tbody>\n",
              "</table>\n",
              "</div>"
            ],
            "text/plain": [
              "                ID        Class\n",
              "count  3321.000000  3321.000000\n",
              "mean   1660.000000     4.365854\n",
              "std     958.834449     2.309781\n",
              "min       0.000000     1.000000\n",
              "25%     830.000000     2.000000\n",
              "50%    1660.000000     4.000000\n",
              "75%    2490.000000     7.000000\n",
              "max    3320.000000     9.000000"
            ]
          },
          "metadata": {
            "tags": []
          },
          "execution_count": 5
        }
      ]
    },
    {
      "cell_type": "code",
      "metadata": {
        "id": "6dn-sdqaClel",
        "colab_type": "code",
        "outputId": "e9317838-f52f-4349-e559-592f4a79d0f6",
        "colab": {
          "base_uri": "https://localhost:8080/",
          "height": 35
        }
      },
      "source": [
        "# Checking dimention of data\n",
        "data_variants.shape"
      ],
      "execution_count": 0,
      "outputs": [
        {
          "output_type": "execute_result",
          "data": {
            "text/plain": [
              "(3321, 4)"
            ]
          },
          "metadata": {
            "tags": []
          },
          "execution_count": 6
        }
      ]
    },
    {
      "cell_type": "code",
      "metadata": {
        "id": "z4Cl4xTxCrmv",
        "colab_type": "code",
        "outputId": "c51bac78-8f2d-4508-d70d-5b1fe5dcd82f",
        "colab": {
          "base_uri": "https://localhost:8080/",
          "height": 35
        }
      },
      "source": [
        "data_variants.columns"
      ],
      "execution_count": 0,
      "outputs": [
        {
          "output_type": "execute_result",
          "data": {
            "text/plain": [
              "Index(['ID', 'Gene', 'Variation', 'Class'], dtype='object')"
            ]
          },
          "metadata": {
            "tags": []
          },
          "execution_count": 7
        }
      ]
    },
    {
      "cell_type": "code",
      "metadata": {
        "id": "YsNkVVP_Cvq3",
        "colab_type": "code",
        "outputId": "ca2cba88-1dcd-41e4-f590-e3898cc310a8",
        "colab": {
          "base_uri": "https://localhost:8080/",
          "height": 141
        }
      },
      "source": [
        "data_text.head(3)"
      ],
      "execution_count": 0,
      "outputs": [
        {
          "output_type": "execute_result",
          "data": {
            "text/html": [
              "<div>\n",
              "<style scoped>\n",
              "    .dataframe tbody tr th:only-of-type {\n",
              "        vertical-align: middle;\n",
              "    }\n",
              "\n",
              "    .dataframe tbody tr th {\n",
              "        vertical-align: top;\n",
              "    }\n",
              "\n",
              "    .dataframe thead th {\n",
              "        text-align: right;\n",
              "    }\n",
              "</style>\n",
              "<table border=\"1\" class=\"dataframe\">\n",
              "  <thead>\n",
              "    <tr style=\"text-align: right;\">\n",
              "      <th></th>\n",
              "      <th>ID</th>\n",
              "      <th>TEXT</th>\n",
              "    </tr>\n",
              "  </thead>\n",
              "  <tbody>\n",
              "    <tr>\n",
              "      <th>0</th>\n",
              "      <td>0</td>\n",
              "      <td>Cyclin-dependent kinases (CDKs) regulate a var...</td>\n",
              "    </tr>\n",
              "    <tr>\n",
              "      <th>1</th>\n",
              "      <td>1</td>\n",
              "      <td>Abstract Background  Non-small cell lung canc...</td>\n",
              "    </tr>\n",
              "    <tr>\n",
              "      <th>2</th>\n",
              "      <td>2</td>\n",
              "      <td>Abstract Background  Non-small cell lung canc...</td>\n",
              "    </tr>\n",
              "  </tbody>\n",
              "</table>\n",
              "</div>"
            ],
            "text/plain": [
              "   ID                                               TEXT\n",
              "0   0  Cyclin-dependent kinases (CDKs) regulate a var...\n",
              "1   1   Abstract Background  Non-small cell lung canc...\n",
              "2   2   Abstract Background  Non-small cell lung canc..."
            ]
          },
          "metadata": {
            "tags": []
          },
          "execution_count": 8
        }
      ]
    },
    {
      "cell_type": "code",
      "metadata": {
        "id": "48ZNuF4hCzFp",
        "colab_type": "code",
        "outputId": "ea79f1a6-e21b-4f36-cfa8-e9280d5f7981",
        "colab": {
          "base_uri": "https://localhost:8080/",
          "height": 139
        }
      },
      "source": [
        "data_text.info()"
      ],
      "execution_count": 0,
      "outputs": [
        {
          "output_type": "stream",
          "text": [
            "<class 'pandas.core.frame.DataFrame'>\n",
            "RangeIndex: 131 entries, 0 to 130\n",
            "Data columns (total 2 columns):\n",
            "ID      131 non-null int64\n",
            "TEXT    131 non-null object\n",
            "dtypes: int64(1), object(1)\n",
            "memory usage: 2.2+ KB\n"
          ],
          "name": "stdout"
        }
      ]
    },
    {
      "cell_type": "code",
      "metadata": {
        "id": "qQ9wLrj8C4aa",
        "colab_type": "code",
        "outputId": "b2d6423a-fcf8-41b7-d478-96fbf8e1e978",
        "colab": {
          "base_uri": "https://localhost:8080/",
          "height": 294
        }
      },
      "source": [
        "data_text.describe()"
      ],
      "execution_count": 0,
      "outputs": [
        {
          "output_type": "execute_result",
          "data": {
            "text/html": [
              "<div>\n",
              "<style scoped>\n",
              "    .dataframe tbody tr th:only-of-type {\n",
              "        vertical-align: middle;\n",
              "    }\n",
              "\n",
              "    .dataframe tbody tr th {\n",
              "        vertical-align: top;\n",
              "    }\n",
              "\n",
              "    .dataframe thead th {\n",
              "        text-align: right;\n",
              "    }\n",
              "</style>\n",
              "<table border=\"1\" class=\"dataframe\">\n",
              "  <thead>\n",
              "    <tr style=\"text-align: right;\">\n",
              "      <th></th>\n",
              "      <th>ID</th>\n",
              "    </tr>\n",
              "  </thead>\n",
              "  <tbody>\n",
              "    <tr>\n",
              "      <th>count</th>\n",
              "      <td>131.000000</td>\n",
              "    </tr>\n",
              "    <tr>\n",
              "      <th>mean</th>\n",
              "      <td>59.290076</td>\n",
              "    </tr>\n",
              "    <tr>\n",
              "      <th>std</th>\n",
              "      <td>31.707676</td>\n",
              "    </tr>\n",
              "    <tr>\n",
              "      <th>min</th>\n",
              "      <td>0.000000</td>\n",
              "    </tr>\n",
              "    <tr>\n",
              "      <th>25%</th>\n",
              "      <td>32.500000</td>\n",
              "    </tr>\n",
              "    <tr>\n",
              "      <th>50%</th>\n",
              "      <td>65.000000</td>\n",
              "    </tr>\n",
              "    <tr>\n",
              "      <th>75%</th>\n",
              "      <td>83.500000</td>\n",
              "    </tr>\n",
              "    <tr>\n",
              "      <th>max</th>\n",
              "      <td>113.000000</td>\n",
              "    </tr>\n",
              "  </tbody>\n",
              "</table>\n",
              "</div>"
            ],
            "text/plain": [
              "               ID\n",
              "count  131.000000\n",
              "mean    59.290076\n",
              "std     31.707676\n",
              "min      0.000000\n",
              "25%     32.500000\n",
              "50%     65.000000\n",
              "75%     83.500000\n",
              "max    113.000000"
            ]
          },
          "metadata": {
            "tags": []
          },
          "execution_count": 10
        }
      ]
    },
    {
      "cell_type": "code",
      "metadata": {
        "id": "oSv2N85HC77w",
        "colab_type": "code",
        "outputId": "d38e4dba-4eaf-41c3-ba1e-b309b52791ff",
        "colab": {
          "base_uri": "https://localhost:8080/",
          "height": 35
        }
      },
      "source": [
        "data_text.columns"
      ],
      "execution_count": 0,
      "outputs": [
        {
          "output_type": "execute_result",
          "data": {
            "text/plain": [
              "Index(['ID', 'TEXT'], dtype='object')"
            ]
          },
          "metadata": {
            "tags": []
          },
          "execution_count": 11
        }
      ]
    },
    {
      "cell_type": "code",
      "metadata": {
        "id": "N5rBMtP4DAFJ",
        "colab_type": "code",
        "outputId": "d3c92c2f-ed44-439b-d541-4956f3be2f39",
        "colab": {
          "base_uri": "https://localhost:8080/",
          "height": 35
        }
      },
      "source": [
        "data_variants.Class.unique()\n",
        "\n"
      ],
      "execution_count": 0,
      "outputs": [
        {
          "output_type": "execute_result",
          "data": {
            "text/plain": [
              "array([1, 2, 3, 4, 5, 6, 7, 8, 9])"
            ]
          },
          "metadata": {
            "tags": []
          },
          "execution_count": 12
        }
      ]
    },
    {
      "cell_type": "code",
      "metadata": {
        "id": "Onn9AwGcDETP",
        "colab_type": "code",
        "outputId": "cc594d77-1d4d-4fd5-b391-3af138df93b0",
        "colab": {
          "base_uri": "https://localhost:8080/",
          "height": 52
        }
      },
      "source": [
        "# We would like to remove all stop words like a, is, an, the, ... \n",
        "# so we collecting all of them from nltk library\n",
        "import nltk\n",
        "nltk.download('stopwords')\n",
        "stop_words = set(stopwords.words('english'))"
      ],
      "execution_count": 0,
      "outputs": [
        {
          "output_type": "stream",
          "text": [
            "[nltk_data] Downloading package stopwords to /root/nltk_data...\n",
            "[nltk_data]   Unzipping corpora/stopwords.zip.\n"
          ],
          "name": "stdout"
        }
      ]
    },
    {
      "cell_type": "code",
      "metadata": {
        "id": "GAP0eDaYDJvp",
        "colab_type": "code",
        "colab": {}
      },
      "source": [
        "def data_text_preprocess(total_text, ind, col):\n",
        "    # Remove int values from text data as that might not be imp\n",
        "    if type(total_text) is not int:\n",
        "        string = \"\"\n",
        "        # replacing all special char with space\n",
        "        total_text = re.sub('[^a-zA-Z0-9\\n]', ' ', str(total_text))\n",
        "        # replacing multiple spaces with single space\n",
        "        total_text = re.sub('\\s+',' ', str(total_text))\n",
        "        # bring whole text to same lower-case scale.\n",
        "        total_text = total_text.lower()\n",
        "        \n",
        "        for word in total_text.split():\n",
        "        # if the word is a not a stop word then retain that word from text\n",
        "            if not word in stop_words:\n",
        "                string += word + \" \"\n",
        "        \n",
        "        data_text[col][ind] = string"
      ],
      "execution_count": 0,
      "outputs": []
    },
    {
      "cell_type": "code",
      "metadata": {
        "id": "-FFvUXPBDX94",
        "colab_type": "code",
        "colab": {}
      },
      "source": [
        "# Below code will take some time because its huge text (took 4 minute on my 16 GB RAM system), so run it and have a cup of coffee :)\n",
        "for index, row in data_text.iterrows():\n",
        "    if type(row['TEXT']) is str:\n",
        "        data_text_preprocess(row['TEXT'], index, 'TEXT')"
      ],
      "execution_count": 0,
      "outputs": []
    },
    {
      "cell_type": "code",
      "metadata": {
        "id": "KVFaBiJeD-Cc",
        "colab_type": "code",
        "outputId": "5b7de128-5174-4a59-b2b0-5c072f1b443e",
        "colab": {
          "base_uri": "https://localhost:8080/",
          "height": 202
        }
      },
      "source": [
        "#merging both gene_variations and text data based on ID\n",
        "result = pd.merge(data_variants, data_text,on='ID', how='left')\n",
        "result.head()"
      ],
      "execution_count": 0,
      "outputs": [
        {
          "output_type": "execute_result",
          "data": {
            "text/html": [
              "<div>\n",
              "<style scoped>\n",
              "    .dataframe tbody tr th:only-of-type {\n",
              "        vertical-align: middle;\n",
              "    }\n",
              "\n",
              "    .dataframe tbody tr th {\n",
              "        vertical-align: top;\n",
              "    }\n",
              "\n",
              "    .dataframe thead th {\n",
              "        text-align: right;\n",
              "    }\n",
              "</style>\n",
              "<table border=\"1\" class=\"dataframe\">\n",
              "  <thead>\n",
              "    <tr style=\"text-align: right;\">\n",
              "      <th></th>\n",
              "      <th>ID</th>\n",
              "      <th>Gene</th>\n",
              "      <th>Variation</th>\n",
              "      <th>Class</th>\n",
              "      <th>TEXT</th>\n",
              "    </tr>\n",
              "  </thead>\n",
              "  <tbody>\n",
              "    <tr>\n",
              "      <th>0</th>\n",
              "      <td>0</td>\n",
              "      <td>FAM58A</td>\n",
              "      <td>Truncating Mutations</td>\n",
              "      <td>1</td>\n",
              "      <td>cyclin dependent kinases cdks regulate variety...</td>\n",
              "    </tr>\n",
              "    <tr>\n",
              "      <th>1</th>\n",
              "      <td>1</td>\n",
              "      <td>CBL</td>\n",
              "      <td>W802*</td>\n",
              "      <td>2</td>\n",
              "      <td>abstract background non small cell lung cancer...</td>\n",
              "    </tr>\n",
              "    <tr>\n",
              "      <th>2</th>\n",
              "      <td>2</td>\n",
              "      <td>CBL</td>\n",
              "      <td>Q249E</td>\n",
              "      <td>2</td>\n",
              "      <td>abstract background non small cell lung cancer...</td>\n",
              "    </tr>\n",
              "    <tr>\n",
              "      <th>3</th>\n",
              "      <td>3</td>\n",
              "      <td>CBL</td>\n",
              "      <td>N454D</td>\n",
              "      <td>3</td>\n",
              "      <td>recent evidence demonstrated acquired uniparen...</td>\n",
              "    </tr>\n",
              "    <tr>\n",
              "      <th>4</th>\n",
              "      <td>4</td>\n",
              "      <td>CBL</td>\n",
              "      <td>L399V</td>\n",
              "      <td>4</td>\n",
              "      <td>oncogenic mutations monomeric casitas b lineag...</td>\n",
              "    </tr>\n",
              "  </tbody>\n",
              "</table>\n",
              "</div>"
            ],
            "text/plain": [
              "   ID    Gene  ... Class                                               TEXT\n",
              "0   0  FAM58A  ...     1  cyclin dependent kinases cdks regulate variety...\n",
              "1   1     CBL  ...     2  abstract background non small cell lung cancer...\n",
              "2   2     CBL  ...     2  abstract background non small cell lung cancer...\n",
              "3   3     CBL  ...     3  recent evidence demonstrated acquired uniparen...\n",
              "4   4     CBL  ...     4  oncogenic mutations monomeric casitas b lineag...\n",
              "\n",
              "[5 rows x 5 columns]"
            ]
          },
          "metadata": {
            "tags": []
          },
          "execution_count": 16
        }
      ]
    },
    {
      "cell_type": "code",
      "metadata": {
        "id": "qVjuyZu_ED_D",
        "colab_type": "code",
        "outputId": "af60724d-7514-4305-bb50-10e00d76a756",
        "colab": {
          "base_uri": "https://localhost:8080/",
          "height": 415
        }
      },
      "source": [
        "result[result.isnull().any(axis=1)]"
      ],
      "execution_count": 0,
      "outputs": [
        {
          "output_type": "execute_result",
          "data": {
            "text/html": [
              "<div>\n",
              "<style scoped>\n",
              "    .dataframe tbody tr th:only-of-type {\n",
              "        vertical-align: middle;\n",
              "    }\n",
              "\n",
              "    .dataframe tbody tr th {\n",
              "        vertical-align: top;\n",
              "    }\n",
              "\n",
              "    .dataframe thead th {\n",
              "        text-align: right;\n",
              "    }\n",
              "</style>\n",
              "<table border=\"1\" class=\"dataframe\">\n",
              "  <thead>\n",
              "    <tr style=\"text-align: right;\">\n",
              "      <th></th>\n",
              "      <th>ID</th>\n",
              "      <th>Gene</th>\n",
              "      <th>Variation</th>\n",
              "      <th>Class</th>\n",
              "      <th>TEXT</th>\n",
              "    </tr>\n",
              "  </thead>\n",
              "  <tbody>\n",
              "    <tr>\n",
              "      <th>131</th>\n",
              "      <td>114</td>\n",
              "      <td>MSH6</td>\n",
              "      <td>F1088Sfs*2</td>\n",
              "      <td>4</td>\n",
              "      <td>NaN</td>\n",
              "    </tr>\n",
              "    <tr>\n",
              "      <th>132</th>\n",
              "      <td>115</td>\n",
              "      <td>KMT2D</td>\n",
              "      <td>Deletion</td>\n",
              "      <td>1</td>\n",
              "      <td>NaN</td>\n",
              "    </tr>\n",
              "    <tr>\n",
              "      <th>133</th>\n",
              "      <td>116</td>\n",
              "      <td>KMT2D</td>\n",
              "      <td>Truncating Mutations</td>\n",
              "      <td>1</td>\n",
              "      <td>NaN</td>\n",
              "    </tr>\n",
              "    <tr>\n",
              "      <th>134</th>\n",
              "      <td>117</td>\n",
              "      <td>LATS1</td>\n",
              "      <td>Truncating Mutations</td>\n",
              "      <td>4</td>\n",
              "      <td>NaN</td>\n",
              "    </tr>\n",
              "    <tr>\n",
              "      <th>135</th>\n",
              "      <td>118</td>\n",
              "      <td>PBRM1</td>\n",
              "      <td>Truncating Mutations</td>\n",
              "      <td>1</td>\n",
              "      <td>NaN</td>\n",
              "    </tr>\n",
              "    <tr>\n",
              "      <th>...</th>\n",
              "      <td>...</td>\n",
              "      <td>...</td>\n",
              "      <td>...</td>\n",
              "      <td>...</td>\n",
              "      <td>...</td>\n",
              "    </tr>\n",
              "    <tr>\n",
              "      <th>3333</th>\n",
              "      <td>3316</td>\n",
              "      <td>RUNX1</td>\n",
              "      <td>D171N</td>\n",
              "      <td>4</td>\n",
              "      <td>NaN</td>\n",
              "    </tr>\n",
              "    <tr>\n",
              "      <th>3334</th>\n",
              "      <td>3317</td>\n",
              "      <td>RUNX1</td>\n",
              "      <td>A122*</td>\n",
              "      <td>1</td>\n",
              "      <td>NaN</td>\n",
              "    </tr>\n",
              "    <tr>\n",
              "      <th>3335</th>\n",
              "      <td>3318</td>\n",
              "      <td>RUNX1</td>\n",
              "      <td>Fusions</td>\n",
              "      <td>1</td>\n",
              "      <td>NaN</td>\n",
              "    </tr>\n",
              "    <tr>\n",
              "      <th>3336</th>\n",
              "      <td>3319</td>\n",
              "      <td>RUNX1</td>\n",
              "      <td>R80C</td>\n",
              "      <td>4</td>\n",
              "      <td>NaN</td>\n",
              "    </tr>\n",
              "    <tr>\n",
              "      <th>3337</th>\n",
              "      <td>3320</td>\n",
              "      <td>RUNX1</td>\n",
              "      <td>K83E</td>\n",
              "      <td>4</td>\n",
              "      <td>NaN</td>\n",
              "    </tr>\n",
              "  </tbody>\n",
              "</table>\n",
              "<p>3207 rows × 5 columns</p>\n",
              "</div>"
            ],
            "text/plain": [
              "        ID   Gene             Variation  Class TEXT\n",
              "131    114   MSH6            F1088Sfs*2      4  NaN\n",
              "132    115  KMT2D              Deletion      1  NaN\n",
              "133    116  KMT2D  Truncating Mutations      1  NaN\n",
              "134    117  LATS1  Truncating Mutations      4  NaN\n",
              "135    118  PBRM1  Truncating Mutations      1  NaN\n",
              "...    ...    ...                   ...    ...  ...\n",
              "3333  3316  RUNX1                 D171N      4  NaN\n",
              "3334  3317  RUNX1                 A122*      1  NaN\n",
              "3335  3318  RUNX1               Fusions      1  NaN\n",
              "3336  3319  RUNX1                  R80C      4  NaN\n",
              "3337  3320  RUNX1                  K83E      4  NaN\n",
              "\n",
              "[3207 rows x 5 columns]"
            ]
          },
          "metadata": {
            "tags": []
          },
          "execution_count": 17
        }
      ]
    },
    {
      "cell_type": "code",
      "metadata": {
        "id": "ikeTa6qgEPxh",
        "colab_type": "code",
        "colab": {}
      },
      "source": [
        "result.loc[result['TEXT'].isnull(),'TEXT'] = result['Gene'] +' '+result['Variation']"
      ],
      "execution_count": 0,
      "outputs": []
    },
    {
      "cell_type": "code",
      "metadata": {
        "id": "QMB8Y6wqErwG",
        "colab_type": "code",
        "outputId": "d549dde0-16f0-4732-8122-b4523afc24c4",
        "colab": {
          "base_uri": "https://localhost:8080/",
          "height": 49
        }
      },
      "source": [
        "result[result.isnull().any(axis=1)]"
      ],
      "execution_count": 0,
      "outputs": [
        {
          "output_type": "execute_result",
          "data": {
            "text/html": [
              "<div>\n",
              "<style scoped>\n",
              "    .dataframe tbody tr th:only-of-type {\n",
              "        vertical-align: middle;\n",
              "    }\n",
              "\n",
              "    .dataframe tbody tr th {\n",
              "        vertical-align: top;\n",
              "    }\n",
              "\n",
              "    .dataframe thead th {\n",
              "        text-align: right;\n",
              "    }\n",
              "</style>\n",
              "<table border=\"1\" class=\"dataframe\">\n",
              "  <thead>\n",
              "    <tr style=\"text-align: right;\">\n",
              "      <th></th>\n",
              "      <th>ID</th>\n",
              "      <th>Gene</th>\n",
              "      <th>Variation</th>\n",
              "      <th>Class</th>\n",
              "      <th>TEXT</th>\n",
              "    </tr>\n",
              "  </thead>\n",
              "  <tbody>\n",
              "  </tbody>\n",
              "</table>\n",
              "</div>"
            ],
            "text/plain": [
              "Empty DataFrame\n",
              "Columns: [ID, Gene, Variation, Class, TEXT]\n",
              "Index: []"
            ]
          },
          "metadata": {
            "tags": []
          },
          "execution_count": 19
        }
      ]
    },
    {
      "cell_type": "code",
      "metadata": {
        "id": "i7FcjennEvIQ",
        "colab_type": "code",
        "colab": {}
      },
      "source": [
        "y_true = result['Class'].values\n",
        "result.Gene      = result.Gene.str.replace('\\s+', '_')\n",
        "result.Variation = result.Variation.str.replace('\\s+', '_')"
      ],
      "execution_count": 0,
      "outputs": []
    },
    {
      "cell_type": "code",
      "metadata": {
        "id": "XEgooGcXE1i6",
        "colab_type": "code",
        "colab": {}
      },
      "source": [
        "# Splitting the data into train and test set \n",
        "X_train, test_df, y_train, y_test = train_test_split(result, y_true, stratify=y_true, test_size=0.2)\n",
        "# split the train data now into train validation and cross validation\n",
        "train_df, cv_df, y_train, y_cv = train_test_split(X_train, y_train, stratify=y_train, test_size=0.2)\n",
        "\n"
      ],
      "execution_count": 0,
      "outputs": []
    },
    {
      "cell_type": "code",
      "metadata": {
        "id": "DQwhDToUE7P8",
        "colab_type": "code",
        "outputId": "c95a37a2-2926-4987-8de0-2ce4fa128b9a",
        "colab": {
          "base_uri": "https://localhost:8080/",
          "height": 69
        }
      },
      "source": [
        "print('Number of data points in train data:', train_df.shape[0])\n",
        "print('Number of data points in test data:', test_df.shape[0])\n",
        "print('Number of data points in cross validation data:', cv_df.shape[0])\n"
      ],
      "execution_count": 0,
      "outputs": [
        {
          "output_type": "stream",
          "text": [
            "Number of data points in train data: 2136\n",
            "Number of data points in test data: 668\n",
            "Number of data points in cross validation data: 534\n"
          ],
          "name": "stdout"
        }
      ]
    },
    {
      "cell_type": "code",
      "metadata": {
        "id": "gO4KanSdE_8_",
        "colab_type": "code",
        "colab": {}
      },
      "source": [
        "train_class_distribution = train_df['Class'].value_counts().sort_index()\n",
        "test_class_distribution = test_df['Class'].value_counts().sort_index()\n",
        "cv_class_distribution = cv_df['Class'].value_counts().sort_index()\n"
      ],
      "execution_count": 0,
      "outputs": []
    },
    {
      "cell_type": "code",
      "metadata": {
        "id": "euI1PLvTFGhL",
        "colab_type": "code",
        "outputId": "bcd9e633-c4dc-490d-a150-8fa798f481f4",
        "colab": {
          "base_uri": "https://localhost:8080/",
          "height": 191
        }
      },
      "source": [
        "train_class_distribution"
      ],
      "execution_count": 0,
      "outputs": [
        {
          "output_type": "execute_result",
          "data": {
            "text/plain": [
              "1    366\n",
              "2    293\n",
              "3     57\n",
              "4    439\n",
              "5    155\n",
              "6    176\n",
              "7    614\n",
              "8     12\n",
              "9     24\n",
              "Name: Class, dtype: int64"
            ]
          },
          "metadata": {
            "tags": []
          },
          "execution_count": 24
        }
      ]
    },
    {
      "cell_type": "code",
      "metadata": {
        "id": "eKUtf0HBFJwc",
        "colab_type": "code",
        "outputId": "0b228762-42ea-4ba9-e74e-3d23b7c3c3ca",
        "colab": {
          "base_uri": "https://localhost:8080/",
          "height": 292
        }
      },
      "source": [
        "my_colors = 'rgbkymc'\n",
        "train_class_distribution.plot(kind='bar')\n",
        "plt.xlabel('Class')\n",
        "plt.ylabel(' Number of Data points per Class')\n",
        "plt.title('Distribution of yi in train data')\n",
        "plt.grid()\n",
        "plt.show()\n",
        "\n"
      ],
      "execution_count": 0,
      "outputs": [
        {
          "output_type": "display_data",
          "data": {
            "image/png": "[encoded data removed]",
            "text/plain": [
              "<Figure size 432x288 with 1 Axes>"
            ]
          },
          "metadata": {
            "tags": []
          }
        }
      ]
    },
    {
      "cell_type": "code",
      "metadata": {
        "id": "n8-vbsS1FNmV",
        "colab_type": "code",
        "outputId": "8a6aec57-a8e6-4d8d-aa49-4dd3817736d6",
        "colab": {
          "base_uri": "https://localhost:8080/",
          "height": 173
        }
      },
      "source": [
        "sorted_yi = np.argsort(-train_class_distribution.values)\n",
        "for i in sorted_yi:\n",
        "    print('Number of data points in class', i+1, ':',train_class_distribution.values[i], '(', np.round((train_class_distribution.values[i]/train_df.shape[0]*100), 3), '%)')"
      ],
      "execution_count": 0,
      "outputs": [
        {
          "output_type": "stream",
          "text": [
            "Number of data points in class 7 : 614 ( 28.745 %)\n",
            "Number of data points in class 4 : 439 ( 20.552 %)\n",
            "Number of data points in class 1 : 366 ( 17.135 %)\n",
            "Number of data points in class 2 : 293 ( 13.717 %)\n",
            "Number of data points in class 6 : 176 ( 8.24 %)\n",
            "Number of data points in class 5 : 155 ( 7.257 %)\n",
            "Number of data points in class 3 : 57 ( 2.669 %)\n",
            "Number of data points in class 9 : 24 ( 1.124 %)\n",
            "Number of data points in class 8 : 12 ( 0.562 %)\n"
          ],
          "name": "stdout"
        }
      ]
    },
    {
      "cell_type": "code",
      "metadata": {
        "id": "qqfb-dWPFTq-",
        "colab_type": "code",
        "outputId": "4f2b9db1-9bee-481f-dd24-b83e85e50c64",
        "colab": {
          "base_uri": "https://localhost:8080/",
          "height": 292
        }
      },
      "source": [
        "my_colors = 'rgbkymc'\n",
        "test_class_distribution.plot(kind='bar')\n",
        "plt.xlabel('Class')\n",
        "plt.ylabel('Number of Data points per Class')\n",
        "plt.title('Distribution of yi in test data')\n",
        "plt.grid()\n",
        "plt.show()"
      ],
      "execution_count": 0,
      "outputs": [
        {
          "output_type": "display_data",
          "data": {
            "image/png": "[encoded data removed]",
            "text/plain": [
              "<Figure size 432x288 with 1 Axes>"
            ]
          },
          "metadata": {
            "tags": []
          }
        }
      ]
    },
    {
      "cell_type": "code",
      "metadata": {
        "id": "p1IEA-8FFXCM",
        "colab_type": "code",
        "outputId": "71bb6f56-c66c-44a9-f838-da7833001588",
        "colab": {
          "base_uri": "https://localhost:8080/",
          "height": 173
        }
      },
      "source": [
        "sorted_yi = np.argsort(-test_class_distribution.values)\n",
        "for i in sorted_yi:\n",
        "    print('Number of data points in class', i+1, ':',test_class_distribution.values[i], '(', np.round((test_class_distribution.values[i]/test_df.shape[0]*100), 3), '%)')"
      ],
      "execution_count": 0,
      "outputs": [
        {
          "output_type": "stream",
          "text": [
            "Number of data points in class 7 : 192 ( 28.743 %)\n",
            "Number of data points in class 4 : 138 ( 20.659 %)\n",
            "Number of data points in class 1 : 114 ( 17.066 %)\n",
            "Number of data points in class 2 : 92 ( 13.772 %)\n",
            "Number of data points in class 6 : 55 ( 8.234 %)\n",
            "Number of data points in class 5 : 48 ( 7.186 %)\n",
            "Number of data points in class 3 : 18 ( 2.695 %)\n",
            "Number of data points in class 9 : 7 ( 1.048 %)\n",
            "Number of data points in class 8 : 4 ( 0.599 %)\n"
          ],
          "name": "stdout"
        }
      ]
    },
    {
      "cell_type": "code",
      "metadata": {
        "id": "EGKBBEl9Fbk-",
        "colab_type": "code",
        "outputId": "dd7d29b7-2eaa-4fb9-8839-6f8e3834a1c0",
        "colab": {
          "base_uri": "https://localhost:8080/",
          "height": 292
        }
      },
      "source": [
        "my_colors = 'rgbkymc'\n",
        "cv_class_distribution.plot(kind='bar')\n",
        "plt.xlabel('Class')\n",
        "plt.ylabel('Data points per Class')\n",
        "plt.title('Distribution of yi in cross validation data')\n",
        "plt.grid()\n",
        "plt.show()"
      ],
      "execution_count": 0,
      "outputs": [
        {
          "output_type": "display_data",
          "data": {
            "image/png": "[encoded data removed]",
            "text/plain": [
              "<Figure size 432x288 with 1 Axes>"
            ]
          },
          "metadata": {
            "tags": []
          }
        }
      ]
    },
    {
      "cell_type": "code",
      "metadata": {
        "id": "V6lFtmduFfa1",
        "colab_type": "code",
        "outputId": "9c92a218-47c6-4533-b666-58dc846c2b8d",
        "colab": {
          "base_uri": "https://localhost:8080/",
          "height": 173
        }
      },
      "source": [
        "sorted_yi = np.argsort(-train_class_distribution.values)\n",
        "for i in sorted_yi:\n",
        "    print('Number of data points in class', i+1, ':',cv_class_distribution.values[i], '(', np.round((cv_class_distribution.values[i]/cv_df.shape[0]*100), 3), '%)')"
      ],
      "execution_count": 0,
      "outputs": [
        {
          "output_type": "stream",
          "text": [
            "Number of data points in class 7 : 154 ( 28.839 %)\n",
            "Number of data points in class 4 : 110 ( 20.599 %)\n",
            "Number of data points in class 1 : 91 ( 17.041 %)\n",
            "Number of data points in class 2 : 73 ( 13.67 %)\n",
            "Number of data points in class 6 : 44 ( 8.24 %)\n",
            "Number of data points in class 5 : 39 ( 7.303 %)\n",
            "Number of data points in class 3 : 14 ( 2.622 %)\n",
            "Number of data points in class 9 : 6 ( 1.124 %)\n",
            "Number of data points in class 8 : 3 ( 0.562 %)\n"
          ],
          "name": "stdout"
        }
      ]
    },
    {
      "cell_type": "code",
      "metadata": {
        "id": "PXBE82qhF6FV",
        "colab_type": "code",
        "colab": {}
      },
      "source": [
        "test_data_len = test_df.shape[0]\n",
        "cv_data_len = cv_df.shape[0]"
      ],
      "execution_count": 0,
      "outputs": []
    },
    {
      "cell_type": "code",
      "metadata": {
        "id": "uEjYjcaaFiWF",
        "colab_type": "code",
        "outputId": "00230f4f-a6a7-45d7-d5fd-9fb92c1639a5",
        "colab": {
          "base_uri": "https://localhost:8080/",
          "height": 35
        }
      },
      "source": [
        "# we create a output array that has exactly same size as the CV data\n",
        "cv_predicted_y = np.zeros((cv_data_len,9))\n",
        "for i in range(cv_data_len):\n",
        "    rand_probs = np.random.rand(1,9)\n",
        "    cv_predicted_y[i] = ((rand_probs/sum(sum(rand_probs)))[0])\n",
        "print(\"Log loss on Cross Validation Data using Random Model\",log_loss(y_cv,cv_predicted_y, eps=1e-15))"
      ],
      "execution_count": 0,
      "outputs": [
        {
          "output_type": "stream",
          "text": [
            "Log loss on Cross Validation Data using Random Model 2.485637116952126\n"
          ],
          "name": "stdout"
        }
      ]
    },
    {
      "cell_type": "code",
      "metadata": {
        "id": "SJC7P8h_FyYV",
        "colab_type": "code",
        "outputId": "e5fe622f-0df7-4148-8857-6e5c7afca05f",
        "colab": {
          "base_uri": "https://localhost:8080/",
          "height": 35
        }
      },
      "source": [
        "# Test-Set error.\n",
        "#we create a output array that has exactly same as the test data\n",
        "test_predicted_y = np.zeros((test_data_len,9))\n",
        "for i in range(test_data_len):\n",
        "    rand_probs = np.random.rand(1,9)\n",
        "    test_predicted_y[i] = ((rand_probs/sum(sum(rand_probs)))[0])\n",
        "print(\"Log loss on Test Data using Random Model\",log_loss(y_test,test_predicted_y, eps=1e-15))\n"
      ],
      "execution_count": 0,
      "outputs": [
        {
          "output_type": "stream",
          "text": [
            "Log loss on Test Data using Random Model 2.5138658074562628\n"
          ],
          "name": "stdout"
        }
      ]
    },
    {
      "cell_type": "code",
      "metadata": {
        "id": "CH3Vid6lGBsx",
        "colab_type": "code",
        "colab": {}
      },
      "source": [
        "# Lets get the index of max probablity\n",
        "predicted_y =np.argmax(test_predicted_y, axis=1)"
      ],
      "execution_count": 0,
      "outputs": []
    },
    {
      "cell_type": "code",
      "metadata": {
        "id": "OnIKBbYUGLZP",
        "colab_type": "code",
        "outputId": "3fb4f23c-ef50-4470-c9f2-e822b6c9d825",
        "colab": {
          "base_uri": "https://localhost:8080/",
          "height": 555
        }
      },
      "source": [
        "# Lets see the output. these will be 665 values present in test dataset\n",
        "predicted_y"
      ],
      "execution_count": 0,
      "outputs": [
        {
          "output_type": "execute_result",
          "data": {
            "text/plain": [
              "array([0, 5, 8, 7, 6, 7, 3, 4, 8, 4, 6, 1, 8, 4, 3, 7, 7, 8, 8, 3, 5, 2,\n",
              "       6, 8, 6, 0, 8, 1, 6, 4, 8, 2, 6, 0, 1, 0, 0, 4, 4, 3, 1, 3, 8, 3,\n",
              "       6, 3, 8, 4, 6, 2, 5, 7, 0, 8, 6, 0, 2, 3, 4, 3, 5, 2, 4, 5, 4, 7,\n",
              "       7, 4, 2, 4, 0, 0, 4, 2, 5, 0, 2, 6, 0, 0, 5, 1, 3, 0, 4, 3, 7, 4,\n",
              "       0, 2, 0, 0, 7, 0, 4, 0, 1, 2, 7, 4, 4, 1, 4, 2, 2, 3, 4, 2, 7, 8,\n",
              "       8, 0, 3, 4, 0, 0, 7, 4, 3, 5, 0, 0, 0, 4, 0, 6, 7, 3, 8, 8, 0, 3,\n",
              "       3, 6, 5, 4, 6, 2, 5, 6, 6, 8, 8, 8, 6, 3, 3, 7, 6, 8, 3, 5, 8, 4,\n",
              "       1, 3, 0, 8, 3, 7, 6, 2, 4, 3, 1, 6, 2, 3, 7, 7, 3, 2, 5, 1, 2, 4,\n",
              "       5, 4, 5, 6, 8, 6, 4, 3, 7, 4, 7, 5, 3, 7, 7, 7, 5, 3, 0, 1, 4, 5,\n",
              "       1, 0, 1, 8, 5, 1, 2, 2, 6, 8, 7, 8, 4, 0, 8, 8, 4, 8, 0, 6, 7, 1,\n",
              "       0, 7, 1, 7, 6, 3, 7, 2, 0, 2, 5, 5, 2, 6, 0, 2, 5, 2, 7, 7, 3, 6,\n",
              "       8, 4, 1, 1, 0, 2, 4, 4, 4, 1, 2, 0, 0, 1, 3, 8, 0, 7, 6, 1, 0, 2,\n",
              "       7, 6, 7, 8, 5, 1, 3, 8, 5, 0, 3, 7, 1, 4, 1, 1, 4, 6, 5, 0, 8, 3,\n",
              "       8, 7, 8, 5, 3, 7, 0, 2, 0, 4, 7, 4, 3, 1, 2, 1, 4, 2, 6, 6, 8, 7,\n",
              "       2, 1, 2, 7, 8, 8, 0, 6, 3, 8, 0, 5, 2, 3, 6, 6, 6, 1, 4, 8, 7, 0,\n",
              "       7, 4, 0, 4, 7, 5, 0, 8, 1, 1, 7, 4, 5, 1, 7, 3, 1, 3, 6, 3, 0, 3,\n",
              "       4, 0, 0, 5, 1, 7, 6, 6, 7, 8, 5, 3, 4, 8, 5, 6, 0, 6, 3, 0, 8, 5,\n",
              "       4, 1, 3, 3, 7, 6, 8, 8, 7, 8, 6, 8, 4, 0, 3, 7, 0, 0, 6, 8, 8, 0,\n",
              "       3, 5, 6, 0, 4, 1, 0, 4, 7, 3, 2, 7, 1, 3, 0, 2, 3, 4, 3, 0, 4, 2,\n",
              "       6, 0, 3, 2, 4, 5, 4, 2, 7, 4, 6, 3, 6, 3, 1, 3, 4, 0, 8, 1, 1, 2,\n",
              "       2, 6, 6, 1, 0, 2, 0, 3, 0, 7, 1, 1, 7, 8, 7, 7, 6, 5, 8, 1, 3, 1,\n",
              "       4, 3, 3, 6, 4, 4, 7, 0, 8, 0, 1, 7, 4, 7, 8, 2, 6, 8, 8, 8, 8, 7,\n",
              "       5, 1, 4, 2, 5, 1, 7, 5, 5, 3, 2, 2, 3, 3, 8, 7, 2, 6, 8, 4, 0, 4,\n",
              "       7, 1, 3, 1, 5, 6, 7, 6, 5, 7, 8, 2, 7, 8, 4, 7, 0, 1, 0, 2, 2, 5,\n",
              "       5, 3, 4, 3, 1, 7, 7, 3, 7, 0, 4, 6, 7, 5, 1, 8, 3, 5, 0, 0, 8, 1,\n",
              "       7, 0, 6, 8, 8, 0, 4, 5, 3, 8, 2, 4, 3, 6, 1, 3, 1, 6, 6, 5, 0, 1,\n",
              "       6, 6, 8, 7, 4, 0, 5, 1, 4, 7, 4, 5, 8, 8, 7, 8, 7, 8, 5, 6, 6, 4,\n",
              "       1, 7, 1, 8, 0, 3, 7, 7, 4, 2, 6, 5, 1, 4, 6, 5, 0, 3, 6, 1, 8, 7,\n",
              "       8, 7, 5, 7, 3, 8, 7, 8, 3, 3, 8, 0, 1, 3, 4, 2, 7, 4, 6, 4, 2, 5,\n",
              "       0, 5, 5, 7, 2, 5, 1, 0, 6, 3, 1, 5, 1, 3, 0, 7, 1, 6, 0, 0, 3, 4,\n",
              "       3, 6, 3, 0, 6, 6, 7, 4])"
            ]
          },
          "metadata": {
            "tags": []
          },
          "execution_count": 35
        }
      ]
    },
    {
      "cell_type": "code",
      "metadata": {
        "id": "6T4p8aNoGRSZ",
        "colab_type": "code",
        "colab": {}
      },
      "source": [
        "predicted_y = predicted_y + 1"
      ],
      "execution_count": 0,
      "outputs": []
    },
    {
      "cell_type": "code",
      "metadata": {
        "id": "IvWbexYuHnLY",
        "colab_type": "code",
        "colab": {}
      },
      "source": [
        ""
      ],
      "execution_count": 0,
      "outputs": []
    },
    {
      "cell_type": "code",
      "metadata": {
        "id": "Hgw6rhaoGYgU",
        "colab_type": "code",
        "outputId": "e0e9b032-4b6e-4208-b343-656f0d80abd0",
        "colab": {
          "base_uri": "https://localhost:8080/",
          "height": 225
        }
      },
      "source": [
        "unique_genes = train_df['Gene'].value_counts()\n",
        "print('Number of Unique Genes :', unique_genes.shape[0])\n",
        "# the top 10 genes that occured most\n",
        "print(unique_genes.head(10))"
      ],
      "execution_count": 0,
      "outputs": [
        {
          "output_type": "stream",
          "text": [
            "Number of Unique Genes : 235\n",
            "BRCA1     170\n",
            "TP53      100\n",
            "EGFR       83\n",
            "PTEN       80\n",
            "BRCA2      78\n",
            "BRAF       71\n",
            "KIT        62\n",
            "ERBB2      49\n",
            "ALK        47\n",
            "PIK3CA     44\n",
            "Name: Gene, dtype: int64\n"
          ],
          "name": "stdout"
        }
      ]
    },
    {
      "cell_type": "code",
      "metadata": {
        "id": "f1I9d-VIHeyN",
        "colab_type": "code",
        "outputId": "568db0ff-6139-446d-d491-c6f500bc2c82",
        "colab": {
          "base_uri": "https://localhost:8080/",
          "height": 35
        }
      },
      "source": [
        "unique_genes.shape[0]"
      ],
      "execution_count": 0,
      "outputs": [
        {
          "output_type": "execute_result",
          "data": {
            "text/plain": [
              "235"
            ]
          },
          "metadata": {
            "tags": []
          },
          "execution_count": 38
        }
      ]
    },
    {
      "cell_type": "code",
      "metadata": {
        "id": "Es8G8eneHz2L",
        "colab_type": "code",
        "colab": {}
      },
      "source": [
        ""
      ],
      "execution_count": 0,
      "outputs": []
    },
    {
      "cell_type": "code",
      "metadata": {
        "id": "GeH3tiZtHkL3",
        "colab_type": "code",
        "colab": {}
      },
      "source": [
        "# one-hot encoding of Gene feature.\n",
        "gene_vectorizer = CountVectorizer()\n",
        "train_gene_feature_onehotCoding = gene_vectorizer.fit_transform(train_df['Gene'])\n",
        "test_gene_feature_onehotCoding = gene_vectorizer.transform(test_df['Gene'])\n",
        "cv_gene_feature_onehotCoding = gene_vectorizer.transform(cv_df['Gene'])"
      ],
      "execution_count": 0,
      "outputs": []
    },
    {
      "cell_type": "code",
      "metadata": {
        "id": "xjfk3xmkH1Xt",
        "colab_type": "code",
        "outputId": "b3ec14dc-1676-4ffc-d71e-8b9bb5d4ded8",
        "colab": {
          "base_uri": "https://localhost:8080/",
          "height": 35
        }
      },
      "source": [
        "train_gene_feature_onehotCoding.shape"
      ],
      "execution_count": 0,
      "outputs": [
        {
          "output_type": "execute_result",
          "data": {
            "text/plain": [
              "(2136, 234)"
            ]
          },
          "metadata": {
            "tags": []
          },
          "execution_count": 40
        }
      ]
    },
    {
      "cell_type": "code",
      "metadata": {
        "id": "i8aS2fOAH44f",
        "colab_type": "code",
        "outputId": "768c2386-c893-4093-95c4-43e7c5d38b8d",
        "colab": {
          "base_uri": "https://localhost:8080/",
          "height": 1000
        }
      },
      "source": [
        "#column names after one-hot encoding for Gene column\n",
        "gene_vectorizer.get_feature_names()"
      ],
      "execution_count": 0,
      "outputs": [
        {
          "output_type": "execute_result",
          "data": {
            "text/plain": [
              "['abl1',\n",
              " 'acvr1',\n",
              " 'ago2',\n",
              " 'akt1',\n",
              " 'akt2',\n",
              " 'akt3',\n",
              " 'alk',\n",
              " 'apc',\n",
              " 'ar',\n",
              " 'araf',\n",
              " 'arid1b',\n",
              " 'arid5b',\n",
              " 'atm',\n",
              " 'atr',\n",
              " 'atrx',\n",
              " 'aurka',\n",
              " 'aurkb',\n",
              " 'b2m',\n",
              " 'bap1',\n",
              " 'bard1',\n",
              " 'bcl2l11',\n",
              " 'bcor',\n",
              " 'braf',\n",
              " 'brca1',\n",
              " 'brca2',\n",
              " 'brd4',\n",
              " 'brip1',\n",
              " 'btk',\n",
              " 'card11',\n",
              " 'carm1',\n",
              " 'casp8',\n",
              " 'cbl',\n",
              " 'ccnd1',\n",
              " 'ccnd3',\n",
              " 'ccne1',\n",
              " 'cdh1',\n",
              " 'cdk12',\n",
              " 'cdk4',\n",
              " 'cdk6',\n",
              " 'cdk8',\n",
              " 'cdkn1a',\n",
              " 'cdkn1b',\n",
              " 'cdkn2a',\n",
              " 'cdkn2b',\n",
              " 'cdkn2c',\n",
              " 'cebpa',\n",
              " 'chek2',\n",
              " 'cic',\n",
              " 'crebbp',\n",
              " 'ctcf',\n",
              " 'ctnnb1',\n",
              " 'ddr2',\n",
              " 'dicer1',\n",
              " 'dnmt3a',\n",
              " 'dnmt3b',\n",
              " 'dusp4',\n",
              " 'egfr',\n",
              " 'eif1ax',\n",
              " 'elf3',\n",
              " 'ep300',\n",
              " 'epas1',\n",
              " 'erbb2',\n",
              " 'erbb3',\n",
              " 'erbb4',\n",
              " 'ercc2',\n",
              " 'ercc3',\n",
              " 'ercc4',\n",
              " 'erg',\n",
              " 'esr1',\n",
              " 'etv1',\n",
              " 'etv6',\n",
              " 'ewsr1',\n",
              " 'ezh2',\n",
              " 'fam58a',\n",
              " 'fanca',\n",
              " 'fat1',\n",
              " 'fbxw7',\n",
              " 'fgf19',\n",
              " 'fgf3',\n",
              " 'fgf4',\n",
              " 'fgfr1',\n",
              " 'fgfr2',\n",
              " 'fgfr3',\n",
              " 'fgfr4',\n",
              " 'flt3',\n",
              " 'foxa1',\n",
              " 'foxl2',\n",
              " 'foxo1',\n",
              " 'foxp1',\n",
              " 'fubp1',\n",
              " 'gata3',\n",
              " 'gli1',\n",
              " 'gnas',\n",
              " 'h3f3a',\n",
              " 'hist1h1c',\n",
              " 'hla',\n",
              " 'hnf1a',\n",
              " 'hras',\n",
              " 'idh1',\n",
              " 'idh2',\n",
              " 'igf1r',\n",
              " 'ikbke',\n",
              " 'ikzf1',\n",
              " 'inpp4b',\n",
              " 'jak1',\n",
              " 'jak2',\n",
              " 'jun',\n",
              " 'kdm5a',\n",
              " 'kdm5c',\n",
              " 'kdm6a',\n",
              " 'kdr',\n",
              " 'keap1',\n",
              " 'kit',\n",
              " 'klf4',\n",
              " 'kmt2a',\n",
              " 'kmt2c',\n",
              " 'kmt2d',\n",
              " 'knstrn',\n",
              " 'kras',\n",
              " 'lats1',\n",
              " 'lats2',\n",
              " 'map2k1',\n",
              " 'map2k2',\n",
              " 'map2k4',\n",
              " 'map3k1',\n",
              " 'mapk1',\n",
              " 'mdm2',\n",
              " 'mdm4',\n",
              " 'med12',\n",
              " 'mef2b',\n",
              " 'men1',\n",
              " 'met',\n",
              " 'mga',\n",
              " 'mlh1',\n",
              " 'mpl',\n",
              " 'msh2',\n",
              " 'msh6',\n",
              " 'mtor',\n",
              " 'myc',\n",
              " 'myd88',\n",
              " 'ncor1',\n",
              " 'nf1',\n",
              " 'nf2',\n",
              " 'nfe2l2',\n",
              " 'nfkbia',\n",
              " 'nkx2',\n",
              " 'notch1',\n",
              " 'notch2',\n",
              " 'npm1',\n",
              " 'nras',\n",
              " 'nsd1',\n",
              " 'ntrk1',\n",
              " 'ntrk2',\n",
              " 'ntrk3',\n",
              " 'nup93',\n",
              " 'pax8',\n",
              " 'pbrm1',\n",
              " 'pdgfra',\n",
              " 'pdgfrb',\n",
              " 'pik3ca',\n",
              " 'pik3cb',\n",
              " 'pik3cd',\n",
              " 'pik3r1',\n",
              " 'pik3r2',\n",
              " 'pik3r3',\n",
              " 'pim1',\n",
              " 'pms1',\n",
              " 'pms2',\n",
              " 'pole',\n",
              " 'ppm1d',\n",
              " 'ppp2r1a',\n",
              " 'ppp6c',\n",
              " 'prdm1',\n",
              " 'ptch1',\n",
              " 'pten',\n",
              " 'ptpn11',\n",
              " 'ptprt',\n",
              " 'rab35',\n",
              " 'rac1',\n",
              " 'rad21',\n",
              " 'rad50',\n",
              " 'rad51b',\n",
              " 'rad51c',\n",
              " 'rad51d',\n",
              " 'raf1',\n",
              " 'rasa1',\n",
              " 'rb1',\n",
              " 'rbm10',\n",
              " 'ret',\n",
              " 'rheb',\n",
              " 'rhoa',\n",
              " 'rit1',\n",
              " 'ros1',\n",
              " 'rras2',\n",
              " 'runx1',\n",
              " 'rxra',\n",
              " 'rybp',\n",
              " 'sdhb',\n",
              " 'setd2',\n",
              " 'sf3b1',\n",
              " 'shoc2',\n",
              " 'shq1',\n",
              " 'smad2',\n",
              " 'smad3',\n",
              " 'smad4',\n",
              " 'smarca4',\n",
              " 'smarcb1',\n",
              " 'smo',\n",
              " 'sos1',\n",
              " 'sox9',\n",
              " 'spop',\n",
              " 'src',\n",
              " 'srsf2',\n",
              " 'stag2',\n",
              " 'stat3',\n",
              " 'stk11',\n",
              " 'tcf7l2',\n",
              " 'tert',\n",
              " 'tet1',\n",
              " 'tet2',\n",
              " 'tgfbr1',\n",
              " 'tgfbr2',\n",
              " 'tmprss2',\n",
              " 'tp53',\n",
              " 'tp53bp1',\n",
              " 'tsc1',\n",
              " 'tsc2',\n",
              " 'u2af1',\n",
              " 'vhl',\n",
              " 'whsc1',\n",
              " 'whsc1l1',\n",
              " 'xpo1',\n",
              " 'xrcc2',\n",
              " 'yap1']"
            ]
          },
          "metadata": {
            "tags": []
          },
          "execution_count": 41
        }
      ]
    },
    {
      "cell_type": "code",
      "metadata": {
        "id": "OrThgfIcH8ru",
        "colab_type": "code",
        "colab": {}
      },
      "source": [
        "\n",
        "\n",
        "\n",
        "\n",
        "\n",
        "# code for response coding with Laplace smoothing.\n",
        "# alpha : used for laplace smoothing\n",
        "# feature: ['gene', 'variation']\n",
        "# df: ['train_df', 'test_df', 'cv_df']\n",
        "# algorithm\n",
        "# ----------\n",
        "# Consider all unique values and the number of occurances of given feature in train data dataframe\n",
        "# build a vector (1*9) , the first element = (number of times it occured in class1 + 10*alpha / number of time it occurred in total data+90*alpha)\n",
        "# gv_dict is like a look up table, for every gene it store a (1*9) representation of it\n",
        "# for a value of feature in df:\n",
        "# if it is in train data:\n",
        "# we add the vector that was stored in 'gv_dict' look up table to 'gv_fea'\n",
        "# if it is not there is train:\n",
        "# we add [1/9, 1/9, 1/9, 1/9,1/9, 1/9, 1/9, 1/9, 1/9] to 'gv_fea'\n",
        "# return 'gv_fea'\n",
        "# ----------------------\n",
        "\n",
        "# get_gv_fea_dict: Get Gene varaition Feature Dict\n",
        "def get_gv_fea_dict(alpha, feature, df):\n",
        "    # value_count: it contains a dict like\n",
        "    # print(train_df['Gene'].value_counts())\n",
        "    # output:\n",
        "    #        {BRCA1      174\n",
        "    #         TP53       106\n",
        "    #         EGFR        86\n",
        "    #         BRCA2       75\n",
        "    #         PTEN        69\n",
        "    #         KIT         61\n",
        "    #         BRAF        60\n",
        "    #         ERBB2       47\n",
        "    #         PDGFRA      46\n",
        "    #         ...}\n",
        "    # print(train_df['Variation'].value_counts())\n",
        "    # output:\n",
        "    # {\n",
        "    # Truncating_Mutations                     63\n",
        "    # Deletion                                 43\n",
        "    # Amplification                            43\n",
        "    # Fusions                                  22\n",
        "    # Overexpression                            3\n",
        "    # E17K                                      3\n",
        "    # Q61L                                      3\n",
        "    # S222D                                     2\n",
        "    # P130S                                     2\n",
        "    # ...\n",
        "    # }\n",
        "    value_count = train_df[feature].value_counts()\n",
        "    \n",
        "    # gv_dict : Gene Variation Dict, which contains the probability array for each gene/variation\n",
        "    gv_dict = dict()\n",
        "    \n",
        "    # denominator will contain the number of time that particular feature occured in whole data\n",
        "    for i, denominator in value_count.items():\n",
        "        # vec will contain (p(yi==1/Gi) probability of gene/variation belongs to perticular class\n",
        "        # vec is 9 diamensional vector\n",
        "        vec = []\n",
        "        for k in range(1,10):\n",
        "            # print(train_df.loc[(train_df['Class']==1) & (train_df['Gene']=='BRCA1')])\n",
        "            #         ID   Gene             Variation  Class  \n",
        "            # 2470  2470  BRCA1                S1715C      1   \n",
        "            # 2486  2486  BRCA1                S1841R      1   \n",
        "            # 2614  2614  BRCA1                   M1R      1   \n",
        "            # 2432  2432  BRCA1                L1657P      1   \n",
        "            # 2567  2567  BRCA1                T1685A      1   \n",
        "            # 2583  2583  BRCA1                E1660G      1   \n",
        "            # 2634  2634  BRCA1                W1718L      1   \n",
        "            # cls_cnt.shape[0] will return the number of rows\n",
        "\n",
        "            cls_cnt = train_df.loc[(train_df['Class']==k) & (train_df[feature]==i)]\n",
        "            \n",
        "            # cls_cnt.shape[0](numerator) will contain the number of time that particular feature occured in whole data\n",
        "            vec.append((cls_cnt.shape[0] + alpha*10)/ (denominator + 90*alpha))\n",
        "\n",
        "        # we are adding the gene/variation to the dict as key and vec as value\n",
        "        gv_dict[i]=vec\n",
        "    return gv_dict\n",
        "\n",
        "# Get Gene variation feature\n",
        "def get_gv_feature(alpha, feature, df):\n",
        "    # print(gv_dict)\n",
        "    #     {'BRCA1': [0.20075757575757575, 0.03787878787878788, 0.068181818181818177, 0.13636363636363635, 0.25, 0.19318181818181818, 0.03787878787878788, 0.03787878787878788, 0.03787878787878788], \n",
        "    #      'TP53': [0.32142857142857145, 0.061224489795918366, 0.061224489795918366, 0.27040816326530615, 0.061224489795918366, 0.066326530612244902, 0.051020408163265307, 0.051020408163265307, 0.056122448979591837], \n",
        "    #      'EGFR': [0.056818181818181816, 0.21590909090909091, 0.0625, 0.068181818181818177, 0.068181818181818177, 0.0625, 0.34659090909090912, 0.0625, 0.056818181818181816], \n",
        "    #      'BRCA2': [0.13333333333333333, 0.060606060606060608, 0.060606060606060608, 0.078787878787878782, 0.1393939393939394, 0.34545454545454546, 0.060606060606060608, 0.060606060606060608, 0.060606060606060608], \n",
        "    #      'PTEN': [0.069182389937106917, 0.062893081761006289, 0.069182389937106917, 0.46540880503144655, 0.075471698113207544, 0.062893081761006289, 0.069182389937106917, 0.062893081761006289, 0.062893081761006289], \n",
        "    #      'KIT': [0.066225165562913912, 0.25165562913907286, 0.072847682119205295, 0.072847682119205295, 0.066225165562913912, 0.066225165562913912, 0.27152317880794702, 0.066225165562913912, 0.066225165562913912], \n",
        "    #      'BRAF': [0.066666666666666666, 0.17999999999999999, 0.073333333333333334, 0.073333333333333334, 0.093333333333333338, 0.080000000000000002, 0.29999999999999999, 0.066666666666666666, 0.066666666666666666],\n",
        "    #      ...\n",
        "    #     }\n",
        "    gv_dict = get_gv_fea_dict(alpha, feature, df)\n",
        "    # value_count is similar in get_gv_fea_dict\n",
        "    value_count = train_df[feature].value_counts()\n",
        "    \n",
        "    # gv_fea: Gene_variation feature, it will contain the feature for each feature value in the data\n",
        "    gv_fea = []\n",
        "    # for every feature values in the given data frame we will check if it is there in the train data then we will add the feature to gv_fea\n",
        "    # if not we will add [1/9,1/9,1/9,1/9,1/9,1/9,1/9,1/9,1/9] to gv_fea\n",
        "    for index, row in df.iterrows():\n",
        "        if row[feature] in dict(value_count).keys():\n",
        "            gv_fea.append(gv_dict[row[feature]])\n",
        "        else:\n",
        "            gv_fea.append([1/9,1/9,1/9,1/9,1/9,1/9,1/9,1/9,1/9])\n",
        "#             gv_fea.append([-1,-1,-1,-1,-1,-1,-1,-1,-1])\n",
        "    return gv_fea"
      ],
      "execution_count": 0,
      "outputs": []
    },
    {
      "cell_type": "code",
      "metadata": {
        "id": "oAKD81dtIlks",
        "colab_type": "code",
        "colab": {}
      },
      "source": [
        "#response-coding of the Gene feature\n",
        "# alpha is used for laplace smoothing\n",
        "alpha = 1\n",
        "# train gene feature\n",
        "train_gene_feature_responseCoding = np.array(get_gv_feature(alpha, \"Gene\", train_df))\n",
        "# test gene feature\n",
        "test_gene_feature_responseCoding = np.array(get_gv_feature(alpha, \"Gene\", test_df))\n",
        "# cross validation gene feature\n",
        "cv_gene_feature_responseCoding = np.array(get_gv_feature(alpha, \"Gene\", cv_df))"
      ],
      "execution_count": 0,
      "outputs": []
    },
    {
      "cell_type": "code",
      "metadata": {
        "id": "nfaOmbBDIub-",
        "colab_type": "code",
        "outputId": "521d45d2-265d-4d2c-e771-e51fd78362e4",
        "colab": {
          "base_uri": "https://localhost:8080/",
          "height": 35
        }
      },
      "source": [
        "train_gene_feature_responseCoding.shape"
      ],
      "execution_count": 0,
      "outputs": [
        {
          "output_type": "execute_result",
          "data": {
            "text/plain": [
              "(2136, 9)"
            ]
          },
          "metadata": {
            "tags": []
          },
          "execution_count": 44
        }
      ]
    },
    {
      "cell_type": "code",
      "metadata": {
        "id": "2_6y4BRe3Aoi",
        "colab_type": "code",
        "outputId": "499fab2b-5398-431e-b9f7-bfc3902ac361",
        "colab": {
          "base_uri": "https://localhost:8080/",
          "height": 121
        }
      },
      "source": [
        "train_df['Gene'].head()"
      ],
      "execution_count": 0,
      "outputs": [
        {
          "output_type": "execute_result",
          "data": {
            "text/plain": [
              "3298      RET\n",
              "642     FBXW7\n",
              "3280      RET\n",
              "1441    FGFR3\n",
              "533      TP53\n",
              "Name: Gene, dtype: object"
            ]
          },
          "metadata": {
            "tags": []
          },
          "execution_count": 45
        }
      ]
    },
    {
      "cell_type": "code",
      "metadata": {
        "id": "h-vsuIl4Jpex",
        "colab_type": "code",
        "colab": {}
      },
      "source": [
        "# We need a hyperparemeter for SGD classifier.\n",
        "alpha = [10 ** x for x in range(-5, 1)]"
      ],
      "execution_count": 0,
      "outputs": []
    },
    {
      "cell_type": "code",
      "metadata": {
        "id": "FSJaPnWMJtdW",
        "colab_type": "code",
        "outputId": "a2c046bc-4ced-4f42-d687-fb3cf09d5781",
        "colab": {
          "base_uri": "https://localhost:8080/",
          "height": 121
        }
      },
      "source": [
        "cv_log_error_array=[]\n",
        "for i in alpha:\n",
        "    clf = SGDClassifier(alpha=i, penalty='l2', loss='log', random_state=42)\n",
        "    clf.fit(train_gene_feature_onehotCoding, y_train)\n",
        "    sig_clf = CalibratedClassifierCV(clf, method=\"sigmoid\")\n",
        "    sig_clf.fit(train_gene_feature_onehotCoding, y_train)\n",
        "    predict_y = sig_clf.predict_proba(cv_gene_feature_onehotCoding)\n",
        "    cv_log_error_array.append(log_loss(y_cv, predict_y, labels=clf.classes_, eps=1e-15))\n",
        "    print('For values of alpha = ', i, \"The log loss is:\",log_loss(y_cv, predict_y, labels=clf.classes_, eps=1e-15))\n"
      ],
      "execution_count": 0,
      "outputs": [
        {
          "output_type": "stream",
          "text": [
            "For values of alpha =  1e-05 The log loss is: 1.218329020915934\n",
            "For values of alpha =  0.0001 The log loss is: 1.2099623129114874\n",
            "For values of alpha =  0.001 The log loss is: 1.2665056681119962\n",
            "For values of alpha =  0.01 The log loss is: 1.3948955290997478\n",
            "For values of alpha =  0.1 The log loss is: 1.4871964876029153\n",
            "For values of alpha =  1 The log loss is: 1.5259392050681313\n"
          ],
          "name": "stdout"
        }
      ]
    },
    {
      "cell_type": "code",
      "metadata": {
        "id": "b8pdfxrLJ1Tq",
        "colab_type": "code",
        "outputId": "1e8b9058-7e21-4489-e452-cc178b451535",
        "colab": {
          "base_uri": "https://localhost:8080/",
          "height": 121
        }
      },
      "source": [
        "cv_log_error_array=[]\n",
        "for i in alpha:\n",
        "    clf = SGDClassifier(alpha=i, penalty='l2', loss='log', random_state=42)\n",
        "    clf.fit(train_gene_feature_onehotCoding, y_train)\n",
        "    sig_clf = CalibratedClassifierCV(clf, method=\"sigmoid\")\n",
        "    sig_clf.fit(train_gene_feature_onehotCoding, y_train)\n",
        "    predict_y = sig_clf.predict_proba(cv_gene_feature_onehotCoding)\n",
        "    cv_log_error_array.append(log_loss(y_cv, predict_y, labels=clf.classes_, eps=1e-15))\n",
        "    print('For values of alpha = ', i, \"The log loss is:\",log_loss(y_cv, predict_y, labels=clf.classes_, eps=1e-15))\n"
      ],
      "execution_count": 0,
      "outputs": [
        {
          "output_type": "stream",
          "text": [
            "For values of alpha =  1e-05 The log loss is: 1.218329020915934\n",
            "For values of alpha =  0.0001 The log loss is: 1.2099623129114874\n",
            "For values of alpha =  0.001 The log loss is: 1.2665056681119962\n",
            "For values of alpha =  0.01 The log loss is: 1.3948955290997478\n",
            "For values of alpha =  0.1 The log loss is: 1.4871964876029153\n",
            "For values of alpha =  1 The log loss is: 1.5259392050681313\n"
          ],
          "name": "stdout"
        }
      ]
    },
    {
      "cell_type": "code",
      "metadata": {
        "id": "IoMaCs3WKlt5",
        "colab_type": "code",
        "outputId": "0f99a6cb-1ffe-4527-c259-ae33ee0a4d47",
        "colab": {
          "base_uri": "https://localhost:8080/",
          "height": 295
        }
      },
      "source": [
        "# Lets plot the same to check the best Alpha value\n",
        "fig, ax = plt.subplots()\n",
        "ax.plot(alpha, cv_log_error_array,c='g')\n",
        "for i, txt in enumerate(np.round(cv_log_error_array,3)):\n",
        "    ax.annotate((alpha[i],np.round(txt,3)), (alpha[i],cv_log_error_array[i]))\n",
        "plt.grid()\n",
        "plt.title(\"Cross Validation Error for each alpha\")\n",
        "plt.xlabel(\"Alpha i's\")\n",
        "plt.ylabel(\"Error measure\")\n",
        "plt.show()"
      ],
      "execution_count": 0,
      "outputs": [
        {
          "output_type": "display_data",
          "data": {
            "image/png": "[encoded data removed]",
            "text/plain": [
              "<Figure size 432x288 with 1 Axes>"
            ]
          },
          "metadata": {
            "tags": []
          }
        }
      ]
    },
    {
      "cell_type": "code",
      "metadata": {
        "id": "8Q2HHjN6KZ1t",
        "colab_type": "code",
        "outputId": "4e43fb2e-85f6-4c8d-aec8-983c42051195",
        "colab": {
          "base_uri": "https://localhost:8080/",
          "height": 69
        }
      },
      "source": [
        "# Lets use best alpha value as we can see from above graph and compute log loss\n",
        "best_alpha = np.argmin(cv_log_error_array)\n",
        "clf = SGDClassifier(alpha=alpha[best_alpha], penalty='l2', loss='log', random_state=42)\n",
        "clf.fit(train_gene_feature_onehotCoding, y_train)\n",
        "sig_clf = CalibratedClassifierCV(clf, method=\"sigmoid\")\n",
        "sig_clf.fit(train_gene_feature_onehotCoding, y_train)\n",
        "\n",
        "predict_y = sig_clf.predict_proba(train_gene_feature_onehotCoding)\n",
        "print('For values of best alpha = ', alpha[best_alpha], \"The train log loss is:\",log_loss(y_train, predict_y, labels=clf.classes_, eps=1e-15))\n",
        "predict_y = sig_clf.predict_proba(cv_gene_feature_onehotCoding)\n",
        "print('For values of best alpha = ', alpha[best_alpha], \"The cross validation log loss is:\",log_loss(y_cv, predict_y, labels=clf.classes_, eps=1e-15))\n",
        "predict_y = sig_clf.predict_proba(test_gene_feature_onehotCoding)\n",
        "print('For values of best alpha = ', alpha[best_alpha], \"The test log loss is:\",log_loss(y_test, predict_y, labels=clf.classes_, eps=1e-15))\n"
      ],
      "execution_count": 0,
      "outputs": [
        {
          "output_type": "stream",
          "text": [
            "For values of best alpha =  0.0001 The train log loss is: 0.9850348320878805\n",
            "For values of best alpha =  0.0001 The cross validation log loss is: 1.2099623129114874\n",
            "For values of best alpha =  0.0001 The test log loss is: 1.1500591962154771\n"
          ],
          "name": "stdout"
        }
      ]
    },
    {
      "cell_type": "code",
      "metadata": {
        "id": "ZFj_-1L3Kd6A",
        "colab_type": "code",
        "colab": {}
      },
      "source": [
        "test_coverage=test_df[test_df['Gene'].isin(list(set(train_df['Gene'])))].shape[0]\n",
        "cv_coverage=cv_df[cv_df['Gene'].isin(list(set(train_df['Gene'])))].shape[0]"
      ],
      "execution_count": 0,
      "outputs": []
    },
    {
      "cell_type": "code",
      "metadata": {
        "id": "rYTQ9Kv2KsvK",
        "colab_type": "code",
        "outputId": "e5ca1477-7629-42e3-acca-07ed064b5a14",
        "colab": {
          "base_uri": "https://localhost:8080/",
          "height": 52
        }
      },
      "source": [
        "print('1. In test data',test_coverage, 'out of',test_df.shape[0], \":\",(test_coverage/test_df.shape[0])*100)\n",
        "print('2. In cross validation data',cv_coverage, 'out of ',cv_df.shape[0],\":\" ,(cv_coverage/cv_df.shape[0])*100)\n"
      ],
      "execution_count": 0,
      "outputs": [
        {
          "output_type": "stream",
          "text": [
            "1. In test data 646 out of 668 : 96.7065868263473\n",
            "2. In cross validation data 519 out of  534 : 97.19101123595506\n"
          ],
          "name": "stdout"
        }
      ]
    },
    {
      "cell_type": "code",
      "metadata": {
        "id": "w7MwCkNCKvl_",
        "colab_type": "code",
        "colab": {}
      },
      "source": [
        ""
      ],
      "execution_count": 0,
      "outputs": []
    },
    {
      "cell_type": "code",
      "metadata": {
        "id": "z7eyk2g8KyN9",
        "colab_type": "code",
        "outputId": "969a82ed-d0d0-4f5e-a997-5f33e31d7b2b",
        "colab": {
          "base_uri": "https://localhost:8080/",
          "height": 225
        }
      },
      "source": [
        "unique_variations = train_df['Variation'].value_counts()\n",
        "print('Number of Unique Variations :', unique_variations.shape[0])\n",
        "# the top 10 variations that occured most\n",
        "print(unique_variations.head(10))"
      ],
      "execution_count": 0,
      "outputs": [
        {
          "output_type": "stream",
          "text": [
            "Number of Unique Variations : 1938\n",
            "Truncating_Mutations    67\n",
            "Amplification           44\n",
            "Deletion                44\n",
            "Fusions                 17\n",
            "G12V                     4\n",
            "Q61R                     3\n",
            "G12S                     2\n",
            "T58I                     2\n",
            "M90I                     2\n",
            "S308A                    2\n",
            "Name: Variation, dtype: int64\n"
          ],
          "name": "stdout"
        }
      ]
    },
    {
      "cell_type": "code",
      "metadata": {
        "id": "Bd-W3yo2K2Uo",
        "colab_type": "code",
        "colab": {}
      },
      "source": [
        ""
      ],
      "execution_count": 0,
      "outputs": []
    },
    {
      "cell_type": "code",
      "metadata": {
        "id": "IeAWlA1LK5op",
        "colab_type": "code",
        "colab": {}
      },
      "source": [
        "# one-hot encoding of variation feature.\n",
        "variation_vectorizer = CountVectorizer()\n",
        "train_variation_feature_onehotCoding = variation_vectorizer.fit_transform(train_df['Variation'])\n",
        "test_variation_feature_onehotCoding = variation_vectorizer.transform(test_df['Variation'])\n",
        "cv_variation_feature_onehotCoding = variation_vectorizer.transform(cv_df['Variation'])"
      ],
      "execution_count": 0,
      "outputs": []
    },
    {
      "cell_type": "code",
      "metadata": {
        "id": "ANK2u_uGLE0s",
        "colab_type": "code",
        "outputId": "6added17-d95a-42a1-e994-5c93b39172cd",
        "colab": {
          "base_uri": "https://localhost:8080/",
          "height": 35
        }
      },
      "source": [
        "train_variation_feature_onehotCoding.shape"
      ],
      "execution_count": 0,
      "outputs": [
        {
          "output_type": "execute_result",
          "data": {
            "text/plain": [
              "(2136, 1972)"
            ]
          },
          "metadata": {
            "tags": []
          },
          "execution_count": 55
        }
      ]
    },
    {
      "cell_type": "code",
      "metadata": {
        "id": "MR_IzdnCPlBR",
        "colab_type": "code",
        "colab": {}
      },
      "source": [
        "# alpha is used for laplace smoothing\n",
        "alpha = 1\n",
        "# train gene feature\n",
        "train_variation_feature_responseCoding = np.array(get_gv_feature(alpha, \"Variation\", train_df))\n",
        "# test gene feature\n",
        "test_variation_feature_responseCoding = np.array(get_gv_feature(alpha, \"Variation\", test_df))\n",
        "# cross validation gene feature\n",
        "cv_variation_feature_responseCoding = np.array(get_gv_feature(alpha, \"Variation\", cv_df))"
      ],
      "execution_count": 0,
      "outputs": []
    },
    {
      "cell_type": "code",
      "metadata": {
        "id": "lAFAIwbzLJW2",
        "colab_type": "code",
        "outputId": "638a1b9a-b83f-4207-90e7-dc5ae1f3d813",
        "colab": {
          "base_uri": "https://localhost:8080/",
          "height": 35
        }
      },
      "source": [
        "train_variation_feature_responseCoding.shape"
      ],
      "execution_count": 0,
      "outputs": [
        {
          "output_type": "execute_result",
          "data": {
            "text/plain": [
              "(2136, 9)"
            ]
          },
          "metadata": {
            "tags": []
          },
          "execution_count": 57
        }
      ]
    },
    {
      "cell_type": "code",
      "metadata": {
        "id": "DM3pbtAtLOj6",
        "colab_type": "code",
        "colab": {}
      },
      "source": [
        "# We need a hyperparemeter for SGD classifier.\n",
        "alpha = [10 ** x for x in range(-5, 1)]"
      ],
      "execution_count": 0,
      "outputs": []
    },
    {
      "cell_type": "code",
      "metadata": {
        "id": "349wGE9cLZJR",
        "colab_type": "code",
        "outputId": "c5bdd0f3-78e9-4b12-fd15-6f259f5439a5",
        "colab": {
          "base_uri": "https://localhost:8080/",
          "height": 121
        }
      },
      "source": [
        "cv_log_error_array=[]\n",
        "for i in alpha:\n",
        "    clf = SGDClassifier(alpha=i, penalty='l2', loss='log', random_state=42)\n",
        "    clf.fit(train_variation_feature_onehotCoding, y_train)\n",
        "    \n",
        "    sig_clf = CalibratedClassifierCV(clf, method=\"sigmoid\")\n",
        "    sig_clf.fit(train_variation_feature_onehotCoding, y_train)\n",
        "    predict_y = sig_clf.predict_proba(cv_variation_feature_onehotCoding)\n",
        "    \n",
        "    cv_log_error_array.append(log_loss(y_cv, predict_y, labels=clf.classes_, eps=1e-15))\n",
        "    print('For values of alpha = ', i, \"The log loss is:\",log_loss(y_cv, predict_y, labels=clf.classes_, eps=1e-15))"
      ],
      "execution_count": 0,
      "outputs": [
        {
          "output_type": "stream",
          "text": [
            "For values of alpha =  1e-05 The log loss is: 1.684428332593489\n",
            "For values of alpha =  0.0001 The log loss is: 1.6707188109789852\n",
            "For values of alpha =  0.001 The log loss is: 1.6705139354052099\n",
            "For values of alpha =  0.01 The log loss is: 1.6738892487111199\n",
            "For values of alpha =  0.1 The log loss is: 1.6911471244197893\n",
            "For values of alpha =  1 The log loss is: 1.694721353005843\n"
          ],
          "name": "stdout"
        }
      ]
    },
    {
      "cell_type": "code",
      "metadata": {
        "id": "NmpVeJQLLekI",
        "colab_type": "code",
        "outputId": "5732a6f8-c43c-4bb0-db06-b10de9780d09",
        "colab": {
          "base_uri": "https://localhost:8080/",
          "height": 295
        }
      },
      "source": [
        "# Lets plot the same to check the best Alpha value\n",
        "fig, ax = plt.subplots()\n",
        "ax.plot(alpha, cv_log_error_array,c='g')\n",
        "for i, txt in enumerate(np.round(cv_log_error_array,3)):\n",
        "    ax.annotate((alpha[i],np.round(txt,3)), (alpha[i],cv_log_error_array[i]))\n",
        "plt.grid()\n",
        "plt.title(\"Cross Validation Error for each alpha\")\n",
        "plt.xlabel(\"Alpha i's\")\n",
        "plt.ylabel(\"Error measure\")\n",
        "plt.show()"
      ],
      "execution_count": 0,
      "outputs": [
        {
          "output_type": "display_data",
          "data": {
            "image/png": "[encoded data removed]",
            "text/plain": [
              "<Figure size 432x288 with 1 Axes>"
            ]
          },
          "metadata": {
            "tags": []
          }
        }
      ]
    },
    {
      "cell_type": "code",
      "metadata": {
        "id": "jjSjeVc2LiNi",
        "colab_type": "code",
        "outputId": "b917e3b7-6be4-41b7-ddf5-7e08a2a6e03f",
        "colab": {
          "base_uri": "https://localhost:8080/",
          "height": 69
        }
      },
      "source": [
        "best_alpha = np.argmin(cv_log_error_array)\n",
        "clf = SGDClassifier(alpha=alpha[best_alpha], penalty='l2', loss='log', random_state=42)\n",
        "clf.fit(train_variation_feature_onehotCoding, y_train)\n",
        "sig_clf = CalibratedClassifierCV(clf, method=\"sigmoid\")\n",
        "sig_clf.fit(train_variation_feature_onehotCoding, y_train)\n",
        "\n",
        "predict_y = sig_clf.predict_proba(train_variation_feature_onehotCoding)\n",
        "print('For values of best alpha = ', alpha[best_alpha], \"The train log loss is:\",log_loss(y_train, predict_y, labels=clf.classes_, eps=1e-15))\n",
        "predict_y = sig_clf.predict_proba(cv_variation_feature_onehotCoding)\n",
        "print('For values of best alpha = ', alpha[best_alpha], \"The cross validation log loss is:\",log_loss(y_cv, predict_y, labels=clf.classes_, eps=1e-15))\n",
        "predict_y = sig_clf.predict_proba(test_variation_feature_onehotCoding)\n",
        "print('For values of best alpha = ', alpha[best_alpha], \"The test log loss is:\",log_loss(y_test, predict_y, labels=clf.classes_, eps=1e-15))\n"
      ],
      "execution_count": 0,
      "outputs": [
        {
          "output_type": "stream",
          "text": [
            "For values of best alpha =  0.001 The train log loss is: 1.0304599636700056\n",
            "For values of best alpha =  0.001 The cross validation log loss is: 1.6705139354052099\n",
            "For values of best alpha =  0.001 The test log loss is: 1.7190873437811298\n"
          ],
          "name": "stdout"
        }
      ]
    },
    {
      "cell_type": "code",
      "metadata": {
        "id": "y-mVPPRSLmfh",
        "colab_type": "code",
        "colab": {}
      },
      "source": [
        "test_coverage=test_df[test_df['Variation'].isin(list(set(train_df['Variation'])))].shape[0]\n",
        "cv_coverage=cv_df[cv_df['Variation'].isin(list(set(train_df['Variation'])))].shape[0]"
      ],
      "execution_count": 0,
      "outputs": []
    },
    {
      "cell_type": "code",
      "metadata": {
        "id": "zLSJC11oLp3Q",
        "colab_type": "code",
        "outputId": "c4d3480a-9518-4cbf-820d-fa892fded722",
        "colab": {
          "base_uri": "https://localhost:8080/",
          "height": 52
        }
      },
      "source": [
        "print('1. In test data',test_coverage, 'out of',test_df.shape[0], \":\",(test_coverage/test_df.shape[0])*100)\n",
        "print('2. In cross validation data',cv_coverage, 'out of ',cv_df.shape[0],\":\" ,(cv_coverage/cv_df.shape[0])*100)"
      ],
      "execution_count": 0,
      "outputs": [
        {
          "output_type": "stream",
          "text": [
            "1. In test data 72 out of 668 : 10.778443113772456\n",
            "2. In cross validation data 64 out of  534 : 11.985018726591761\n"
          ],
          "name": "stdout"
        }
      ]
    },
    {
      "cell_type": "code",
      "metadata": {
        "id": "BCdBWuU7LxS-",
        "colab_type": "code",
        "colab": {}
      },
      "source": [
        ""
      ],
      "execution_count": 0,
      "outputs": []
    },
    {
      "cell_type": "code",
      "metadata": {
        "id": "_UaAdMQRLs48",
        "colab_type": "code",
        "colab": {}
      },
      "source": [
        "# cls_text is a data frame\n",
        "# for every row in data fram consider the 'TEXT'\n",
        "# split the words by space\n",
        "# make a dict with those words\n",
        "# increment its count whenever we see that word\n",
        "\n",
        "def extract_dictionary_paddle(cls_text):\n",
        "    dictionary = defaultdict(int)\n",
        "    for index, row in cls_text.iterrows():\n",
        "        for word in row['TEXT'].split():\n",
        "            dictionary[word] +=1\n",
        "    return dictionary"
      ],
      "execution_count": 0,
      "outputs": []
    },
    {
      "cell_type": "code",
      "metadata": {
        "id": "ooX8f-KeLyQI",
        "colab_type": "code",
        "colab": {}
      },
      "source": [
        "import math\n",
        "\n",
        "def get_text_responsecoding(df):\n",
        "    text_feature_responseCoding = np.zeros((df.shape[0],9))\n",
        "    for i in range(0,9):\n",
        "        row_index = 0\n",
        "        for index, row in df.iterrows():\n",
        "            sum_prob = 0\n",
        "            for word in row['TEXT'].split():\n",
        "                sum_prob += math.log(((dict_list[i].get(word,0)+10 )/(total_dict.get(word,0)+90)))\n",
        "            text_feature_responseCoding[row_index][i] = math.exp(sum_prob/len(row['TEXT'].split()))\n",
        "            row_index += 1\n",
        "    return text_feature_responseCoding"
      ],
      "execution_count": 0,
      "outputs": []
    },
    {
      "cell_type": "code",
      "metadata": {
        "id": "mYniMj9pL33A",
        "colab_type": "code",
        "outputId": "ebee6901-47ed-4eee-ab21-a470aa6965ac",
        "colab": {
          "base_uri": "https://localhost:8080/",
          "height": 35
        }
      },
      "source": [
        "# building a CountVectorizer with all the words that occured minimum 3 times in train data\n",
        "text_vectorizer = CountVectorizer(min_df=3)\n",
        "train_text_feature_onehotCoding = text_vectorizer.fit_transform(train_df['TEXT'])\n",
        "# getting all the feature names (words)\n",
        "train_text_features= text_vectorizer.get_feature_names()\n",
        "\n",
        "# train_text_feature_onehotCoding.sum(axis=0).A1 will sum every row and returns (1*number of features) vector\n",
        "train_text_fea_counts = train_text_feature_onehotCoding.sum(axis=0).A1\n",
        "\n",
        "# zip(list(text_features),text_fea_counts) will zip a word with its number of times it occured\n",
        "text_fea_dict = dict(zip(list(train_text_features),train_text_fea_counts))\n",
        "\n",
        "\n",
        "print(\"Total number of unique words in train data :\", len(train_text_features))\n"
      ],
      "execution_count": 0,
      "outputs": [
        {
          "output_type": "stream",
          "text": [
            "Total number of unique words in train data : 8081\n"
          ],
          "name": "stdout"
        }
      ]
    },
    {
      "cell_type": "code",
      "metadata": {
        "id": "kMPEr88aL7WF",
        "colab_type": "code",
        "colab": {}
      },
      "source": [
        "dict_list = []\n",
        "# dict_list =[] contains 9 dictoinaries each corresponds to a class\n",
        "for i in range(1,10):\n",
        "    cls_text = train_df[train_df['Class']==i]\n",
        "    # build a word dict based on the words in that class\n",
        "    dict_list.append(extract_dictionary_paddle(cls_text))\n",
        "    # append it to dict_list\n",
        "\n",
        "# dict_list[i] is build on i'th  class text data\n",
        "# total_dict is buid on whole training text data\n",
        "total_dict = extract_dictionary_paddle(train_df)\n",
        "\n",
        "\n",
        "confuse_array = []\n",
        "for i in train_text_features:\n",
        "    ratios = []\n",
        "    max_val = -1\n",
        "    for j in range(0,9):\n",
        "        ratios.append((dict_list[j][i]+10 )/(total_dict[i]+90))\n",
        "    confuse_array.append(ratios)\n",
        "confuse_array = np.array(confuse_array)"
      ],
      "execution_count": 0,
      "outputs": []
    },
    {
      "cell_type": "code",
      "metadata": {
        "id": "8gitJEXzMDEz",
        "colab_type": "code",
        "colab": {}
      },
      "source": [
        "#response coding of text features\n",
        "train_text_feature_responseCoding  = get_text_responsecoding(train_df)\n",
        "test_text_feature_responseCoding  = get_text_responsecoding(test_df)\n",
        "cv_text_feature_responseCoding  = get_text_responsecoding(cv_df)"
      ],
      "execution_count": 0,
      "outputs": []
    },
    {
      "cell_type": "code",
      "metadata": {
        "id": "kgcWCkRNMIgr",
        "colab_type": "code",
        "colab": {}
      },
      "source": [
        "# we convert each row values such that they sum to 1  \n",
        "train_text_feature_responseCoding = (train_text_feature_responseCoding.T/train_text_feature_responseCoding.sum(axis=1)).T\n",
        "test_text_feature_responseCoding = (test_text_feature_responseCoding.T/test_text_feature_responseCoding.sum(axis=1)).T\n",
        "cv_text_feature_responseCoding = (cv_text_feature_responseCoding.T/cv_text_feature_responseCoding.sum(axis=1)).T"
      ],
      "execution_count": 0,
      "outputs": []
    },
    {
      "cell_type": "code",
      "metadata": {
        "id": "dn6IcG13MN6w",
        "colab_type": "code",
        "colab": {}
      },
      "source": [
        "train_text_feature_onehotCoding = normalize(train_text_feature_onehotCoding, axis=0)\n",
        "\n",
        "# we use the same vectorizer that was trained on train data\n",
        "test_text_feature_onehotCoding = text_vectorizer.transform(test_df['TEXT'])\n",
        "# don't forget to normalize every feature\n",
        "test_text_feature_onehotCoding = normalize(test_text_feature_onehotCoding, axis=0)\n",
        "\n",
        "# we use the same vectorizer that was trained on train data\n",
        "cv_text_feature_onehotCoding = text_vectorizer.transform(cv_df['TEXT'])\n",
        "# don't forget to normalize every feature\n",
        "cv_text_feature_onehotCoding = normalize(cv_text_feature_onehotCoding, axis=0)\n"
      ],
      "execution_count": 0,
      "outputs": []
    },
    {
      "cell_type": "code",
      "metadata": {
        "id": "LmeSPZoe7Nar",
        "colab_type": "code",
        "colab": {}
      },
      "source": [
        "from sklearn.feature_extraction.text import TfidfVectorizer\n",
        "vectorizer = TfidfVectorizer()\n",
        "train_text_feature_TFIDF=vectorizer.fit_transform(train_df['TEXT'])\n",
        "train_text_feature_TFIDF=normalize(train_text_feature_TFIDF,axis=0)\n",
        "\n",
        "test_text_feature_TFIDF = normalize(vectorizer.transform(test_df['TEXT']),axis=0)\n",
        "\n",
        "cv_text_feature_TFIDF=normalize(vectorizer.transform(cv_df['TEXT']),axis=0)\n"
      ],
      "execution_count": 0,
      "outputs": []
    },
    {
      "cell_type": "code",
      "metadata": {
        "id": "8T4_b63u48GI",
        "colab_type": "code",
        "outputId": "71bafc4b-632b-4d01-bd27-c2f0d94fafc7",
        "colab": {
          "base_uri": "https://localhost:8080/",
          "height": 121
        }
      },
      "source": [
        "train_df['TEXT'].tail()"
      ],
      "execution_count": 0,
      "outputs": [
        {
          "output_type": "execute_result",
          "data": {
            "text/plain": [
              "68      genes encoding components pi3k akt mtor signal...\n",
              "2136                                   CCND1 D289_D292del\n",
              "275                                            EGFR E330K\n",
              "3155                                           KRAS K147E\n",
              "2069                                  MYC PVT1-MYC Fusion\n",
              "Name: TEXT, dtype: object"
            ]
          },
          "metadata": {
            "tags": []
          },
          "execution_count": 72
        }
      ]
    },
    {
      "cell_type": "code",
      "metadata": {
        "id": "8y69Xgyv4l_T",
        "colab_type": "code",
        "colab": {}
      },
      "source": [
        "from gensim.models import Word2Vec\n",
        "model=Word2Vec([train_df['TEXT'].tolist()],min_count=1,size=9)\n",
        "train_text_feature_word2vec= np.array([model[word[1]] for word in train_df['TEXT'].iteritems()])\n",
        "model=Word2Vec([test_df['TEXT'].tolist()],min_count=1,size=9)\n",
        "test_text_feature_word2vec= np.array([model[word[1]] for word in test_df['TEXT'].iteritems()])\n",
        "model=Word2Vec([cv_df['TEXT'].tolist()],min_count=1,size=9)\n",
        "cv_text_feature_word2vec= np.array([model[word[1]] for word in cv_df['TEXT'].iteritems()])\n"
      ],
      "execution_count": 0,
      "outputs": []
    },
    {
      "cell_type": "code",
      "metadata": {
        "id": "ENNweTz5MZl7",
        "colab_type": "code",
        "colab": {}
      },
      "source": [
        "sorted_text_fea_dict = dict(sorted(text_fea_dict.items(), key=lambda x: x[1] , reverse=True))\n",
        "sorted_text_occur = np.array(list(sorted_text_fea_dict.values()))"
      ],
      "execution_count": 0,
      "outputs": []
    },
    {
      "cell_type": "code",
      "metadata": {
        "id": "-TIUQY2gMeeK",
        "colab_type": "code",
        "outputId": "974e27df-09a8-4b80-d283-2780077c64ee",
        "colab": {
          "base_uri": "https://localhost:8080/",
          "height": 55
        }
      },
      "source": [
        "# Number of words for a given frequency.\n",
        "print(Counter(sorted_text_occur))"
      ],
      "execution_count": 0,
      "outputs": [
        {
          "output_type": "stream",
          "text": [
            "Counter({4: 899, 5: 576, 6: 512, 3: 490, 8: 337, 7: 320, 9: 262, 10: 231, 11: 223, 12: 216, 13: 161, 14: 160, 15: 152, 20: 128, 18: 127, 16: 119, 19: 97, 17: 93, 22: 91, 28: 79, 25: 79, 24: 73, 27: 71, 21: 70, 23: 69, 30: 65, 32: 57, 26: 57, 29: 50, 40: 42, 36: 42, 34: 41, 42: 38, 33: 38, 31: 38, 44: 37, 37: 36, 35: 35, 41: 34, 53: 33, 45: 31, 51: 30, 58: 28, 46: 28, 38: 28, 39: 27, 47: 26, 43: 26, 64: 25, 55: 25, 49: 25, 52: 24, 50: 24, 68: 23, 66: 22, 61: 22, 54: 22, 62: 21, 59: 21, 57: 21, 65: 20, 84: 19, 60: 19, 76: 18, 56: 18, 79: 16, 72: 16, 63: 16, 48: 16, 93: 15, 75: 15, 67: 15, 85: 14, 74: 14, 73: 14, 70: 14, 81: 13, 113: 12, 96: 12, 82: 12, 77: 12, 102: 11, 91: 11, 90: 11, 83: 11, 80: 11, 98: 10, 88: 10, 123: 9, 121: 9, 115: 9, 110: 9, 106: 9, 104: 9, 103: 9, 99: 9, 97: 9, 78: 9, 69: 9, 144: 8, 116: 8, 112: 8, 111: 8, 109: 8, 95: 8, 92: 8, 87: 8, 71: 8, 133: 7, 130: 7, 126: 7, 124: 7, 120: 7, 118: 7, 114: 7, 105: 7, 100: 7, 94: 7, 89: 7, 271: 6, 228: 6, 171: 6, 154: 6, 138: 6, 136: 6, 128: 6, 125: 6, 122: 6, 108: 6, 107: 6, 86: 6, 547: 5, 293: 5, 248: 5, 217: 5, 212: 5, 189: 5, 155: 5, 152: 5, 150: 5, 147: 5, 143: 5, 142: 5, 141: 5, 137: 5, 132: 5, 131: 5, 101: 5, 265: 4, 262: 4, 237: 4, 208: 4, 205: 4, 201: 4, 194: 4, 192: 4, 188: 4, 187: 4, 185: 4, 170: 4, 158: 4, 157: 4, 148: 4, 140: 4, 139: 4, 134: 4, 127: 4, 119: 4, 117: 4, 462: 3, 444: 3, 389: 3, 323: 3, 290: 3, 281: 3, 277: 3, 267: 3, 264: 3, 256: 3, 242: 3, 234: 3, 231: 3, 225: 3, 224: 3, 213: 3, 207: 3, 204: 3, 197: 3, 191: 3, 183: 3, 181: 3, 178: 3, 166: 3, 162: 3, 160: 3, 159: 3, 151: 3, 146: 3, 145: 3, 740: 2, 605: 2, 541: 2, 525: 2, 517: 2, 480: 2, 459: 2, 448: 2, 415: 2, 410: 2, 404: 2, 398: 2, 378: 2, 374: 2, 366: 2, 364: 2, 353: 2, 345: 2, 343: 2, 333: 2, 332: 2, 326: 2, 322: 2, 311: 2, 310: 2, 309: 2, 298: 2, 296: 2, 292: 2, 283: 2, 274: 2, 273: 2, 272: 2, 268: 2, 266: 2, 259: 2, 257: 2, 253: 2, 252: 2, 251: 2, 247: 2, 246: 2, 245: 2, 236: 2, 232: 2, 230: 2, 229: 2, 227: 2, 223: 2, 221: 2, 220: 2, 216: 2, 215: 2, 214: 2, 211: 2, 210: 2, 199: 2, 193: 2, 190: 2, 186: 2, 184: 2, 182: 2, 179: 2, 177: 2, 176: 2, 175: 2, 172: 2, 163: 2, 156: 2, 153: 2, 135: 2, 5492: 1, 3693: 1, 3581: 1, 3212: 1, 2524: 1, 2494: 1, 2475: 1, 2122: 1, 2035: 1, 1978: 1, 1916: 1, 1763: 1, 1546: 1, 1434: 1, 1422: 1, 1395: 1, 1359: 1, 1327: 1, 1301: 1, 1296: 1, 1266: 1, 1258: 1, 1242: 1, 1240: 1, 1165: 1, 1157: 1, 1155: 1, 1137: 1, 1134: 1, 1106: 1, 1071: 1, 1061: 1, 1057: 1, 1037: 1, 991: 1, 959: 1, 918: 1, 899: 1, 888: 1, 879: 1, 865: 1, 860: 1, 796: 1, 787: 1, 782: 1, 774: 1, 747: 1, 742: 1, 732: 1, 718: 1, 715: 1, 714: 1, 713: 1, 695: 1, 692: 1, 688: 1, 687: 1, 677: 1, 658: 1, 653: 1, 632: 1, 626: 1, 617: 1, 603: 1, 598: 1, 596: 1, 595: 1, 592: 1, 591: 1, 585: 1, 562: 1, 559: 1, 545: 1, 543: 1, 536: 1, 535: 1, 533: 1, 524: 1, 511: 1, 508: 1, 502: 1, 495: 1, 494: 1, 490: 1, 482: 1, 477: 1, 475: 1, 474: 1, 467: 1, 465: 1, 463: 1, 455: 1, 452: 1, 449: 1, 443: 1, 442: 1, 436: 1, 435: 1, 434: 1, 433: 1, 430: 1, 429: 1, 427: 1, 425: 1, 424: 1, 419: 1, 411: 1, 409: 1, 403: 1, 402: 1, 396: 1, 394: 1, 393: 1, 388: 1, 383: 1, 382: 1, 380: 1, 376: 1, 375: 1, 372: 1, 370: 1, 369: 1, 368: 1, 362: 1, 360: 1, 357: 1, 356: 1, 351: 1, 348: 1, 347: 1, 344: 1, 340: 1, 339: 1, 337: 1, 336: 1, 334: 1, 331: 1, 329: 1, 328: 1, 325: 1, 324: 1, 318: 1, 316: 1, 308: 1, 305: 1, 304: 1, 303: 1, 302: 1, 301: 1, 297: 1, 294: 1, 291: 1, 287: 1, 284: 1, 279: 1, 278: 1, 276: 1, 275: 1, 269: 1, 263: 1, 260: 1, 258: 1, 255: 1, 249: 1, 244: 1, 243: 1, 241: 1, 239: 1, 238: 1, 233: 1, 226: 1, 219: 1, 218: 1, 206: 1, 202: 1, 200: 1, 198: 1, 196: 1, 180: 1, 174: 1, 173: 1, 169: 1, 168: 1, 167: 1, 164: 1, 161: 1, 149: 1, 129: 1})\n"
          ],
          "name": "stdout"
        }
      ]
    },
    {
      "cell_type": "code",
      "metadata": {
        "id": "qVKwBzNuMh7P",
        "colab_type": "code",
        "outputId": "62cf01bd-38e9-42d5-d386-80dac25b6d4b",
        "colab": {
          "base_uri": "https://localhost:8080/",
          "height": 121
        }
      },
      "source": [
        "cv_log_error_array=[]\n",
        "for i in alpha:\n",
        "    clf = SGDClassifier(alpha=i, penalty='l2', loss='log', random_state=42)\n",
        "    clf.fit(train_text_feature_onehotCoding, y_train)\n",
        "    \n",
        "    sig_clf = CalibratedClassifierCV(clf, method=\"sigmoid\")\n",
        "    sig_clf.fit(train_text_feature_onehotCoding, y_train)\n",
        "    predict_y = sig_clf.predict_proba(cv_text_feature_onehotCoding)\n",
        "    cv_log_error_array.append(log_loss(y_cv, predict_y, labels=clf.classes_, eps=1e-15))\n",
        "    print('For values of alpha = ', i, \"The log loss is:\",log_loss(y_cv, predict_y, labels=clf.classes_, eps=1e-15))\n"
      ],
      "execution_count": 0,
      "outputs": [
        {
          "output_type": "stream",
          "text": [
            "For values of alpha =  1e-05 The log loss is: 1.5874883627389607\n",
            "For values of alpha =  0.0001 The log loss is: 1.543508341176817\n",
            "For values of alpha =  0.001 The log loss is: 1.6101722272076209\n",
            "For values of alpha =  0.01 The log loss is: 1.7295340880857022\n",
            "For values of alpha =  0.1 The log loss is: 1.8203349418157253\n",
            "For values of alpha =  1 The log loss is: 1.8348023672838922\n"
          ],
          "name": "stdout"
        }
      ]
    },
    {
      "cell_type": "code",
      "metadata": {
        "id": "fIyknNNgMlaa",
        "colab_type": "code",
        "outputId": "9222e9b3-cef6-40fc-acca-ec2d6a284ecb",
        "colab": {
          "base_uri": "https://localhost:8080/",
          "height": 295
        }
      },
      "source": [
        "fig, ax = plt.subplots()\n",
        "ax.plot(alpha, cv_log_error_array,c='g')\n",
        "for i, txt in enumerate(np.round(cv_log_error_array,3)):\n",
        "    ax.annotate((alpha[i],np.round(txt,3)), (alpha[i],cv_log_error_array[i]))\n",
        "plt.grid()\n",
        "plt.title(\"Cross Validation Error for each alpha\")\n",
        "plt.xlabel(\"Alpha i's\")\n",
        "plt.ylabel(\"Error measure\")\n",
        "plt.show()"
      ],
      "execution_count": 0,
      "outputs": [
        {
          "output_type": "display_data",
          "data": {
            "image/png": "[encoded data removed]",
            "text/plain": [
              "<Figure size 432x288 with 1 Axes>"
            ]
          },
          "metadata": {
            "tags": []
          }
        }
      ]
    },
    {
      "cell_type": "code",
      "metadata": {
        "id": "CMkU-NztMpre",
        "colab_type": "code",
        "outputId": "dc72a352-b0ac-4613-b7e2-841b7a7019ab",
        "colab": {
          "base_uri": "https://localhost:8080/",
          "height": 69
        }
      },
      "source": [
        "best_alpha = np.argmin(cv_log_error_array)\n",
        "clf = SGDClassifier(alpha=alpha[best_alpha], penalty='l2', loss='log', random_state=42)\n",
        "clf.fit(train_text_feature_onehotCoding, y_train)\n",
        "sig_clf = CalibratedClassifierCV(clf, method=\"sigmoid\")\n",
        "sig_clf.fit(train_text_feature_onehotCoding, y_train)\n",
        "\n",
        "predict_y = sig_clf.predict_proba(train_text_feature_onehotCoding)\n",
        "print('For values of best alpha = ', alpha[best_alpha], \"The train log loss is:\",log_loss(y_train, predict_y, labels=clf.classes_, eps=1e-15))\n",
        "predict_y = sig_clf.predict_proba(cv_text_feature_onehotCoding)\n",
        "print('For values of best alpha = ', alpha[best_alpha], \"The cross validation log loss is:\",log_loss(y_cv, predict_y, labels=clf.classes_, eps=1e-15))\n",
        "predict_y = sig_clf.predict_proba(test_text_feature_onehotCoding)\n",
        "print('For values of best alpha = ', alpha[best_alpha], \"The test log loss is:\",log_loss(y_test, predict_y, labels=clf.classes_, eps=1e-15))\n"
      ],
      "execution_count": 0,
      "outputs": [
        {
          "output_type": "stream",
          "text": [
            "For values of best alpha =  0.0001 The train log loss is: 1.514299407521937\n",
            "For values of best alpha =  0.0001 The cross validation log loss is: 1.543508341176817\n",
            "For values of best alpha =  0.0001 The test log loss is: 1.55396657252563\n"
          ],
          "name": "stdout"
        }
      ]
    },
    {
      "cell_type": "code",
      "metadata": {
        "id": "WO_BSUiFMthJ",
        "colab_type": "code",
        "colab": {}
      },
      "source": [
        "def get_intersec_text(df):\n",
        "    df_text_vec = CountVectorizer(min_df=3)\n",
        "    df_text_fea = df_text_vec.fit_transform(df['TEXT'])\n",
        "    df_text_features = df_text_vec.get_feature_names()\n",
        "\n",
        "    df_text_fea_counts = df_text_fea.sum(axis=0).A1\n",
        "    df_text_fea_dict = dict(zip(list(df_text_features),df_text_fea_counts))\n",
        "    len1 = len(set(df_text_features))\n",
        "    len2 = len(set(train_text_features) & set(df_text_features))\n",
        "    return len1,len2"
      ],
      "execution_count": 0,
      "outputs": []
    },
    {
      "cell_type": "code",
      "metadata": {
        "id": "mxCzop9hMxi0",
        "colab_type": "code",
        "outputId": "0c9a9124-612a-4b8c-b66f-df7e45fce84b",
        "colab": {
          "base_uri": "https://localhost:8080/",
          "height": 52
        }
      },
      "source": [
        "len1,len2 = get_intersec_text(test_df)\n",
        "print(np.round((len2/len1)*100, 3), \"% of word of test data appeared in train data\")\n",
        "len1,len2 = get_intersec_text(cv_df)\n",
        "print(np.round((len2/len1)*100, 3), \"% of word of Cross Validation appeared in train data\")"
      ],
      "execution_count": 0,
      "outputs": [
        {
          "output_type": "stream",
          "text": [
            "89.551 % of word of test data appeared in train data\n",
            "94.491 % of word of Cross Validation appeared in train data\n"
          ],
          "name": "stdout"
        }
      ]
    },
    {
      "cell_type": "code",
      "metadata": {
        "id": "x4GAPTvrNGLN",
        "colab_type": "code",
        "colab": {}
      },
      "source": [
        ""
      ],
      "execution_count": 0,
      "outputs": []
    },
    {
      "cell_type": "code",
      "metadata": {
        "id": "QVJrPU9UM6FY",
        "colab_type": "code",
        "colab": {}
      },
      "source": [
        "def report_log_loss(train_x, train_y, test_x, test_y,  clf):\n",
        "    clf.fit(train_x, train_y)\n",
        "    sig_clf = CalibratedClassifierCV(clf, method=\"sigmoid\")\n",
        "    sig_clf.fit(train_x, train_y)\n",
        "    sig_clf_probs = sig_clf.predict_proba(test_x)\n",
        "    return log_loss(test_y, sig_clf_probs, eps=1e-15)"
      ],
      "execution_count": 0,
      "outputs": []
    },
    {
      "cell_type": "code",
      "metadata": {
        "id": "bnhUQgVLM-U9",
        "colab_type": "code",
        "colab": {}
      },
      "source": [
        "# This function plots the confusion matrices given y_i, y_i_hat.\n",
        "def plot_confusion_matrix(test_y, predict_y):\n",
        "    C = confusion_matrix(test_y, predict_y)\n",
        "    \n",
        "    A =(((C.T)/(C.sum(axis=1))).T)\n",
        "    \n",
        "    B =(C/C.sum(axis=0)) \n",
        "    labels = [1,2,3,4,5,6,7,8,9]\n",
        "    # representing A in heatmap format\n",
        "    print(\"-\"*20, \"Confusion matrix\", \"-\"*20)\n",
        "    plt.figure(figsize=(20,7))\n",
        "    sns.heatmap(C, annot=True, cmap=\"YlGnBu\", fmt=\".3f\", xticklabels=labels, yticklabels=labels)\n",
        "    plt.xlabel('Predicted Class')\n",
        "    plt.ylabel('Original Class')\n",
        "    plt.show()\n",
        "\n",
        "    print(\"-\"*20, \"Precision matrix (Columm Sum=1)\", \"-\"*20)\n",
        "    plt.figure(figsize=(20,7))\n",
        "    sns.heatmap(B, annot=True, cmap=\"YlGnBu\", fmt=\".3f\", xticklabels=labels, yticklabels=labels)\n",
        "    plt.xlabel('Predicted Class')\n",
        "    plt.ylabel('Original Class')\n",
        "    plt.show()\n",
        "    \n",
        "    # representing B in heatmap format\n",
        "    print(\"-\"*20, \"Recall matrix (Row sum=1)\", \"-\"*20)\n",
        "    plt.figure(figsize=(20,7))\n",
        "    sns.heatmap(A, annot=True, cmap=\"YlGnBu\", fmt=\".3f\", xticklabels=labels, yticklabels=labels)\n",
        "    plt.xlabel('Predicted Class')\n",
        "    plt.ylabel('Original Class')\n",
        "    plt.show()\n",
        "\n",
        "\n",
        "def predict_and_plot_confusion_matrix(train_x, train_y,test_x, test_y, clf):\n",
        "    clf.fit(train_x, train_y)\n",
        "    sig_clf = CalibratedClassifierCV(clf, method=\"sigmoid\")\n",
        "    sig_clf.fit(train_x, train_y)\n",
        "    pred_y = sig_clf.predict(test_x)\n",
        "\n",
        "    # for calculating log_loss we willl provide the array of probabilities belongs to each class\n",
        "    print(\"Log loss :\",log_loss(test_y, sig_clf.predict_proba(test_x)))\n",
        "    # calculating the number of data points that are misclassified\n",
        "    print(\"Number of mis-classified points :\", np.count_nonzero((pred_y- test_y))/test_y.shape[0])\n",
        "    plot_confusion_matrix(test_y, pred_y)"
      ],
      "execution_count": 0,
      "outputs": []
    },
    {
      "cell_type": "code",
      "metadata": {
        "id": "hH_8w0-2NPCb",
        "colab_type": "code",
        "colab": {}
      },
      "source": [
        ""
      ],
      "execution_count": 0,
      "outputs": []
    },
    {
      "cell_type": "code",
      "metadata": {
        "id": "X-SPWsC0NEZO",
        "colab_type": "code",
        "colab": {}
      },
      "source": [
        "# merging gene, variance and text features\n",
        "\n",
        "# building train, test and cross validation data sets\n",
        "# a = [[1, 2], \n",
        "#      [3, 4]]\n",
        "# b = [[4, 5], \n",
        "#      [6, 7]]\n",
        "# hstack(a, b) = [[1, 2, 4, 5],\n",
        "#                [ 3, 4, 6, 7]]\n",
        "\n",
        "train_gene_var_onehotCoding = hstack((train_gene_feature_onehotCoding,train_variation_feature_onehotCoding))\n",
        "test_gene_var_onehotCoding = hstack((test_gene_feature_onehotCoding,test_variation_feature_onehotCoding))\n",
        "cv_gene_var_onehotCoding = hstack((cv_gene_feature_onehotCoding,cv_variation_feature_onehotCoding))\n",
        "\n",
        "train_x_onehotCoding = hstack((train_gene_var_onehotCoding, train_text_feature_onehotCoding)).tocsr()\n",
        "train_y = np.array(list(train_df['Class']))\n",
        "\n",
        "test_x_onehotCoding = hstack((test_gene_var_onehotCoding, test_text_feature_onehotCoding)).tocsr()\n",
        "test_y = np.array(list(test_df['Class']))\n",
        "\n",
        "cv_x_onehotCoding = hstack((cv_gene_var_onehotCoding, cv_text_feature_onehotCoding)).tocsr()\n",
        "cv_y = np.array(list(cv_df['Class']))\n",
        "\n",
        "\n",
        "train_gene_var_responseCoding = np.hstack((train_gene_feature_responseCoding,train_variation_feature_responseCoding))\n",
        "test_gene_var_responseCoding = np.hstack((test_gene_feature_responseCoding,test_variation_feature_responseCoding))\n",
        "cv_gene_var_responseCoding = np.hstack((cv_gene_feature_responseCoding,cv_variation_feature_responseCoding))\n",
        "\n",
        "train_x_responseCoding = np.hstack((train_gene_var_responseCoding, train_text_feature_responseCoding))\n",
        "test_x_responseCoding = np.hstack((test_gene_var_responseCoding, test_text_feature_responseCoding))\n",
        "cv_x_responseCoding = np.hstack((cv_gene_var_responseCoding, cv_text_feature_responseCoding))\n",
        "\n",
        "\n",
        "train_x_TFIDF = np.hstack((train_gene_var_onehotCoding.toarray(), train_text_feature_TFIDF.toarray()))\n",
        "test_x_TFIDF = np.hstack((test_gene_var_onehotCoding.toarray(), test_text_feature_TFIDF.toarray()))\n",
        "cv_x_TFIDF = np.hstack((cv_gene_var_onehotCoding.toarray(), cv_text_feature_TFIDF.toarray()))\n",
        "\n",
        "#print(train_gene_var_onehotCoding.shape,train_text_feature_word2vec.shape)\n",
        "train_x_word2vec = np.hstack((train_gene_var_onehotCoding.toarray(), train_text_feature_word2vec))\n",
        "test_x_word2vec = np.hstack((test_gene_var_onehotCoding.toarray(), test_text_feature_word2vec))\n",
        "cv_x_word2vec = np.hstack((cv_gene_var_onehotCoding.toarray(), cv_text_feature_word2vec))\n"
      ],
      "execution_count": 0,
      "outputs": []
    },
    {
      "cell_type": "code",
      "metadata": {
        "id": "rF7tUgZkNTkK",
        "colab_type": "code",
        "outputId": "924e181b-03f0-42b7-8c62-0c0bef1268d7",
        "colab": {
          "base_uri": "https://localhost:8080/",
          "height": 87
        }
      },
      "source": [
        " print(\"One hot encoding features :\")\n",
        "print(\"(number of data points * number of features) in train data = \", train_x_onehotCoding.shape)\n",
        "print(\"(number of data points * number of features) in test data = \", test_x_onehotCoding.shape)\n",
        "print(\"(number of data points * number of features) in cross validation data =\", cv_x_onehotCoding.shape)"
      ],
      "execution_count": 0,
      "outputs": [
        {
          "output_type": "stream",
          "text": [
            "One hot encoding features :\n",
            "(number of data points * number of features) in train data =  (2136, 10287)\n",
            "(number of data points * number of features) in test data =  (668, 10287)\n",
            "(number of data points * number of features) in cross validation data = (534, 10287)\n"
          ],
          "name": "stdout"
        }
      ]
    },
    {
      "cell_type": "code",
      "metadata": {
        "id": "MacZAggNNZAe",
        "colab_type": "code",
        "outputId": "3036a244-5292-4654-c472-d396186bd1a9",
        "colab": {
          "base_uri": "https://localhost:8080/",
          "height": 87
        }
      },
      "source": [
        "print(\" Response encoding features :\")\n",
        "print(\"(number of data points * number of features) in train data = \", train_x_responseCoding.shape)\n",
        "print(\"(number of data points * number of features) in test data = \", test_x_responseCoding.shape)\n",
        "print(\"(number of data points * number of features) in cross validation data =\", cv_x_responseCoding.shape)"
      ],
      "execution_count": 0,
      "outputs": [
        {
          "output_type": "stream",
          "text": [
            " Response encoding features :\n",
            "(number of data points * number of features) in train data =  (2136, 27)\n",
            "(number of data points * number of features) in test data =  (668, 27)\n",
            "(number of data points * number of features) in cross validation data = (534, 27)\n"
          ],
          "name": "stdout"
        }
      ]
    },
    {
      "cell_type": "code",
      "metadata": {
        "id": "NWoxuum3bVe3",
        "colab_type": "code",
        "outputId": "f467e152-78a3-4f0b-b546-1aa470b85daf",
        "colab": {
          "base_uri": "https://localhost:8080/",
          "height": 87
        }
      },
      "source": [
        "print(\" TFIDF features :\")\n",
        "print(\"(number of data points * number of features) in train data = \", train_x_TFIDF.shape)\n",
        "print(\"(number of data points * number of features) in test data = \", test_x_TFIDF.shape)\n",
        "print(\"(number of data points * number of features) in cross validation data =\", cv_x_TFIDF.shape)"
      ],
      "execution_count": 0,
      "outputs": [
        {
          "output_type": "stream",
          "text": [
            " TFIDF features :\n",
            "(number of data points * number of features) in train data =  (2136, 24025)\n",
            "(number of data points * number of features) in test data =  (668, 24025)\n",
            "(number of data points * number of features) in cross validation data = (534, 24025)\n"
          ],
          "name": "stdout"
        }
      ]
    },
    {
      "cell_type": "code",
      "metadata": {
        "id": "bJtG4zL24hD-",
        "colab_type": "code",
        "outputId": "32333817-d677-4fa5-ceb5-e0b3c4b48a66",
        "colab": {
          "base_uri": "https://localhost:8080/",
          "height": 87
        }
      },
      "source": [
        "print(\" Word2vec features :\")\n",
        "print(\"(number of data points * number of features) in train data = \", train_x_word2vec.shape)\n",
        "print(\"(number of data points * number of features) in test data = \", test_x_word2vec.shape)\n",
        "print(\"(number of data points * number of features) in cross validation data =\", cv_x_word2vec.shape)"
      ],
      "execution_count": 0,
      "outputs": [
        {
          "output_type": "stream",
          "text": [
            " Word2vec features :\n",
            "(number of data points * number of features) in train data =  (2136, 2215)\n",
            "(number of data points * number of features) in test data =  (668, 2215)\n",
            "(number of data points * number of features) in cross validation data = (534, 2215)\n"
          ],
          "name": "stdout"
        }
      ]
    },
    {
      "cell_type": "markdown",
      "metadata": {
        "id": "sV3ZakbJNu5a",
        "colab_type": "text"
      },
      "source": [
        "LOGISTIC REGRESSION"
      ]
    },
    {
      "cell_type": "code",
      "metadata": {
        "id": "p_fUB5rrNizK",
        "colab_type": "code",
        "outputId": "5c5ce75e-15dc-43fa-e678-748b5f05c09b",
        "colab": {
          "base_uri": "https://localhost:8080/",
          "height": 329
        }
      },
      "source": [
        "alpha = [10 ** x for x in range(-6, 3)]\n",
        "cv_log_error_array = []\n",
        "for i in alpha:\n",
        "    print(\"for alpha =\", i)\n",
        "    clf = SGDClassifier(class_weight='balanced', alpha=i, penalty='l2', loss='log', random_state=42)\n",
        "    clf.fit(train_x_onehotCoding, train_y)\n",
        "    sig_clf = CalibratedClassifierCV(clf, method=\"sigmoid\")\n",
        "    sig_clf.fit(train_x_onehotCoding, train_y)\n",
        "    sig_clf_probs = sig_clf.predict_proba(cv_x_onehotCoding)\n",
        "    cv_log_error_array.append(log_loss(cv_y, sig_clf_probs, labels=clf.classes_, eps=1e-15))\n",
        "    # to avoid rounding error while multiplying probabilites we use log-probability estimates\n",
        "    print(\"Log Loss :\",log_loss(cv_y, sig_clf_probs)) \n"
      ],
      "execution_count": 0,
      "outputs": [
        {
          "output_type": "stream",
          "text": [
            "for alpha = 1e-06\n",
            "Log Loss : 1.6009033787055125\n",
            "for alpha = 1e-05\n",
            "Log Loss : 1.40495778530895\n",
            "for alpha = 0.0001\n",
            "Log Loss : 1.2489902874921839\n",
            "for alpha = 0.001\n",
            "Log Loss : 1.1996735484281416\n",
            "for alpha = 0.01\n",
            "Log Loss : 1.3129012279139947\n",
            "for alpha = 0.1\n",
            "Log Loss : 1.4850754174045655\n",
            "for alpha = 1\n",
            "Log Loss : 1.685081736900439\n",
            "for alpha = 10\n",
            "Log Loss : 1.7122932271968572\n",
            "for alpha = 100\n",
            "Log Loss : 1.7152399418840754\n"
          ],
          "name": "stdout"
        }
      ]
    },
    {
      "cell_type": "code",
      "metadata": {
        "id": "MsDmKGDGOU2v",
        "colab_type": "code",
        "outputId": "d73cb131-e7b9-433e-8505-592facdd5276",
        "colab": {
          "base_uri": "https://localhost:8080/",
          "height": 295
        }
      },
      "source": [
        "fig, ax = plt.subplots()\n",
        "ax.plot(alpha, cv_log_error_array,c='g')\n",
        "for i, txt in enumerate(np.round(cv_log_error_array,3)):\n",
        "    ax.annotate((alpha[i],str(txt)), (alpha[i],cv_log_error_array[i]))\n",
        "plt.grid()\n",
        "plt.title(\"Cross Validation Error for each alpha\")\n",
        "plt.xlabel(\"Alpha i's\")\n",
        "plt.ylabel(\"Error measure\")\n",
        "plt.show()"
      ],
      "execution_count": 0,
      "outputs": [
        {
          "output_type": "display_data",
          "data": {
            "image/png": "[encoded data removed]",
            "text/plain": [
              "<Figure size 432x288 with 1 Axes>"
            ]
          },
          "metadata": {
            "tags": []
          }
        }
      ]
    },
    {
      "cell_type": "code",
      "metadata": {
        "id": "JtsEQFUaOcoR",
        "colab_type": "code",
        "outputId": "42913327-bf15-4083-b27e-af0d3caacf24",
        "colab": {
          "base_uri": "https://localhost:8080/",
          "height": 69
        }
      },
      "source": [
        "best_alpha = np.argmin(cv_log_error_array)\n",
        "clf = SGDClassifier(class_weight='balanced', alpha=alpha[best_alpha], penalty='l2', loss='log', random_state=42)\n",
        "clf.fit(train_x_onehotCoding, train_y)\n",
        "sig_clf = CalibratedClassifierCV(clf, method=\"sigmoid\")\n",
        "sig_clf.fit(train_x_onehotCoding, train_y)\n",
        "\n",
        "predict_y = sig_clf.predict_proba(train_x_onehotCoding)\n",
        "print('For values of best alpha = ', alpha[best_alpha], \"The train log loss is:\",log_loss(y_train, predict_y, labels=clf.classes_, eps=1e-15))\n",
        "predict_y = sig_clf.predict_proba(cv_x_onehotCoding)\n",
        "print('For values of best alpha = ', alpha[best_alpha], \"The cross validation log loss is:\",log_loss(y_cv, predict_y, labels=clf.classes_, eps=1e-15))\n",
        "predict_y = sig_clf.predict_proba(test_x_onehotCoding)\n",
        "print('For values of best alpha = ', alpha[best_alpha], \"The test log loss is:\",log_loss(y_test, predict_y, labels=clf.classes_, eps=1e-15))\n",
        "y_pred=clf.predict(test_x_onehotCoding)\n"
      ],
      "execution_count": 0,
      "outputs": [
        {
          "output_type": "stream",
          "text": [
            "For values of best alpha =  0.001 The train log loss is: 0.802772309843151\n",
            "For values of best alpha =  0.001 The cross validation log loss is: 1.1996735484281416\n",
            "For values of best alpha =  0.001 The test log loss is: 1.1241727835681752\n"
          ],
          "name": "stdout"
        }
      ]
    },
    {
      "cell_type": "code",
      "metadata": {
        "id": "71yzp-16OgNh",
        "colab_type": "code",
        "outputId": "5fb344fe-2714-4289-cf86-13b0a5b5daeb",
        "colab": {
          "base_uri": "https://localhost:8080/",
          "height": 295
        }
      },
      "source": [
        "from sklearn.metrics import classification_report\n",
        "print(classification_report(y_test,y_pred))"
      ],
      "execution_count": 0,
      "outputs": [
        {
          "output_type": "stream",
          "text": [
            "              precision    recall  f1-score   support\n",
            "\n",
            "           1       0.63      0.57      0.60       114\n",
            "           2       0.62      0.42      0.50        92\n",
            "           3       0.11      0.11      0.11        18\n",
            "           4       0.79      0.59      0.67       138\n",
            "           5       0.32      0.46      0.38        48\n",
            "           6       0.50      0.38      0.43        55\n",
            "           7       0.60      0.81      0.69       192\n",
            "           8       0.25      0.25      0.25         4\n",
            "           9       0.75      0.86      0.80         7\n",
            "\n",
            "    accuracy                           0.59       668\n",
            "   macro avg       0.51      0.49      0.49       668\n",
            "weighted avg       0.60      0.59      0.58       668\n",
            "\n"
          ],
          "name": "stdout"
        }
      ]
    },
    {
      "cell_type": "markdown",
      "metadata": {
        "id": "k5uM_iAvc2me",
        "colab_type": "text"
      },
      "source": [
        "**WITH TF-IDF**"
      ]
    },
    {
      "cell_type": "code",
      "metadata": {
        "id": "oeuvrF3TPVDW",
        "colab_type": "code",
        "outputId": "36b6ee1f-3432-4a2e-b7b5-90545be0fcfc",
        "colab": {
          "base_uri": "https://localhost:8080/",
          "height": 329
        }
      },
      "source": [
        "alpha = [10 ** x for x in range(-6, 3)]\n",
        "cv_log_error_array = []\n",
        "for i in alpha:\n",
        "    print(\"for alpha =\", i)\n",
        "    clf = SGDClassifier(class_weight='balanced', alpha=i, penalty='l2', loss='log', random_state=42)\n",
        "    clf.fit(train_x_TFIDF, train_y)\n",
        "    sig_clf = CalibratedClassifierCV(clf, method=\"sigmoid\")\n",
        "    sig_clf.fit(train_x_TFIDF, train_y)\n",
        "    sig_clf_probs = sig_clf.predict_proba(cv_x_TFIDF)\n",
        "    cv_log_error_array.append(log_loss(cv_y, sig_clf_probs, labels=clf.classes_, eps=1e-15))\n",
        "    # to avoid rounding error while multiplying probabilites we use log-probability estimates\n",
        "    print(\"Log Loss :\",log_loss(cv_y, sig_clf_probs)) \n"
      ],
      "execution_count": 0,
      "outputs": [
        {
          "output_type": "stream",
          "text": [
            "for alpha = 1e-06\n",
            "Log Loss : 1.5126395735921332\n",
            "for alpha = 1e-05\n",
            "Log Loss : 1.4390050184385195\n",
            "for alpha = 0.0001\n",
            "Log Loss : 1.2361624670887448\n",
            "for alpha = 0.001\n",
            "Log Loss : 1.1626669072291782\n",
            "for alpha = 0.01\n",
            "Log Loss : 1.2655802143366568\n",
            "for alpha = 0.1\n",
            "Log Loss : 1.3512736462156185\n",
            "for alpha = 1\n",
            "Log Loss : 1.43585870960751\n",
            "for alpha = 10\n",
            "Log Loss : 1.5189785300372525\n",
            "for alpha = 100\n",
            "Log Loss : 1.6338316805063828\n"
          ],
          "name": "stdout"
        }
      ]
    },
    {
      "cell_type": "code",
      "metadata": {
        "id": "ZKPsNrsOec5R",
        "colab_type": "code",
        "outputId": "38db711e-940c-4b26-b47a-73a74097adcb",
        "colab": {
          "base_uri": "https://localhost:8080/",
          "height": 295
        }
      },
      "source": [
        "fig, ax = plt.subplots()\n",
        "ax.plot(alpha, cv_log_error_array,c='g')\n",
        "for i, txt in enumerate(np.round(cv_log_error_array,3)):\n",
        "    ax.annotate((alpha[i],str(txt)), (alpha[i],cv_log_error_array[i]))\n",
        "plt.grid()\n",
        "plt.title(\"Cross Validation Error for each alpha\")\n",
        "plt.xlabel(\"Alpha i's\")\n",
        "plt.ylabel(\"Error measure\")\n",
        "plt.show()"
      ],
      "execution_count": 0,
      "outputs": [
        {
          "output_type": "display_data",
          "data": {
            "image/png": "[encoded data removed]",
            "text/plain": [
              "<Figure size 432x288 with 1 Axes>"
            ]
          },
          "metadata": {
            "tags": []
          }
        }
      ]
    },
    {
      "cell_type": "code",
      "metadata": {
        "id": "htxjvQ59ei7g",
        "colab_type": "code",
        "outputId": "f410fb62-2bf5-4bea-cf8b-2b345a7ce9a8",
        "colab": {
          "base_uri": "https://localhost:8080/",
          "height": 69
        }
      },
      "source": [
        "best_alpha = np.argmin(cv_log_error_array)\n",
        "clf = SGDClassifier(class_weight='balanced', alpha=alpha[best_alpha], penalty='l2', loss='log', random_state=42)\n",
        "clf.fit(train_x_TFIDF, train_y)\n",
        "sig_clf = CalibratedClassifierCV(clf, method=\"sigmoid\")\n",
        "sig_clf.fit(train_x_TFIDF, train_y)\n",
        "\n",
        "predict_y = sig_clf.predict_proba(train_x_TFIDF)\n",
        "print('For values of best alpha = ', alpha[best_alpha], \"The train log loss is:\",log_loss(y_train, predict_y, labels=clf.classes_, eps=1e-15))\n",
        "predict_y = sig_clf.predict_proba(cv_x_TFIDF)\n",
        "print('For values of best alpha = ', alpha[best_alpha], \"The cross validation log loss is:\",log_loss(y_cv, predict_y, labels=clf.classes_, eps=1e-15))\n",
        "predict_y = sig_clf.predict_proba(test_x_TFIDF)\n",
        "print('For values of best alpha = ', alpha[best_alpha], \"The test log loss is:\",log_loss(y_test, predict_y, labels=clf.classes_, eps=1e-15))\n",
        "y_pred=clf.predict(test_x_TFIDF)\n"
      ],
      "execution_count": 0,
      "outputs": [
        {
          "output_type": "stream",
          "text": [
            "For values of best alpha =  0.001 The train log loss is: 0.6950978276544733\n",
            "For values of best alpha =  0.001 The cross validation log loss is: 1.1626669072291782\n",
            "For values of best alpha =  0.001 The test log loss is: 1.1129921102543454\n"
          ],
          "name": "stdout"
        }
      ]
    },
    {
      "cell_type": "code",
      "metadata": {
        "id": "Q-6bNpIddGWb",
        "colab_type": "code",
        "colab": {}
      },
      "source": [
        ""
      ],
      "execution_count": 0,
      "outputs": []
    },
    {
      "cell_type": "markdown",
      "metadata": {
        "id": "AjP38SNkPWXV",
        "colab_type": "text"
      },
      "source": [
        "Without balancing"
      ]
    },
    {
      "cell_type": "code",
      "metadata": {
        "id": "bQgTc29eOmw0",
        "colab_type": "code",
        "outputId": "4e41e497-3fb1-47f3-951a-2989d2aee998",
        "colab": {
          "base_uri": "https://localhost:8080/",
          "height": 260
        }
      },
      "source": [
        "alpha = [10 ** x for x in range(-6, 1)]\n",
        "cv_log_error_array = []\n",
        "for i in alpha:\n",
        "    print(\"for alpha =\", i)\n",
        "    clf = SGDClassifier(alpha=i, penalty='l2', loss='log', random_state=42)\n",
        "    clf.fit(train_x_onehotCoding, train_y)\n",
        "    sig_clf = CalibratedClassifierCV(clf, method=\"sigmoid\")\n",
        "    sig_clf.fit(train_x_onehotCoding, train_y)\n",
        "    sig_clf_probs = sig_clf.predict_proba(cv_x_onehotCoding)\n",
        "    cv_log_error_array.append(log_loss(cv_y, sig_clf_probs, labels=clf.classes_, eps=1e-15))\n",
        "    print(\"Log Loss :\",log_loss(cv_y, sig_clf_probs)) \n",
        "\n",
        "\n"
      ],
      "execution_count": 0,
      "outputs": [
        {
          "output_type": "stream",
          "text": [
            "for alpha = 1e-06\n",
            "Log Loss : 1.6591029697335815\n",
            "for alpha = 1e-05\n",
            "Log Loss : 1.423737844890255\n",
            "for alpha = 0.0001\n",
            "Log Loss : 1.209875892379961\n",
            "for alpha = 0.001\n",
            "Log Loss : 1.1733522532685683\n",
            "for alpha = 0.01\n",
            "Log Loss : 1.297210832569164\n",
            "for alpha = 0.1\n",
            "Log Loss : 1.4474595917633726\n",
            "for alpha = 1\n",
            "Log Loss : 1.6559712113770275\n"
          ],
          "name": "stdout"
        }
      ]
    },
    {
      "cell_type": "code",
      "metadata": {
        "id": "InJoB8rIRXbG",
        "colab_type": "code",
        "outputId": "1a91e999-9079-49ae-accb-f6b507dcfd19",
        "colab": {
          "base_uri": "https://localhost:8080/",
          "height": 295
        }
      },
      "source": [
        "fig, ax = plt.subplots()\n",
        "ax.plot(alpha, cv_log_error_array,c='g')\n",
        "for i, txt in enumerate(np.round(cv_log_error_array,3)):\n",
        "    ax.annotate((alpha[i],str(txt)), (alpha[i],cv_log_error_array[i]))\n",
        "plt.grid()\n",
        "plt.title(\"Cross Validation Error for each alpha\")\n",
        "plt.xlabel(\"Alpha i's\")\n",
        "plt.ylabel(\"Error measure\")\n",
        "plt.show()"
      ],
      "execution_count": 0,
      "outputs": [
        {
          "output_type": "display_data",
          "data": {
            "image/png": "[encoded data removed]",
            "text/plain": [
              "<Figure size 432x288 with 1 Axes>"
            ]
          },
          "metadata": {
            "tags": []
          }
        }
      ]
    },
    {
      "cell_type": "code",
      "metadata": {
        "id": "9F3lvqDfRcDz",
        "colab_type": "code",
        "outputId": "a7e17906-7942-4e21-fb7c-a59b07359c87",
        "colab": {
          "base_uri": "https://localhost:8080/",
          "height": 69
        }
      },
      "source": [
        "best_alpha = np.argmin(cv_log_error_array)\n",
        "clf = SGDClassifier(alpha=alpha[best_alpha], penalty='l2', loss='log', random_state=42)\n",
        "clf.fit(train_x_onehotCoding, train_y)\n",
        "sig_clf = CalibratedClassifierCV(clf, method=\"sigmoid\")\n",
        "sig_clf.fit(train_x_onehotCoding, train_y)\n",
        "\n",
        "predict_y = sig_clf.predict_proba(train_x_onehotCoding)\n",
        "print('For values of best alpha = ', alpha[best_alpha], \"The train log loss is:\",log_loss(y_train, predict_y, labels=clf.classes_, eps=1e-15))\n",
        "predict_y = sig_clf.predict_proba(cv_x_onehotCoding)\n",
        "print('For values of best alpha = ', alpha[best_alpha], \"The cross validation log loss is:\",log_loss(y_cv, predict_y, labels=clf.classes_, eps=1e-15))\n",
        "predict_y = sig_clf.predict_proba(test_x_onehotCoding)\n",
        "print('For values of best alpha = ', alpha[best_alpha], \"The test log loss is:\",log_loss(y_test, predict_y, labels=clf.classes_, eps=1e-15))\n",
        "y_pred=clf.predict(test_x_onehotCoding\n",
        "                   )"
      ],
      "execution_count": 0,
      "outputs": [
        {
          "output_type": "stream",
          "text": [
            "For values of best alpha =  0.001 The train log loss is: 0.7989099627790036\n",
            "For values of best alpha =  0.001 The cross validation log loss is: 1.1733522532685683\n",
            "For values of best alpha =  0.001 The test log loss is: 1.1146637436586488\n"
          ],
          "name": "stdout"
        }
      ]
    },
    {
      "cell_type": "code",
      "metadata": {
        "id": "JqgKGwAfRlZ4",
        "colab_type": "code",
        "outputId": "354bbcac-f8c4-4553-cd6f-d4e8507e55cd",
        "colab": {
          "base_uri": "https://localhost:8080/",
          "height": 295
        }
      },
      "source": [
        "#from sklearn.metrics import classification_report\n",
        "print(classification_report(y_test,y_pred))"
      ],
      "execution_count": 0,
      "outputs": [
        {
          "output_type": "stream",
          "text": [
            "              precision    recall  f1-score   support\n",
            "\n",
            "           1       0.65      0.59      0.62       114\n",
            "           2       0.66      0.36      0.46        92\n",
            "           3       0.00      0.00      0.00        18\n",
            "           4       0.74      0.67      0.71       138\n",
            "           5       0.34      0.46      0.39        48\n",
            "           6       0.60      0.27      0.37        55\n",
            "           7       0.58      0.90      0.70       192\n",
            "           8       0.00      0.00      0.00         4\n",
            "           9       0.75      0.43      0.55         7\n",
            "\n",
            "    accuracy                           0.61       668\n",
            "   macro avg       0.48      0.41      0.42       668\n",
            "weighted avg       0.60      0.61      0.58       668\n",
            "\n"
          ],
          "name": "stdout"
        }
      ]
    },
    {
      "cell_type": "markdown",
      "metadata": {
        "id": "_CO32kzUr2dV",
        "colab_type": "text"
      },
      "source": [
        "**WITHOUT BALANCING WITH TF-IDF**"
      ]
    },
    {
      "cell_type": "code",
      "metadata": {
        "id": "bo1fQcz2r04g",
        "colab_type": "code",
        "outputId": "11d4aa4e-d46e-4b16-ca7f-d52edeec0714",
        "colab": {
          "base_uri": "https://localhost:8080/",
          "height": 260
        }
      },
      "source": [
        "alpha = [10 ** x for x in range(-6, 1)]\n",
        "cv_log_error_array = []\n",
        "for i in alpha:\n",
        "    print(\"for alpha =\", i)\n",
        "    clf = SGDClassifier(alpha=i, penalty='l2', loss='log', random_state=42)\n",
        "    clf.fit(train_x_TFIDF, train_y)\n",
        "    sig_clf = CalibratedClassifierCV(clf, method=\"sigmoid\")\n",
        "    sig_clf.fit(train_x_TFIDF, train_y)\n",
        "    sig_clf_probs = sig_clf.predict_proba(cv_x_TFIDF)\n",
        "    cv_log_error_array.append(log_loss(cv_y, sig_clf_probs, labels=clf.classes_, eps=1e-15))\n",
        "    print(\"Log Loss :\",log_loss(cv_y, sig_clf_probs)) \n",
        "\n",
        "\n"
      ],
      "execution_count": 0,
      "outputs": [
        {
          "output_type": "stream",
          "text": [
            "for alpha = 1e-06\n",
            "Log Loss : 1.5503027742587812\n",
            "for alpha = 1e-05\n",
            "Log Loss : 1.4634755403052229\n",
            "for alpha = 0.0001\n",
            "Log Loss : 1.2228552499382683\n",
            "for alpha = 0.001\n",
            "Log Loss : 1.1577273657227445\n",
            "for alpha = 0.01\n",
            "Log Loss : 1.2518750974628239\n",
            "for alpha = 0.1\n",
            "Log Loss : 1.3356556710875371\n",
            "for alpha = 1\n",
            "Log Loss : 1.412102259726793\n"
          ],
          "name": "stdout"
        }
      ]
    },
    {
      "cell_type": "code",
      "metadata": {
        "id": "fPdxCykqsN1S",
        "colab_type": "code",
        "outputId": "2c39e3ae-6f62-4346-c831-7325e4f4aa5e",
        "colab": {
          "base_uri": "https://localhost:8080/",
          "height": 295
        }
      },
      "source": [
        "fig, ax = plt.subplots()\n",
        "ax.plot(alpha, cv_log_error_array,c='g')\n",
        "for i, txt in enumerate(np.round(cv_log_error_array,3)):\n",
        "    ax.annotate((alpha[i],str(txt)), (alpha[i],cv_log_error_array[i]))\n",
        "plt.grid()\n",
        "plt.title(\"Cross Validation Error for each alpha\")\n",
        "plt.xlabel(\"Alpha i's\")\n",
        "plt.ylabel(\"Error measure\")\n",
        "plt.show()"
      ],
      "execution_count": 0,
      "outputs": [
        {
          "output_type": "display_data",
          "data": {
            "image/png": "[encoded data removed]",
            "text/plain": [
              "<Figure size 432x288 with 1 Axes>"
            ]
          },
          "metadata": {
            "tags": []
          }
        }
      ]
    },
    {
      "cell_type": "code",
      "metadata": {
        "id": "uaKmYlQnsTWX",
        "colab_type": "code",
        "outputId": "c0e7dd71-359e-4c45-9970-e5f43335f6c2",
        "colab": {
          "base_uri": "https://localhost:8080/",
          "height": 69
        }
      },
      "source": [
        "best_alpha = np.argmin(cv_log_error_array)\n",
        "clf = SGDClassifier(alpha=alpha[best_alpha], penalty='l2', loss='log', random_state=42)\n",
        "clf.fit(train_x_TFIDF, train_y)\n",
        "sig_clf = CalibratedClassifierCV(clf, method=\"sigmoid\")\n",
        "sig_clf.fit(train_x_TFIDF, train_y)\n",
        "\n",
        "predict_y = sig_clf.predict_proba(train_x_TFIDF)\n",
        "print('For values of best alpha = ', alpha[best_alpha], \"The train log loss is:\",log_loss(y_train, predict_y, labels=clf.classes_, eps=1e-15))\n",
        "predict_y = sig_clf.predict_proba(cv_x_TFIDF)\n",
        "print('For values of best alpha = ', alpha[best_alpha], \"The cross validation log loss is:\",log_loss(y_cv, predict_y, labels=clf.classes_, eps=1e-15))\n",
        "predict_y = sig_clf.predict_proba(test_x_TFIDF)\n",
        "print('For values of best alpha = ', alpha[best_alpha], \"The test log loss is:\",log_loss(y_test, predict_y, labels=clf.classes_, eps=1e-15))\n",
        "y_pred=clf.predict(test_x_TFIDF\n",
        "                   )"
      ],
      "execution_count": 0,
      "outputs": [
        {
          "output_type": "stream",
          "text": [
            "For values of best alpha =  0.001 The train log loss is: 0.6804369370443727\n",
            "For values of best alpha =  0.001 The cross validation log loss is: 1.1577273657227445\n",
            "For values of best alpha =  0.001 The test log loss is: 1.1095181080876333\n"
          ],
          "name": "stdout"
        }
      ]
    },
    {
      "cell_type": "code",
      "metadata": {
        "id": "etkjD5GEsvKK",
        "colab_type": "code",
        "outputId": "e69b69d6-4049-4723-9218-43af7d065f35",
        "colab": {
          "base_uri": "https://localhost:8080/",
          "height": 295
        }
      },
      "source": [
        "#from sklearn.metrics import classification_report\n",
        "print(classification_report(y_test,y_pred))"
      ],
      "execution_count": 0,
      "outputs": [
        {
          "output_type": "stream",
          "text": [
            "              precision    recall  f1-score   support\n",
            "\n",
            "           1       0.68      0.57      0.62       114\n",
            "           2       0.82      0.29      0.43        92\n",
            "           3       0.00      0.00      0.00        18\n",
            "           4       0.77      0.71      0.74       138\n",
            "           5       0.34      0.46      0.39        48\n",
            "           6       0.60      0.27      0.37        55\n",
            "           7       0.58      0.96      0.72       192\n",
            "           8       0.00      0.00      0.00         4\n",
            "           9       0.75      0.43      0.55         7\n",
            "\n",
            "    accuracy                           0.62       668\n",
            "   macro avg       0.50      0.41      0.43       668\n",
            "weighted avg       0.64      0.62      0.59       668\n",
            "\n"
          ],
          "name": "stdout"
        }
      ]
    },
    {
      "cell_type": "markdown",
      "metadata": {
        "id": "PX0FJI9MSQFf",
        "colab_type": "text"
      },
      "source": [
        "# Linear Support Vector Machines"
      ]
    },
    {
      "cell_type": "code",
      "metadata": {
        "id": "n1pjlMTRSDay",
        "colab_type": "code",
        "outputId": "8ab1cabb-d7cd-4214-ad4f-de7c128ebe7d",
        "colab": {
          "base_uri": "https://localhost:8080/",
          "height": 625
        }
      },
      "source": [
        "alpha = [10 ** x for x in range(-5, 3)]\n",
        "cv_log_error_array = []\n",
        "for i in alpha:\n",
        "    print(\"for C =\", i)\n",
        "#     clf = SVC(C=i,kernel='linear',probability=True, class_weight='balanced')\n",
        "    clf = SGDClassifier( class_weight='balanced', alpha=i, penalty='l2', loss='hinge', random_state=42)\n",
        "    clf.fit(train_x_onehotCoding, train_y)\n",
        "    sig_clf = CalibratedClassifierCV(clf, method=\"sigmoid\")\n",
        "    sig_clf.fit(train_x_onehotCoding, train_y)\n",
        "    sig_clf_probs = sig_clf.predict_proba(cv_x_onehotCoding)\n",
        "    cv_log_error_array.append(log_loss(cv_y, sig_clf_probs, labels=clf.classes_, eps=1e-15))\n",
        "    print(\"Log Loss :\",log_loss(cv_y, sig_clf_probs)) \n",
        "\n",
        "fig, ax = plt.subplots()\n",
        "ax.plot(alpha, cv_log_error_array,c='g')\n",
        "for i, txt in enumerate(np.round(cv_log_error_array,3)):\n",
        "    ax.annotate((alpha[i],str(txt)), (alpha[i],cv_log_error_array[i]))\n",
        "plt.grid()\n",
        "plt.title(\"Cross Validation Error for each alpha\")\n",
        "plt.xlabel(\"Alpha i's\")\n",
        "plt.ylabel(\"Error measure\")\n",
        "plt.show()\n",
        "\n",
        "\n",
        "best_alpha = np.argmin(cv_log_error_array)\n",
        "# clf = SVC(C=i,kernel='linear',probability=True, class_weight='balanced')\n",
        "clf = SGDClassifier(class_weight='balanced', alpha=alpha[best_alpha], penalty='l2', loss='hinge', random_state=42)\n",
        "clf.fit(train_x_onehotCoding, train_y)\n",
        "sig_clf = CalibratedClassifierCV(clf, method=\"sigmoid\")\n",
        "sig_clf.fit(train_x_onehotCoding, train_y)\n",
        "\n",
        "predict_y = sig_clf.predict_proba(train_x_onehotCoding)\n",
        "print('For values of best alpha = ', alpha[best_alpha], \"The train log loss is:\",log_loss(y_train, predict_y, labels=clf.classes_, eps=1e-15))\n",
        "predict_y = sig_clf.predict_proba(cv_x_onehotCoding)\n",
        "print('For values of best alpha = ', alpha[best_alpha], \"The cross validation log loss is:\",log_loss(y_cv, predict_y, labels=clf.classes_, eps=1e-15))\n",
        "predict_y = sig_clf.predict_proba(test_x_onehotCoding)\n",
        "print('For values of best alpha = ', alpha[best_alpha], \"The test log loss is:\",log_loss(y_test, predict_y, labels=clf.classes_, eps=1e-15))\n",
        "y_pred=clf.predict(test_x_onehotCoding)"
      ],
      "execution_count": 0,
      "outputs": [
        {
          "output_type": "stream",
          "text": [
            "for C = 1e-05\n",
            "Log Loss : 1.5563683822812329\n",
            "for C = 0.0001\n",
            "Log Loss : 1.3047129437974174\n",
            "for C = 0.001\n",
            "Log Loss : 1.2999364633178778\n",
            "for C = 0.01\n",
            "Log Loss : 1.479078720754013\n",
            "for C = 0.1\n",
            "Log Loss : 1.4390277806796572\n",
            "for C = 1\n",
            "Log Loss : 1.7112152540779793\n",
            "for C = 10\n",
            "Log Loss : 1.7160878258190333\n",
            "for C = 100\n",
            "Log Loss : 1.7160879148628165\n"
          ],
          "name": "stdout"
        },
        {
          "output_type": "display_data",
          "data": {
            "image/png": "[encoded data removed]",
            "text/plain": [
              "<Figure size 432x288 with 1 Axes>"
            ]
          },
          "metadata": {
            "tags": []
          }
        },
        {
          "output_type": "stream",
          "text": [
            "For values of best alpha =  0.001 The train log loss is: 0.7147764922421609\n",
            "For values of best alpha =  0.001 The cross validation log loss is: 1.2999364633178778\n",
            "For values of best alpha =  0.001 The test log loss is: 1.2967059348194367\n"
          ],
          "name": "stdout"
        }
      ]
    },
    {
      "cell_type": "code",
      "metadata": {
        "id": "Ynse1F_mSWPv",
        "colab_type": "code",
        "outputId": "4191fc6b-027f-48c7-b347-85d590e07bd7",
        "colab": {
          "base_uri": "https://localhost:8080/",
          "height": 295
        }
      },
      "source": [
        "#from sklearn.metrics import classification_report\n",
        "print(classification_report(y_test,y_pred))"
      ],
      "execution_count": 0,
      "outputs": [
        {
          "output_type": "stream",
          "text": [
            "              precision    recall  f1-score   support\n",
            "\n",
            "           1       0.62      0.57      0.60       114\n",
            "           2       0.55      0.49      0.52        92\n",
            "           3       0.08      0.11      0.10        18\n",
            "           4       0.75      0.62      0.68       138\n",
            "           5       0.32      0.52      0.40        48\n",
            "           6       0.50      0.38      0.43        55\n",
            "           7       0.67      0.71      0.69       192\n",
            "           8       0.10      0.25      0.14         4\n",
            "           9       0.75      0.86      0.80         7\n",
            "\n",
            "    accuracy                           0.58       668\n",
            "   macro avg       0.48      0.50      0.48       668\n",
            "weighted avg       0.60      0.58      0.59       668\n",
            "\n"
          ],
          "name": "stdout"
        }
      ]
    },
    {
      "cell_type": "markdown",
      "metadata": {
        "id": "9yGN3TLAn_n6",
        "colab_type": "text"
      },
      "source": [
        "**WITH TFIDF**"
      ]
    },
    {
      "cell_type": "code",
      "metadata": {
        "id": "TrBr1NYjnPPb",
        "colab_type": "code",
        "outputId": "411442ef-9905-4e81-9ba7-bc735e36298a",
        "colab": {
          "base_uri": "https://localhost:8080/",
          "height": 625
        }
      },
      "source": [
        "alpha = [10 ** x for x in range(-5, 3)]\n",
        "cv_log_error_array = []\n",
        "for i in alpha:\n",
        "    print(\"for C =\", i)\n",
        "#     clf = SVC(C=i,kernel='linear',probability=True, class_weight='balanced')\n",
        "    clf = SGDClassifier( class_weight='balanced', alpha=i, penalty='l2', loss='hinge', random_state=42)\n",
        "    clf.fit(train_x_TFIDF, train_y)\n",
        "    sig_clf = CalibratedClassifierCV(clf, method=\"sigmoid\")\n",
        "    sig_clf.fit(train_x_TFIDF, train_y)\n",
        "    sig_clf_probs = sig_clf.predict_proba(cv_x_TFIDF)\n",
        "    cv_log_error_array.append(log_loss(cv_y, sig_clf_probs, labels=clf.classes_, eps=1e-15))\n",
        "    print(\"Log Loss :\",log_loss(cv_y, sig_clf_probs)) \n",
        "\n",
        "fig, ax = plt.subplots()\n",
        "ax.plot(alpha, cv_log_error_array,c='g')\n",
        "for i, txt in enumerate(np.round(cv_log_error_array,3)):\n",
        "    ax.annotate((alpha[i],str(txt)), (alpha[i],cv_log_error_array[i]))\n",
        "plt.grid()\n",
        "plt.title(\"Cross Validation Error for each alpha\")\n",
        "plt.xlabel(\"Alpha i's\")\n",
        "plt.ylabel(\"Error measure\")\n",
        "plt.show()\n",
        "\n",
        "\n",
        "best_alpha = np.argmin(cv_log_error_array)\n",
        "# clf = SVC(C=i,kernel='linear',probability=True, class_weight='balanced')\n",
        "clf = SGDClassifier(class_weight='balanced', alpha=alpha[best_alpha], penalty='l2', loss='hinge', random_state=42)\n",
        "clf.fit(train_x_TFIDF, train_y)\n",
        "sig_clf = CalibratedClassifierCV(clf, method=\"sigmoid\")\n",
        "sig_clf.fit(train_x_TFIDF, train_y)\n",
        "\n",
        "predict_y = sig_clf.predict_proba(train_x_TFIDF)\n",
        "print('For values of best alpha = ', alpha[best_alpha], \"The train log loss is:\",log_loss(y_train, predict_y, labels=clf.classes_, eps=1e-15))\n",
        "predict_y = sig_clf.predict_proba(cv_x_TFIDF)\n",
        "print('For values of best alpha = ', alpha[best_alpha], \"The cross validation log loss is:\",log_loss(y_cv, predict_y, labels=clf.classes_, eps=1e-15))\n",
        "predict_y = sig_clf.predict_proba(test_x_TFIDF)\n",
        "print('For values of best alpha = ', alpha[best_alpha], \"The test log loss is:\",log_loss(y_test, predict_y, labels=clf.classes_, eps=1e-15))\n",
        "y_pred=clf.predict(test_x_TFIDF)"
      ],
      "execution_count": 0,
      "outputs": [
        {
          "output_type": "stream",
          "text": [
            "for C = 1e-05\n",
            "Log Loss : 1.4708722468368236\n",
            "for C = 0.0001\n",
            "Log Loss : 1.3402674938749082\n",
            "for C = 0.001\n",
            "Log Loss : 1.2288246591987448\n",
            "for C = 0.01\n",
            "Log Loss : 1.3468234869284221\n",
            "for C = 0.1\n",
            "Log Loss : 1.486783902722859\n",
            "for C = 1\n",
            "Log Loss : 1.4936654210658082\n",
            "for C = 10\n",
            "Log Loss : 1.4711215493637437\n",
            "for C = 100\n",
            "Log Loss : 1.6970307240245672\n"
          ],
          "name": "stdout"
        },
        {
          "output_type": "display_data",
          "data": {
            "image/png": "[encoded data removed]",
            "text/plain": [
              "<Figure size 432x288 with 1 Axes>"
            ]
          },
          "metadata": {
            "tags": []
          }
        },
        {
          "output_type": "stream",
          "text": [
            "For values of best alpha =  0.001 The train log loss is: 0.4751882974687579\n",
            "For values of best alpha =  0.001 The cross validation log loss is: 1.2288246591987448\n",
            "For values of best alpha =  0.001 The test log loss is: 1.2126577110692782\n"
          ],
          "name": "stdout"
        }
      ]
    },
    {
      "cell_type": "code",
      "metadata": {
        "id": "Zz0zxn0Xn5xC",
        "colab_type": "code",
        "outputId": "475db1ca-d92b-46a5-de91-175454449f62",
        "colab": {
          "base_uri": "https://localhost:8080/",
          "height": 295
        }
      },
      "source": [
        "#from sklearn.metrics import classification_report\n",
        "print(classification_report(y_test,y_pred))"
      ],
      "execution_count": 0,
      "outputs": [
        {
          "output_type": "stream",
          "text": [
            "              precision    recall  f1-score   support\n",
            "\n",
            "           1       0.62      0.58      0.60       114\n",
            "           2       0.56      0.48      0.51        92\n",
            "           3       0.11      0.11      0.11        18\n",
            "           4       0.76      0.62      0.69       138\n",
            "           5       0.31      0.52      0.39        48\n",
            "           6       0.48      0.40      0.44        55\n",
            "           7       0.65      0.73      0.69       192\n",
            "           8       0.20      0.25      0.22         4\n",
            "           9       0.83      0.71      0.77         7\n",
            "\n",
            "    accuracy                           0.59       668\n",
            "   macro avg       0.50      0.49      0.49       668\n",
            "weighted avg       0.60      0.59      0.59       668\n",
            "\n"
          ],
          "name": "stdout"
        }
      ]
    },
    {
      "cell_type": "markdown",
      "metadata": {
        "id": "qnoc1sKKSy0k",
        "colab_type": "text"
      },
      "source": [
        "# Random Forest Classifier"
      ]
    },
    {
      "cell_type": "markdown",
      "metadata": {
        "id": "78PKnVkSS3Wx",
        "colab_type": "text"
      },
      "source": [
        "## Model with One hot encoder"
      ]
    },
    {
      "cell_type": "code",
      "metadata": {
        "id": "C2ZdRAWzSpLU",
        "colab_type": "code",
        "outputId": "3e982a8e-dd22-4ac1-ae8a-de4141acdba6",
        "colab": {
          "base_uri": "https://localhost:8080/",
          "height": 364
        }
      },
      "source": [
        "alpha = [100,200,500,1000,2000]\n",
        "max_depth = [5, 10]\n",
        "cv_log_error_array = []\n",
        "for i in alpha:\n",
        "    for j in max_depth:\n",
        "        print(\"for n_estimators =\", i,\"and max depth = \", j)\n",
        "        clf = RandomForestClassifier(n_estimators=i, criterion='gini', max_depth=j, random_state=42, n_jobs=-1)\n",
        "        clf.fit(train_x_onehotCoding, train_y)\n",
        "        sig_clf = CalibratedClassifierCV(clf, method=\"sigmoid\")\n",
        "        sig_clf.fit(train_x_onehotCoding, train_y)\n",
        "        sig_clf_probs = sig_clf.predict_proba(cv_x_onehotCoding)\n",
        "        cv_log_error_array.append(log_loss(cv_y, sig_clf_probs, labels=clf.classes_, eps=1e-15))\n",
        "        print(\"Log Loss :\",log_loss(cv_y, sig_clf_probs)) \n"
      ],
      "execution_count": 0,
      "outputs": [
        {
          "output_type": "stream",
          "text": [
            "for n_estimators = 100 and max depth =  5\n",
            "Log Loss : 1.3950452654405427\n",
            "for n_estimators = 100 and max depth =  10\n",
            "Log Loss : 1.3235595204422397\n",
            "for n_estimators = 200 and max depth =  5\n",
            "Log Loss : 1.3983940871454952\n",
            "for n_estimators = 200 and max depth =  10\n",
            "Log Loss : 1.3149553664203244\n",
            "for n_estimators = 500 and max depth =  5\n",
            "Log Loss : 1.3773409515121684\n",
            "for n_estimators = 500 and max depth =  10\n",
            "Log Loss : 1.3006829917920208\n",
            "for n_estimators = 1000 and max depth =  5\n",
            "Log Loss : 1.3746627022321574\n",
            "for n_estimators = 1000 and max depth =  10\n",
            "Log Loss : 1.3015236310643052\n",
            "for n_estimators = 2000 and max depth =  5\n",
            "Log Loss : 1.3778195429540017\n",
            "for n_estimators = 2000 and max depth =  10\n",
            "Log Loss : 1.3042093824199543\n"
          ],
          "name": "stdout"
        }
      ]
    },
    {
      "cell_type": "code",
      "metadata": {
        "id": "B7qOjqTVSwEw",
        "colab_type": "code",
        "outputId": "85cf6048-516f-42b7-ef90-f784413d0dbf",
        "colab": {
          "base_uri": "https://localhost:8080/",
          "height": 69
        }
      },
      "source": [
        "best_alpha = np.argmin(cv_log_error_array)\n",
        "clf = RandomForestClassifier(n_estimators=alpha[int(best_alpha/2)], criterion='gini', max_depth=max_depth[int(best_alpha%2)], random_state=42, n_jobs=-1)\n",
        "clf.fit(train_x_onehotCoding, train_y)\n",
        "sig_clf = CalibratedClassifierCV(clf, method=\"sigmoid\")\n",
        "sig_clf.fit(train_x_onehotCoding, train_y)\n",
        "\n",
        "predict_y = sig_clf.predict_proba(train_x_onehotCoding)\n",
        "print('For values of best estimator = ', alpha[int(best_alpha/2)], \"The train log loss is:\",log_loss(y_train, predict_y, labels=clf.classes_, eps=1e-15))\n",
        "predict_y = sig_clf.predict_proba(cv_x_onehotCoding)\n",
        "print('For values of best estimator = ', alpha[int(best_alpha/2)], \"The cross validation log loss is:\",log_loss(y_cv, predict_y, labels=clf.classes_, eps=1e-15))\n",
        "predict_y = sig_clf.predict_proba(test_x_onehotCoding)\n",
        "print('For values of best estimator = ', alpha[int(best_alpha/2)], \"The test log loss is:\",log_loss(y_test, predict_y, labels=clf.classes_, eps=1e-15))"
      ],
      "execution_count": 0,
      "outputs": [
        {
          "output_type": "stream",
          "text": [
            "For values of best estimator =  500 The train log loss is: 1.1102835431488984\n",
            "For values of best estimator =  500 The cross validation log loss is: 1.3006829917920208\n",
            "For values of best estimator =  500 The test log loss is: 1.2889518881694908\n"
          ],
          "name": "stdout"
        }
      ]
    },
    {
      "cell_type": "code",
      "metadata": {
        "id": "_JJHppcvTELA",
        "colab_type": "code",
        "outputId": "2a0bbd9f-29b8-4404-8145-90829dbefb32",
        "colab": {
          "base_uri": "https://localhost:8080/",
          "height": 295
        }
      },
      "source": [
        "y_pred=clf.predict(test_x_onehotCoding)\n",
        "#from sklearn.metrics import classification_report\n",
        "print(classification_report(y_test,y_pred))"
      ],
      "execution_count": 0,
      "outputs": [
        {
          "output_type": "stream",
          "text": [
            "              precision    recall  f1-score   support\n",
            "\n",
            "           1       0.68      0.13      0.22       114\n",
            "           2       0.83      0.05      0.10        92\n",
            "           3       0.00      0.00      0.00        18\n",
            "           4       0.85      0.32      0.46       138\n",
            "           5       0.00      0.00      0.00        48\n",
            "           6       0.00      0.00      0.00        55\n",
            "           7       0.32      0.99      0.49       192\n",
            "           8       0.00      0.00      0.00         4\n",
            "           9       0.00      0.00      0.00         7\n",
            "\n",
            "    accuracy                           0.38       668\n",
            "   macro avg       0.30      0.17      0.14       668\n",
            "weighted avg       0.50      0.38      0.29       668\n",
            "\n"
          ],
          "name": "stdout"
        }
      ]
    },
    {
      "cell_type": "markdown",
      "metadata": {
        "id": "iAZ8H3B9Tdes",
        "colab_type": "text"
      },
      "source": [
        "## RF with Response Coding"
      ]
    },
    {
      "cell_type": "code",
      "metadata": {
        "id": "DK4ManbPTQ5Z",
        "colab_type": "code",
        "outputId": "939450f3-fd4c-4d04-d973-c81744632837",
        "colab": {
          "base_uri": "https://localhost:8080/",
          "height": 901
        }
      },
      "source": [
        "alpha = [10,50,100,200,500,1000]\n",
        "max_depth = [2,3,5,10]\n",
        "cv_log_error_array = []\n",
        "for i in alpha:\n",
        "    for j in max_depth:\n",
        "        print(\"for n_estimators =\", i,\"and max depth = \", j)\n",
        "        clf = RandomForestClassifier(n_estimators=i, criterion='gini', max_depth=j, random_state=42, n_jobs=-1)\n",
        "        clf.fit(train_x_responseCoding, train_y)\n",
        "        sig_clf = CalibratedClassifierCV(clf, method=\"sigmoid\")\n",
        "        sig_clf.fit(train_x_responseCoding, train_y)\n",
        "        sig_clf_probs = sig_clf.predict_proba(cv_x_responseCoding)\n",
        "        cv_log_error_array.append(log_loss(cv_y, sig_clf_probs, labels=clf.classes_, eps=1e-15))\n",
        "        print(\"Log Loss :\",log_loss(cv_y, sig_clf_probs)) \n",
        "\n",
        "\n",
        "best_alpha = np.argmin(cv_log_error_array)\n",
        "clf = RandomForestClassifier(n_estimators=alpha[int(best_alpha/4)], criterion='gini', max_depth=max_depth[int(best_alpha%4)], random_state=42, n_jobs=-1)\n",
        "clf.fit(train_x_responseCoding, train_y)\n",
        "sig_clf = CalibratedClassifierCV(clf, method=\"sigmoid\")\n",
        "sig_clf.fit(train_x_responseCoding, train_y)\n",
        "\n",
        "predict_y = sig_clf.predict_proba(train_x_responseCoding)\n",
        "print('For values of best alpha = ', alpha[int(best_alpha/4)], \"The train log loss is:\",log_loss(y_train, predict_y, labels=clf.classes_, eps=1e-15))\n",
        "predict_y = sig_clf.predict_proba(cv_x_responseCoding)\n",
        "print('For values of best alpha = ', alpha[int(best_alpha/4)], \"The cross validation log loss is:\",log_loss(y_cv, predict_y, labels=clf.classes_, eps=1e-15))\n",
        "predict_y = sig_clf.predict_proba(test_x_responseCoding)\n",
        "print('For values of best alpha = ', alpha[int(best_alpha/4)], \"The test log loss is:\",log_loss(y_test, predict_y, labels=clf.classes_, eps=1e-15))"
      ],
      "execution_count": 0,
      "outputs": [
        {
          "output_type": "stream",
          "text": [
            "for n_estimators = 10 and max depth =  2\n",
            "Log Loss : 1.981933315744523\n",
            "for n_estimators = 10 and max depth =  3\n",
            "Log Loss : 1.7003157972050715\n",
            "for n_estimators = 10 and max depth =  5\n",
            "Log Loss : 1.4467248783612545\n",
            "for n_estimators = 10 and max depth =  10\n",
            "Log Loss : 1.999746082204016\n",
            "for n_estimators = 50 and max depth =  2\n",
            "Log Loss : 1.823640904508469\n",
            "for n_estimators = 50 and max depth =  3\n",
            "Log Loss : 1.4858104796965772\n",
            "for n_estimators = 50 and max depth =  5\n",
            "Log Loss : 1.484946096144791\n",
            "for n_estimators = 50 and max depth =  10\n",
            "Log Loss : 1.8887381114717499\n",
            "for n_estimators = 100 and max depth =  2\n",
            "Log Loss : 1.615995972770534\n",
            "for n_estimators = 100 and max depth =  3\n",
            "Log Loss : 1.5159821927802977\n",
            "for n_estimators = 100 and max depth =  5\n",
            "Log Loss : 1.4369566895625578\n",
            "for n_estimators = 100 and max depth =  10\n",
            "Log Loss : 1.8960847795260243\n",
            "for n_estimators = 200 and max depth =  2\n",
            "Log Loss : 1.6409971000835137\n",
            "for n_estimators = 200 and max depth =  3\n",
            "Log Loss : 1.520606721344207\n",
            "for n_estimators = 200 and max depth =  5\n",
            "Log Loss : 1.4750007342573772\n",
            "for n_estimators = 200 and max depth =  10\n",
            "Log Loss : 1.8505672544132175\n",
            "for n_estimators = 500 and max depth =  2\n",
            "Log Loss : 1.6475779374833126\n",
            "for n_estimators = 500 and max depth =  3\n",
            "Log Loss : 1.5689372737723308\n",
            "for n_estimators = 500 and max depth =  5\n",
            "Log Loss : 1.4725502565166009\n",
            "for n_estimators = 500 and max depth =  10\n",
            "Log Loss : 1.862070208537688\n",
            "for n_estimators = 1000 and max depth =  2\n",
            "Log Loss : 1.6383446241828696\n",
            "for n_estimators = 1000 and max depth =  3\n",
            "Log Loss : 1.556040233015054\n",
            "for n_estimators = 1000 and max depth =  5\n",
            "Log Loss : 1.4667971574776324\n",
            "for n_estimators = 1000 and max depth =  10\n",
            "Log Loss : 1.87878029308238\n",
            "For values of best alpha =  100 The train log loss is: 0.06593125963507267\n",
            "For values of best alpha =  100 The cross validation log loss is: 1.4369566895625578\n",
            "For values of best alpha =  100 The test log loss is: 1.393520859661603\n"
          ],
          "name": "stdout"
        }
      ]
    },
    {
      "cell_type": "code",
      "metadata": {
        "id": "atx-FyLcTh9u",
        "colab_type": "code",
        "outputId": "d081e9b9-07f6-441b-9273-049fbc39cbe8",
        "colab": {
          "base_uri": "https://localhost:8080/",
          "height": 295
        }
      },
      "source": [
        "y_pred=clf.predict(test_x_responseCoding)\n",
        "#from sklearn.metrics import classification_report\n",
        "print(classification_report(y_test,y_pred))"
      ],
      "execution_count": 0,
      "outputs": [
        {
          "output_type": "stream",
          "text": [
            "              precision    recall  f1-score   support\n",
            "\n",
            "           1       0.36      0.90      0.51       114\n",
            "           2       0.56      0.20      0.29        92\n",
            "           3       0.00      0.00      0.00        18\n",
            "           4       0.78      0.31      0.45       138\n",
            "           5       0.00      0.00      0.00        48\n",
            "           6       0.20      0.02      0.03        55\n",
            "           7       0.59      0.88      0.70       192\n",
            "           8       0.00      0.00      0.00         4\n",
            "           9       0.00      0.00      0.00         7\n",
            "\n",
            "    accuracy                           0.50       668\n",
            "   macro avg       0.28      0.26      0.22       668\n",
            "weighted avg       0.49      0.50      0.42       668\n",
            "\n"
          ],
          "name": "stdout"
        }
      ]
    },
    {
      "cell_type": "markdown",
      "metadata": {
        "id": "eJ5un9LU6UQ1",
        "colab_type": "text"
      },
      "source": [
        "**RF WITH WORD2VEC**"
      ]
    },
    {
      "cell_type": "code",
      "metadata": {
        "colab_type": "code",
        "id": "0HwPr96Y6kCu",
        "outputId": "2cab31fd-0fdd-42fb-f324-99ea7195a348",
        "colab": {
          "base_uri": "https://localhost:8080/",
          "height": 901
        }
      },
      "source": [
        "alpha = [10,50,100,200,500,1000]\n",
        "max_depth = [2,3,5,10]\n",
        "cv_log_error_array = []\n",
        "for i in alpha:\n",
        "    for j in max_depth:\n",
        "        print(\"for n_estimators =\", i,\"and max depth = \", j)\n",
        "        clf = RandomForestClassifier(n_estimators=i, criterion='gini', max_depth=j, random_state=42, n_jobs=-1)\n",
        "        clf.fit(train_x_word2vec, train_y)\n",
        "        sig_clf = CalibratedClassifierCV(clf, method=\"sigmoid\")\n",
        "        sig_clf.fit(train_x_word2vec, train_y)\n",
        "        sig_clf_probs = sig_clf.predict_proba(cv_x_word2vec)\n",
        "        cv_log_error_array.append(log_loss(cv_y, sig_clf_probs, labels=clf.classes_, eps=1e-15))\n",
        "        print(\"Log Loss :\",log_loss(cv_y, sig_clf_probs)) \n",
        "\n",
        "\n",
        "best_alpha = np.argmin(cv_log_error_array)\n",
        "clf = RandomForestClassifier(n_estimators=alpha[int(best_alpha/4)], criterion='gini', max_depth=max_depth[int(best_alpha%4)], random_state=42, n_jobs=-1)\n",
        "clf.fit(train_x_word2vec, train_y)\n",
        "sig_clf = CalibratedClassifierCV(clf, method=\"sigmoid\")\n",
        "sig_clf.fit(train_x_word2vec, train_y)\n",
        "\n",
        "predict_y = sig_clf.predict_proba(train_x_word2vec)\n",
        "print('For values of best alpha = ', alpha[int(best_alpha/4)], \"The train log loss is:\",log_loss(y_train, predict_y, labels=clf.classes_, eps=1e-15))\n",
        "predict_y = sig_clf.predict_proba(cv_x_word2vec)\n",
        "print('For values of best alpha = ', alpha[int(best_alpha/4)], \"The cross validation log loss is:\",log_loss(y_cv, predict_y, labels=clf.classes_, eps=1e-15))\n",
        "predict_y = sig_clf.predict_proba(test_x_word2vec)\n",
        "print('For values of best alpha = ', alpha[int(best_alpha/4)], \"The test log loss is:\",log_loss(y_test, predict_y, labels=clf.classes_, eps=1e-15))"
      ],
      "execution_count": 0,
      "outputs": [
        {
          "output_type": "stream",
          "text": [
            "for n_estimators = 10 and max depth =  2\n",
            "Log Loss : 1.5332922071689252\n",
            "for n_estimators = 10 and max depth =  3\n",
            "Log Loss : 1.4880524386873586\n",
            "for n_estimators = 10 and max depth =  5\n",
            "Log Loss : 1.4696555325481546\n",
            "for n_estimators = 10 and max depth =  10\n",
            "Log Loss : 1.4170575497615867\n",
            "for n_estimators = 50 and max depth =  2\n",
            "Log Loss : 1.3694594179040012\n",
            "for n_estimators = 50 and max depth =  3\n",
            "Log Loss : 1.3574861733823638\n",
            "for n_estimators = 50 and max depth =  5\n",
            "Log Loss : 1.332214273341085\n",
            "for n_estimators = 50 and max depth =  10\n",
            "Log Loss : 1.3147339340885131\n",
            "for n_estimators = 100 and max depth =  2\n",
            "Log Loss : 1.3344572689587364\n",
            "for n_estimators = 100 and max depth =  3\n",
            "Log Loss : 1.3121650479529192\n",
            "for n_estimators = 100 and max depth =  5\n",
            "Log Loss : 1.294284160105759\n",
            "for n_estimators = 100 and max depth =  10\n",
            "Log Loss : 1.2887607863209056\n",
            "for n_estimators = 200 and max depth =  2\n",
            "Log Loss : 1.3151186229500447\n",
            "for n_estimators = 200 and max depth =  3\n",
            "Log Loss : 1.3044281822323358\n",
            "for n_estimators = 200 and max depth =  5\n",
            "Log Loss : 1.2918723062848014\n",
            "for n_estimators = 200 and max depth =  10\n",
            "Log Loss : 1.2785283635549733\n",
            "for n_estimators = 500 and max depth =  2\n",
            "Log Loss : 1.2840609047599623\n",
            "for n_estimators = 500 and max depth =  3\n",
            "Log Loss : 1.281881776401969\n",
            "for n_estimators = 500 and max depth =  5\n",
            "Log Loss : 1.2765662513521423\n",
            "for n_estimators = 500 and max depth =  10\n",
            "Log Loss : 1.274466828741537\n",
            "for n_estimators = 1000 and max depth =  2\n",
            "Log Loss : 1.2831059046132562\n",
            "for n_estimators = 1000 and max depth =  3\n",
            "Log Loss : 1.2815481586764461\n",
            "for n_estimators = 1000 and max depth =  5\n",
            "Log Loss : 1.274966558274473\n",
            "for n_estimators = 1000 and max depth =  10\n",
            "Log Loss : 1.2713145216632478\n",
            "For values of best alpha =  1000 The train log loss is: 0.8866989492197945\n",
            "For values of best alpha =  1000 The cross validation log loss is: 1.2713145216632478\n",
            "For values of best alpha =  1000 The test log loss is: 1.268192260446913\n"
          ],
          "name": "stdout"
        }
      ]
    },
    {
      "cell_type": "code",
      "metadata": {
        "id": "pjCIZIz-7oT2",
        "colab_type": "code",
        "outputId": "373d4f9b-34a3-4cc7-dba7-b32675f34e01",
        "colab": {
          "base_uri": "https://localhost:8080/",
          "height": 295
        }
      },
      "source": [
        "y_pred=clf.predict(test_x_word2vec)\n",
        "#from sklearn.metrics import classification_report\n",
        "print(classification_report(y_test,y_pred))"
      ],
      "execution_count": 0,
      "outputs": [
        {
          "output_type": "stream",
          "text": [
            "              precision    recall  f1-score   support\n",
            "\n",
            "           1       0.74      0.25      0.37       114\n",
            "           2       1.00      0.03      0.06        92\n",
            "           3       0.00      0.00      0.00        18\n",
            "           4       0.68      0.35      0.46       138\n",
            "           5       0.00      0.00      0.00        48\n",
            "           6       0.00      0.00      0.00        55\n",
            "           7       0.34      0.99      0.51       192\n",
            "           8       0.00      0.00      0.00         4\n",
            "           9       0.00      0.00      0.00         7\n",
            "\n",
            "    accuracy                           0.40       668\n",
            "   macro avg       0.31      0.18      0.16       668\n",
            "weighted avg       0.50      0.40      0.31       668\n",
            "\n"
          ],
          "name": "stdout"
        }
      ]
    },
    {
      "cell_type": "markdown",
      "metadata": {
        "id": "WimXCkwGeHA_",
        "colab_type": "text"
      },
      "source": [
        "**RF WITH TF-IDF**"
      ]
    },
    {
      "cell_type": "code",
      "metadata": {
        "id": "yM_uPIB_eCZS",
        "colab_type": "code",
        "outputId": "de6f688e-f7e4-4ead-8d7b-5bb91d293783",
        "colab": {
          "base_uri": "https://localhost:8080/",
          "height": 901
        }
      },
      "source": [
        "alpha = [10,50,100,200,500,1000]\n",
        "max_depth = [2,3,5,10]\n",
        "cv_log_error_array = []\n",
        "for i in alpha:\n",
        "    for j in max_depth:\n",
        "        print(\"for n_estimators =\", i,\"and max depth = \", j)\n",
        "        clf = RandomForestClassifier(n_estimators=i, criterion='gini', max_depth=j, random_state=42, n_jobs=-1)\n",
        "        clf.fit(train_x_TFIDF, train_y)\n",
        "        sig_clf = CalibratedClassifierCV(clf, method=\"sigmoid\")\n",
        "        sig_clf.fit(train_x_TFIDF, train_y)\n",
        "        sig_clf_probs = sig_clf.predict_proba(cv_x_TFIDF)\n",
        "        cv_log_error_array.append(log_loss(cv_y, sig_clf_probs, labels=clf.classes_, eps=1e-15))\n",
        "        print(\"Log Loss :\",log_loss(cv_y, sig_clf_probs)) \n",
        "\n",
        "\n",
        "best_alpha = np.argmin(cv_log_error_array)\n",
        "clf = RandomForestClassifier(n_estimators=alpha[int(best_alpha/4)], criterion='gini', max_depth=max_depth[int(best_alpha%4)], random_state=42, n_jobs=-1)\n",
        "clf.fit(train_x_TFIDF, train_y)\n",
        "sig_clf = CalibratedClassifierCV(clf, method=\"sigmoid\")\n",
        "sig_clf.fit(train_x_TFIDF, train_y)\n",
        "\n",
        "predict_y = sig_clf.predict_proba(train_x_TFIDF)\n",
        "print('For values of best alpha = ', alpha[int(best_alpha/4)], \"The train log loss is:\",log_loss(y_train, predict_y, labels=clf.classes_, eps=1e-15))\n",
        "predict_y = sig_clf.predict_proba(cv_x_TFIDF)\n",
        "print('For values of best alpha = ', alpha[int(best_alpha/4)], \"The cross validation log loss is:\",log_loss(y_cv, predict_y, labels=clf.classes_, eps=1e-15))\n",
        "predict_y = sig_clf.predict_proba(test_x_TFIDF)\n",
        "print('For values of best alpha = ', alpha[int(best_alpha/4)], \"The test log loss is:\",log_loss(y_test, predict_y, labels=clf.classes_, eps=1e-15))"
      ],
      "execution_count": 0,
      "outputs": [
        {
          "output_type": "stream",
          "text": [
            "for n_estimators = 10 and max depth =  2\n",
            "Log Loss : 1.7484428755014376\n",
            "for n_estimators = 10 and max depth =  3\n",
            "Log Loss : 1.686653118339874\n",
            "for n_estimators = 10 and max depth =  5\n",
            "Log Loss : 1.6037622360710384\n",
            "for n_estimators = 10 and max depth =  10\n",
            "Log Loss : 1.4925579444631565\n",
            "for n_estimators = 50 and max depth =  2\n",
            "Log Loss : 1.6231335830856652\n",
            "for n_estimators = 50 and max depth =  3\n",
            "Log Loss : 1.5794341709637159\n",
            "for n_estimators = 50 and max depth =  5\n",
            "Log Loss : 1.4808679277801973\n",
            "for n_estimators = 50 and max depth =  10\n",
            "Log Loss : 1.37330509701392\n",
            "for n_estimators = 100 and max depth =  2\n",
            "Log Loss : 1.6082598468741987\n",
            "for n_estimators = 100 and max depth =  3\n",
            "Log Loss : 1.531871339840382\n",
            "for n_estimators = 100 and max depth =  5\n",
            "Log Loss : 1.440786082322403\n",
            "for n_estimators = 100 and max depth =  10\n",
            "Log Loss : 1.3489817617297009\n",
            "for n_estimators = 200 and max depth =  2\n",
            "Log Loss : 1.5995386250119012\n",
            "for n_estimators = 200 and max depth =  3\n",
            "Log Loss : 1.5509574979478904\n",
            "for n_estimators = 200 and max depth =  5\n",
            "Log Loss : 1.4518116299131105\n",
            "for n_estimators = 200 and max depth =  10\n",
            "Log Loss : 1.3471656246267594\n",
            "for n_estimators = 500 and max depth =  2\n",
            "Log Loss : 1.5771639507891098\n",
            "for n_estimators = 500 and max depth =  3\n",
            "Log Loss : 1.5304229232643614\n",
            "for n_estimators = 500 and max depth =  5\n",
            "Log Loss : 1.4415122238551306\n",
            "for n_estimators = 500 and max depth =  10\n",
            "Log Loss : 1.339696444414302\n",
            "for n_estimators = 1000 and max depth =  2\n",
            "Log Loss : 1.5932047648311798\n",
            "for n_estimators = 1000 and max depth =  3\n",
            "Log Loss : 1.5372941833340175\n",
            "for n_estimators = 1000 and max depth =  5\n",
            "Log Loss : 1.4473651616654077\n",
            "for n_estimators = 1000 and max depth =  10\n",
            "Log Loss : 1.3360547779144571\n",
            "For values of best alpha =  1000 The train log loss is: 1.1034994751330145\n",
            "For values of best alpha =  1000 The cross validation log loss is: 1.3360547779144574\n",
            "For values of best alpha =  1000 The test log loss is: 1.3075161581330363\n"
          ],
          "name": "stdout"
        }
      ]
    },
    {
      "cell_type": "code",
      "metadata": {
        "id": "swPLMNdJfGw8",
        "colab_type": "code",
        "outputId": "d6fec05c-0ac9-4b9b-d3e9-983472da9cda",
        "colab": {
          "base_uri": "https://localhost:8080/",
          "height": 295
        }
      },
      "source": [
        "y_pred=clf.predict(test_x_TFIDF)\n",
        "#from sklearn.metrics import classification_report\n",
        "print(classification_report(y_test,y_pred))"
      ],
      "execution_count": 0,
      "outputs": [
        {
          "output_type": "stream",
          "text": [
            "              precision    recall  f1-score   support\n",
            "\n",
            "           1       0.78      0.12      0.21       114\n",
            "           2       0.80      0.04      0.08        92\n",
            "           3       0.00      0.00      0.00        18\n",
            "           4       0.82      0.33      0.47       138\n",
            "           5       0.00      0.00      0.00        48\n",
            "           6       0.00      0.00      0.00        55\n",
            "           7       0.32      0.98      0.48       192\n",
            "           8       0.00      0.00      0.00         4\n",
            "           9       0.00      0.00      0.00         7\n",
            "\n",
            "    accuracy                           0.38       668\n",
            "   macro avg       0.30      0.16      0.14       668\n",
            "weighted avg       0.50      0.38      0.28       668\n",
            "\n"
          ],
          "name": "stdout"
        }
      ]
    },
    {
      "cell_type": "markdown",
      "metadata": {
        "id": "xsWgzQXlgUfg",
        "colab_type": "text"
      },
      "source": [
        "***NAIVE BAYES***"
      ]
    },
    {
      "cell_type": "markdown",
      "metadata": {
        "id": "3hF2imfMgdud",
        "colab_type": "text"
      },
      "source": [
        "**WITH ONEHOTCODING**"
      ]
    },
    {
      "cell_type": "code",
      "metadata": {
        "id": "NqZRX7W3fPeT",
        "colab_type": "code",
        "outputId": "4d796a8d-0a86-4711-e7a3-616f0b681ac6",
        "colab": {
          "base_uri": "https://localhost:8080/",
          "height": 295
        }
      },
      "source": [
        "alpha = [0.00001, 0.0001, 0.001, 0.1, 1, 10, 100,1000]\n",
        "cv_log_error_array = []\n",
        "for i in alpha:\n",
        "    print(\"for alpha =\", i)\n",
        "    clf = MultinomialNB(alpha=i)\n",
        "    clf.fit(train_x_onehotCoding, train_y)\n",
        "    sig_clf = CalibratedClassifierCV(clf, method=\"sigmoid\")\n",
        "    sig_clf.fit(train_x_onehotCoding, train_y)\n",
        "    sig_clf_probs = sig_clf.predict_proba(cv_x_onehotCoding)\n",
        "    cv_log_error_array.append(log_loss(cv_y, sig_clf_probs, labels=clf.classes_, eps=1e-15))\n",
        "    # to avoid rounding error while multiplying probabilites we use log-probability estimates\n",
        "    print(\"Log Loss :\",log_loss(cv_y, sig_clf_probs)) "
      ],
      "execution_count": 0,
      "outputs": [
        {
          "output_type": "stream",
          "text": [
            "for alpha = 1e-05\n",
            "Log Loss : 1.3636379919304735\n",
            "for alpha = 0.0001\n",
            "Log Loss : 1.36009439103075\n",
            "for alpha = 0.001\n",
            "Log Loss : 1.3469983820465137\n",
            "for alpha = 0.1\n",
            "Log Loss : 1.2530486133220125\n",
            "for alpha = 1\n",
            "Log Loss : 1.220407646231648\n",
            "for alpha = 10\n",
            "Log Loss : 1.2989141588158841\n",
            "for alpha = 100\n",
            "Log Loss : 1.3682118533664347\n",
            "for alpha = 1000\n",
            "Log Loss : 1.3737957951991377\n"
          ],
          "name": "stdout"
        }
      ]
    },
    {
      "cell_type": "code",
      "metadata": {
        "id": "mZ2m6WKGfyJc",
        "colab_type": "code",
        "outputId": "cc333d9a-7885-448c-8637-cc44e0f292c3",
        "colab": {
          "base_uri": "https://localhost:8080/",
          "height": 295
        }
      },
      "source": [
        "fig, ax = plt.subplots()\n",
        "ax.plot(np.log10(alpha), cv_log_error_array,c='g')\n",
        "for i, txt in enumerate(np.round(cv_log_error_array,3)):\n",
        "    ax.annotate((alpha[i],str(txt)), (np.log10(alpha[i]),cv_log_error_array[i]))\n",
        "plt.grid()\n",
        "plt.xticks(np.log10(alpha))\n",
        "plt.title(\"Cross Validation Error for each alpha\")\n",
        "plt.xlabel(\"Alpha i's\")\n",
        "plt.ylabel(\"Error measure\")\n",
        "plt.show()"
      ],
      "execution_count": 0,
      "outputs": [
        {
          "output_type": "display_data",
          "data": {
            "image/png": "[encoded data removed]",
            "text/plain": [
              "<Figure size 432x288 with 1 Axes>"
            ]
          },
          "metadata": {
            "tags": []
          }
        }
      ]
    },
    {
      "cell_type": "code",
      "metadata": {
        "id": "ei3-oaPgfzBh",
        "colab_type": "code",
        "outputId": "564ae255-6278-40e2-8aeb-24ab7d335dfa",
        "colab": {
          "base_uri": "https://localhost:8080/",
          "height": 69
        }
      },
      "source": [
        "best_alpha = np.argmin(cv_log_error_array)\n",
        "clf = MultinomialNB(alpha=alpha[best_alpha])\n",
        "clf.fit(train_x_onehotCoding, train_y)\n",
        "sig_clf = CalibratedClassifierCV(clf, method=\"sigmoid\")\n",
        "sig_clf.fit(train_x_onehotCoding, train_y)\n",
        "\n",
        "\n",
        "predict_y = sig_clf.predict_proba(train_x_onehotCoding)\n",
        "print('For values of best alpha = ', alpha[best_alpha], \"The train log loss is:\",log_loss(y_train, predict_y, labels=clf.classes_, eps=1e-15))\n",
        "predict_y = sig_clf.predict_proba(cv_x_onehotCoding)\n",
        "print('For values of best alpha = ', alpha[best_alpha], \"The cross validation log loss is:\",log_loss(y_cv, predict_y, labels=clf.classes_, eps=1e-15))\n",
        "predict_y = sig_clf.predict_proba(test_x_onehotCoding)\n",
        "print('For values of best alpha = ', alpha[best_alpha], \"The test log loss is:\",log_loss(y_test, predict_y, labels=clf.classes_, eps=1e-15))\n"
      ],
      "execution_count": 0,
      "outputs": [
        {
          "output_type": "stream",
          "text": [
            "For values of best alpha =  1 The train log loss is: 0.769457631913983\n",
            "For values of best alpha =  1 The cross validation log loss is: 1.220407646231648\n",
            "For values of best alpha =  1 The test log loss is: 1.1995942911321664\n"
          ],
          "name": "stdout"
        }
      ]
    },
    {
      "cell_type": "code",
      "metadata": {
        "id": "G6gnG-ajf2ZF",
        "colab_type": "code",
        "outputId": "7fd7ac0a-0dbe-4005-c61d-cb05b7dd009c",
        "colab": {
          "base_uri": "https://localhost:8080/",
          "height": 1000
        }
      },
      "source": [
        "clf = MultinomialNB(alpha=alpha[best_alpha])\n",
        "clf.fit(train_x_onehotCoding, train_y)\n",
        "sig_clf = CalibratedClassifierCV(clf, method=\"sigmoid\")\n",
        "sig_clf.fit(train_x_onehotCoding, train_y)\n",
        "sig_clf_probs = sig_clf.predict_proba(cv_x_onehotCoding)\n",
        "# to avoid rounding error while multiplying probabilites we use log-probability estimates\n",
        "print(\"Log Loss :\",log_loss(cv_y, sig_clf_probs))\n",
        "print(\"Number of missclassified point :\", np.count_nonzero((sig_clf.predict(cv_x_onehotCoding)- cv_y))/cv_y.shape[0])\n",
        "plot_confusion_matrix(cv_y, sig_clf.predict(cv_x_onehotCoding.toarray()))\n"
      ],
      "execution_count": 0,
      "outputs": [
        {
          "output_type": "stream",
          "text": [
            "Log Loss : 1.220407646231648\n",
            "Number of missclassified point : 0.4288389513108614\n",
            "-------------------- Confusion matrix --------------------\n"
          ],
          "name": "stdout"
        },
        {
          "output_type": "display_data",
          "data": {
            "image/png": "[encoded data removed]",
            "text/plain": [
              "<Figure size 1440x504 with 2 Axes>"
            ]
          },
          "metadata": {
            "tags": []
          }
        },
        {
          "output_type": "stream",
          "text": [
            "-------------------- Precision matrix (Columm Sum=1) --------------------\n"
          ],
          "name": "stdout"
        },
        {
          "output_type": "display_data",
          "data": {
            "image/png": "[encoded data removed]",
            "text/plain": [
              "<Figure size 1440x504 with 2 Axes>"
            ]
          },
          "metadata": {
            "tags": []
          }
        },
        {
          "output_type": "stream",
          "text": [
            "-------------------- Recall matrix (Row sum=1) --------------------\n"
          ],
          "name": "stdout"
        },
        {
          "output_type": "display_data",
          "data": {
            "image/png": "[encoded data removed]",
            "text/plain": [
              "<Figure size 1440x504 with 2 Axes>"
            ]
          },
          "metadata": {
            "tags": []
          }
        }
      ]
    },
    {
      "cell_type": "code",
      "metadata": {
        "id": "z11OqjnCgBZA",
        "colab_type": "code",
        "outputId": "2daf7808-9ad2-49f1-81e7-2f2a8bbc6f69",
        "colab": {
          "base_uri": "https://localhost:8080/",
          "height": 295
        }
      },
      "source": [
        "y_pred=clf.predict(test_x_onehotCoding)\n",
        "#from sklearn.metrics import classification_report\n",
        "print(classification_report(y_test,y_pred))"
      ],
      "execution_count": 0,
      "outputs": [
        {
          "output_type": "stream",
          "text": [
            "              precision    recall  f1-score   support\n",
            "\n",
            "           1       0.48      0.70      0.57       114\n",
            "           2       0.75      0.23      0.35        92\n",
            "           3       0.00      0.00      0.00        18\n",
            "           4       0.73      0.67      0.70       138\n",
            "           5       0.00      0.00      0.00        48\n",
            "           6       0.57      0.31      0.40        55\n",
            "           7       0.59      0.95      0.73       192\n",
            "           8       0.00      0.00      0.00         4\n",
            "           9       0.75      0.43      0.55         7\n",
            "\n",
            "    accuracy                           0.59       668\n",
            "   macro avg       0.43      0.37      0.37       668\n",
            "weighted avg       0.56      0.59      0.54       668\n",
            "\n"
          ],
          "name": "stdout"
        }
      ]
    },
    {
      "cell_type": "markdown",
      "metadata": {
        "id": "CKn7oNdygoFB",
        "colab_type": "text"
      },
      "source": [
        "**WITH TF-IDF**"
      ]
    },
    {
      "cell_type": "code",
      "metadata": {
        "id": "1krF6_stgPmx",
        "colab_type": "code",
        "outputId": "7eb4e3c5-e6ee-4da8-fc92-51d7439818ce",
        "colab": {
          "base_uri": "https://localhost:8080/",
          "height": 295
        }
      },
      "source": [
        "alpha = [0.00001, 0.0001, 0.001, 0.1, 1, 10, 100,1000]\n",
        "cv_log_error_array = []\n",
        "for i in alpha:\n",
        "    print(\"for alpha =\", i)\n",
        "    clf = MultinomialNB(alpha=i)\n",
        "    clf.fit(train_x_TFIDF, train_y)\n",
        "    sig_clf = CalibratedClassifierCV(clf, method=\"sigmoid\")\n",
        "    sig_clf.fit(train_x_TFIDF, train_y)\n",
        "    sig_clf_probs = sig_clf.predict_proba(cv_x_TFIDF)\n",
        "    cv_log_error_array.append(log_loss(cv_y, sig_clf_probs, labels=clf.classes_, eps=1e-15))\n",
        "    # to avoid rounding error while multiplying probabilites we use log-probability estimates\n",
        "    print(\"Log Loss :\",log_loss(cv_y, sig_clf_probs)) "
      ],
      "execution_count": 0,
      "outputs": [
        {
          "output_type": "stream",
          "text": [
            "for alpha = 1e-05\n",
            "Log Loss : 1.422984227911748\n",
            "for alpha = 0.0001\n",
            "Log Loss : 1.4019067596980306\n",
            "for alpha = 0.001\n",
            "Log Loss : 1.4051659654169408\n",
            "for alpha = 0.1\n",
            "Log Loss : 1.2934943042048272\n",
            "for alpha = 1\n",
            "Log Loss : 1.2373469856915629\n",
            "for alpha = 10\n",
            "Log Loss : 1.2896242080493268\n",
            "for alpha = 100\n",
            "Log Loss : 1.3767747361056546\n",
            "for alpha = 1000\n",
            "Log Loss : 1.3768082320768633\n"
          ],
          "name": "stdout"
        }
      ]
    },
    {
      "cell_type": "code",
      "metadata": {
        "id": "cOD3oWMrg5dc",
        "colab_type": "code",
        "outputId": "cdfa4454-56f9-4e64-a018-d179c51808a6",
        "colab": {
          "base_uri": "https://localhost:8080/",
          "height": 295
        }
      },
      "source": [
        "fig, ax = plt.subplots()\n",
        "ax.plot(np.log10(alpha), cv_log_error_array,c='g')\n",
        "for i, txt in enumerate(np.round(cv_log_error_array,3)):\n",
        "    ax.annotate((alpha[i],str(txt)), (np.log10(alpha[i]),cv_log_error_array[i]))\n",
        "plt.grid()\n",
        "plt.xticks(np.log10(alpha))\n",
        "plt.title(\"Cross Validation Error for each alpha\")\n",
        "plt.xlabel(\"Alpha i's\")\n",
        "plt.ylabel(\"Error measure\")\n",
        "plt.show()"
      ],
      "execution_count": 0,
      "outputs": [
        {
          "output_type": "display_data",
          "data": {
            "image/png": "[encoded data removed]",
            "text/plain": [
              "<Figure size 432x288 with 1 Axes>"
            ]
          },
          "metadata": {
            "tags": []
          }
        }
      ]
    },
    {
      "cell_type": "code",
      "metadata": {
        "id": "MJuSR9ybhAZl",
        "colab_type": "code",
        "outputId": "dbab32af-9bb9-40bc-b6f0-18daaca32f36",
        "colab": {
          "base_uri": "https://localhost:8080/",
          "height": 69
        }
      },
      "source": [
        "best_alpha = np.argmin(cv_log_error_array)\n",
        "clf = MultinomialNB(alpha=alpha[best_alpha])\n",
        "clf.fit(train_x_TFIDF, train_y)\n",
        "sig_clf = CalibratedClassifierCV(clf, method=\"sigmoid\")\n",
        "sig_clf.fit(train_x_TFIDF, train_y)\n",
        "\n",
        "\n",
        "predict_y = sig_clf.predict_proba(train_x_TFIDF)\n",
        "print('For values of best alpha = ', alpha[best_alpha], \"The train log loss is:\",log_loss(y_train, predict_y, labels=clf.classes_, eps=1e-15))\n",
        "predict_y = sig_clf.predict_proba(cv_x_TFIDF)\n",
        "print('For values of best alpha = ', alpha[best_alpha], \"The cross validation log loss is:\",log_loss(y_cv, predict_y, labels=clf.classes_, eps=1e-15))\n",
        "predict_y = sig_clf.predict_proba(test_x_TFIDF)\n",
        "print('For values of best alpha = ', alpha[best_alpha], \"The test log loss is:\",log_loss(y_test, predict_y, labels=clf.classes_, eps=1e-15))\n"
      ],
      "execution_count": 0,
      "outputs": [
        {
          "output_type": "stream",
          "text": [
            "For values of best alpha =  1 The train log loss is: 0.6458532691821676\n",
            "For values of best alpha =  1 The cross validation log loss is: 1.2373469856915629\n",
            "For values of best alpha =  1 The test log loss is: 1.1970683190501479\n"
          ],
          "name": "stdout"
        }
      ]
    },
    {
      "cell_type": "code",
      "metadata": {
        "id": "V-4vip5_hVlu",
        "colab_type": "code",
        "outputId": "a789c235-6bcf-46dc-98a5-a334300b8acd",
        "colab": {
          "base_uri": "https://localhost:8080/",
          "height": 295
        }
      },
      "source": [
        "y_pred=clf.predict(test_x_TFIDF)\n",
        "#from sklearn.metrics import classification_report\n",
        "print(classification_report(y_test,y_pred))"
      ],
      "execution_count": 0,
      "outputs": [
        {
          "output_type": "stream",
          "text": [
            "              precision    recall  f1-score   support\n",
            "\n",
            "           1       0.48      0.68      0.56       114\n",
            "           2       0.78      0.27      0.40        92\n",
            "           3       0.00      0.00      0.00        18\n",
            "           4       0.73      0.69      0.71       138\n",
            "           5       0.00      0.00      0.00        48\n",
            "           6       0.57      0.31      0.40        55\n",
            "           7       0.60      0.95      0.74       192\n",
            "           8       0.00      0.00      0.00         4\n",
            "           9       0.75      0.43      0.55         7\n",
            "\n",
            "    accuracy                           0.60       668\n",
            "   macro avg       0.43      0.37      0.37       668\n",
            "weighted avg       0.57      0.60      0.55       668\n",
            "\n"
          ],
          "name": "stdout"
        }
      ]
    },
    {
      "cell_type": "markdown",
      "metadata": {
        "id": "G41iIJsDicdY",
        "colab_type": "text"
      },
      "source": [
        "# K Nearest Neighbour Classification"
      ]
    },
    {
      "cell_type": "markdown",
      "metadata": {
        "id": "2lddqtR2kqoP",
        "colab_type": "text"
      },
      "source": [
        "WITH RESPONSECODING"
      ]
    },
    {
      "cell_type": "code",
      "metadata": {
        "id": "txGTla1SiTap",
        "colab_type": "code",
        "outputId": "dde09cbe-1efe-42f9-901a-ffc0b37fd824",
        "colab": {
          "base_uri": "https://localhost:8080/",
          "height": 295
        }
      },
      "source": [
        "alpha = [5, 11, 15, 21, 31, 41, 51, 99]\n",
        "cv_log_error_array = []\n",
        "for i in alpha:\n",
        "    print(\"for alpha =\", i)\n",
        "    clf = KNeighborsClassifier(n_neighbors=i)\n",
        "    clf.fit(train_x_responseCoding, train_y)\n",
        "    sig_clf = CalibratedClassifierCV(clf, method=\"sigmoid\")\n",
        "    sig_clf.fit(train_x_responseCoding, train_y)\n",
        "    sig_clf_probs = sig_clf.predict_proba(cv_x_responseCoding)\n",
        "    cv_log_error_array.append(log_loss(cv_y, sig_clf_probs, labels=clf.classes_, eps=1e-15))\n",
        "    # to avoid rounding error while multiplying probabilites we use log-probability estimates\n",
        "    print(\"Log Loss :\",log_loss(cv_y, sig_clf_probs))"
      ],
      "execution_count": 0,
      "outputs": [
        {
          "output_type": "stream",
          "text": [
            "for alpha = 5\n",
            "Log Loss : 2.144760772758315\n",
            "for alpha = 11\n",
            "Log Loss : 1.7923184862099562\n",
            "for alpha = 15\n",
            "Log Loss : 1.641151466632089\n",
            "for alpha = 21\n",
            "Log Loss : 1.5696735912159838\n",
            "for alpha = 31\n",
            "Log Loss : 1.3912302819175855\n",
            "for alpha = 41\n",
            "Log Loss : 1.256927327067265\n",
            "for alpha = 51\n",
            "Log Loss : 1.2202927195080764\n",
            "for alpha = 99\n",
            "Log Loss : 1.162442935360557\n"
          ],
          "name": "stdout"
        }
      ]
    },
    {
      "cell_type": "code",
      "metadata": {
        "id": "RexFK3aWjHA0",
        "colab_type": "code",
        "outputId": "aac4ad4c-3515-49d6-c905-da033013316f",
        "colab": {
          "base_uri": "https://localhost:8080/",
          "height": 295
        }
      },
      "source": [
        "fig, ax = plt.subplots()\n",
        "ax.plot(alpha, cv_log_error_array,c='g')\n",
        "for i, txt in enumerate(np.round(cv_log_error_array,3)):\n",
        "    ax.annotate((alpha[i],str(txt)), (alpha[i],cv_log_error_array[i]))\n",
        "plt.grid()\n",
        "plt.title(\"Cross Validation Error for each alpha\")\n",
        "plt.xlabel(\"Alpha i's\")\n",
        "plt.ylabel(\"Error measure\")\n",
        "plt.show()"
      ],
      "execution_count": 0,
      "outputs": [
        {
          "output_type": "display_data",
          "data": {
            "image/png": "[encoded data removed]",
            "text/plain": [
              "<Figure size 432x288 with 1 Axes>"
            ]
          },
          "metadata": {
            "tags": []
          }
        }
      ]
    },
    {
      "cell_type": "code",
      "metadata": {
        "id": "Nt8RLM33jaT-",
        "colab_type": "code",
        "outputId": "42b86a7d-4231-41c9-991d-b686a99d38a7",
        "colab": {
          "base_uri": "https://localhost:8080/",
          "height": 69
        }
      },
      "source": [
        "best_alpha = np.argmin(cv_log_error_array)\n",
        "clf = KNeighborsClassifier(n_neighbors=alpha[best_alpha])\n",
        "clf.fit(train_x_responseCoding, train_y)\n",
        "sig_clf = CalibratedClassifierCV(clf, method=\"sigmoid\")\n",
        "sig_clf.fit(train_x_responseCoding, train_y)\n",
        "\n",
        "predict_y = sig_clf.predict_proba(train_x_responseCoding)\n",
        "print('For values of best alpha = ', alpha[best_alpha], \"The train log loss is:\",log_loss(y_train, predict_y, labels=clf.classes_, eps=1e-15))\n",
        "predict_y = sig_clf.predict_proba(cv_x_responseCoding)\n",
        "print('For values of best alpha = ', alpha[best_alpha], \"The cross validation log loss is:\",log_loss(y_cv, predict_y, labels=clf.classes_, eps=1e-15))\n",
        "predict_y = sig_clf.predict_proba(test_x_responseCoding)\n",
        "print('For values of best alpha = ', alpha[best_alpha], \"The test log loss is:\",log_loss(y_test, predict_y, labels=clf.classes_, eps=1e-15))\n"
      ],
      "execution_count": 0,
      "outputs": [
        {
          "output_type": "stream",
          "text": [
            "For values of best alpha =  99 The train log loss is: 0.9317662558058032\n",
            "For values of best alpha =  99 The cross validation log loss is: 1.162442935360557\n",
            "For values of best alpha =  99 The test log loss is: 1.1073379210241359\n"
          ],
          "name": "stdout"
        }
      ]
    },
    {
      "cell_type": "code",
      "metadata": {
        "id": "c17WIGH_jgkn",
        "colab_type": "code",
        "outputId": "e4b516e2-9511-4840-8d2c-e7bc92875b96",
        "colab": {
          "base_uri": "https://localhost:8080/",
          "height": 1000
        }
      },
      "source": [
        "clf = KNeighborsClassifier(n_neighbors=alpha[best_alpha])\n",
        "predict_and_plot_confusion_matrix(train_x_responseCoding, train_y, cv_x_responseCoding, cv_y, clf)"
      ],
      "execution_count": 0,
      "outputs": [
        {
          "output_type": "stream",
          "text": [
            "Log loss : 1.162442935360557\n",
            "Number of mis-classified points : 0.4232209737827715\n",
            "-------------------- Confusion matrix --------------------\n"
          ],
          "name": "stdout"
        },
        {
          "output_type": "display_data",
          "data": {
            "image/png": "[encoded data removed]",
            "text/plain": [
              "<Figure size 1440x504 with 2 Axes>"
            ]
          },
          "metadata": {
            "tags": []
          }
        },
        {
          "output_type": "stream",
          "text": [
            "-------------------- Precision matrix (Columm Sum=1) --------------------\n"
          ],
          "name": "stdout"
        },
        {
          "output_type": "display_data",
          "data": {
            "image/png": "[encoded data removed]",
            "text/plain": [
              "<Figure size 1440x504 with 2 Axes>"
            ]
          },
          "metadata": {
            "tags": []
          }
        },
        {
          "output_type": "stream",
          "text": [
            "-------------------- Recall matrix (Row sum=1) --------------------\n"
          ],
          "name": "stdout"
        },
        {
          "output_type": "display_data",
          "data": {
            "image/png": "[encoded data removed]",
            "text/plain": [
              "<Figure size 1440x504 with 2 Axes>"
            ]
          },
          "metadata": {
            "tags": []
          }
        }
      ]
    },
    {
      "cell_type": "code",
      "metadata": {
        "id": "24yoRZdSj-gs",
        "colab_type": "code",
        "outputId": "d63e11c7-a47e-492a-a732-cea7b297743b",
        "colab": {
          "base_uri": "https://localhost:8080/",
          "height": 295
        }
      },
      "source": [
        "y_pred=clf.predict(test_x_responseCoding)\n",
        "#from sklearn.metrics import classification_report\n",
        "print(classification_report(y_test,y_pred))"
      ],
      "execution_count": 0,
      "outputs": [
        {
          "output_type": "stream",
          "text": [
            "              precision    recall  f1-score   support\n",
            "\n",
            "           1       0.61      0.61      0.61       114\n",
            "           2       0.67      0.24      0.35        92\n",
            "           3       0.00      0.00      0.00        18\n",
            "           4       0.67      0.69      0.68       138\n",
            "           5       0.00      0.00      0.00        48\n",
            "           6       0.35      0.55      0.43        55\n",
            "           7       0.60      0.91      0.72       192\n",
            "           8       0.00      0.00      0.00         4\n",
            "           9       0.75      0.43      0.55         7\n",
            "\n",
            "    accuracy                           0.59       668\n",
            "   macro avg       0.41      0.38      0.37       668\n",
            "weighted avg       0.54      0.59      0.54       668\n",
            "\n"
          ],
          "name": "stdout"
        }
      ]
    },
    {
      "cell_type": "code",
      "metadata": {
        "id": "165_o84pmV-E",
        "colab_type": "code",
        "colab": {}
      },
      "source": [
        ""
      ],
      "execution_count": 0,
      "outputs": []
    }
  ]
}